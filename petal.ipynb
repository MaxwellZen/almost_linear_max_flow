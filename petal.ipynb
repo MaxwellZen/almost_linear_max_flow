{
 "cells": [
  {
   "cell_type": "code",
   "execution_count": 1,
   "id": "8aef4a38-9d15-4d1a-9a43-062ad0c276c9",
   "metadata": {},
   "outputs": [
    {
     "name": "stdout",
     "output_type": "stream",
     "text": [
      "Shortest distance from A to F: {'A': 0, 'B': 2, 'C': 12, 'D': 7, 'E': 8, 'F': 9, 'G': 6}\n",
      "Shortest path from A to F: A -> B -> D -> F\n"
     ]
    }
   ],
   "source": [
    "#Written by ChatGPT\n",
    "\n",
    "import heapq\n",
    "import math\n",
    "\n",
    "class FibonacciHeapNode:\n",
    "    def __init__(self, node, key):\n",
    "        self.node = node\n",
    "        self.key = key\n",
    "        self.parent = None\n",
    "        self.child = None\n",
    "        self.left = self\n",
    "        self.right = self\n",
    "        self.degree = 0\n",
    "        self.marked = False\n",
    "\n",
    "class FibonacciHeap:\n",
    "    def __init__(self):\n",
    "        self.min_node = None\n",
    "        self.nodes = {}\n",
    "\n",
    "    def insert(self, node, key):\n",
    "        new_node = FibonacciHeapNode(node, key)\n",
    "        self.nodes[node] = new_node\n",
    "        if not self.min_node or key < self.min_node.key:\n",
    "            self.min_node = new_node\n",
    "\n",
    "    def extract_min(self):\n",
    "        if self.min_node:\n",
    "            min_node = self.min_node\n",
    "            if min_node.child:\n",
    "                child = min_node.child\n",
    "                while True:\n",
    "                    next_child = child.right\n",
    "                    child.left = min_node\n",
    "                    child.right = min_node.right\n",
    "                    min_node.right.left = child\n",
    "                    min_node.right = child\n",
    "                    if next_child == min_node.child:\n",
    "                        break\n",
    "                    child = next_child\n",
    "            min_node.left.right = min_node.right\n",
    "            min_node.right.left = min_node.left\n",
    "            if min_node == min_node.right:\n",
    "                self.min_node = None\n",
    "            else:\n",
    "                self.min_node = min_node.right\n",
    "                self.consolidate()\n",
    "            del self.nodes[min_node.node]\n",
    "            return min_node.node, min_node.key\n",
    "        return None, None\n",
    "\n",
    "    def consolidate(self):\n",
    "        max_degree = int(2 * (math.log(len(self.nodes)) / math.log(1 + math.sqrt(5))))\n",
    "        degree_table = [None] * (max_degree + 1)\n",
    "        current = self.min_node\n",
    "        unprocessed_nodes = [current]\n",
    "        while True:\n",
    "            current = current.right\n",
    "            if current == self.min_node:\n",
    "                break\n",
    "            unprocessed_nodes.append(current)\n",
    "        for node in unprocessed_nodes:\n",
    "            degree = node.degree\n",
    "            while degree_table[degree]:\n",
    "                other = degree_table[degree]\n",
    "                if node.key > other.key:\n",
    "                    node, other = other, node\n",
    "                self.link(other, node)\n",
    "                degree_table[degree] = None\n",
    "                degree += 1\n",
    "            degree_table[degree] = node\n",
    "        for entry in degree_table:\n",
    "            if entry and entry.key < self.min_node.key:\n",
    "                self.min_node = entry\n",
    "\n",
    "    def link(self, node1, node2):\n",
    "        node1.right.left = node1.left\n",
    "        node1.left.right = node1.right\n",
    "        node1.parent = node2\n",
    "        if not node2.child:\n",
    "            node2.child = node1\n",
    "            node1.right = node1\n",
    "            node1.left = node1\n",
    "        else:\n",
    "            node1.left = node2.child\n",
    "            node1.right = node2.child.right\n",
    "            node2.child.right.left = node1\n",
    "            node2.child.right = node1\n",
    "        node2.degree += 1\n",
    "        node1.marked = False\n",
    "\n",
    "# def dijkstra(graph, start):\n",
    "#     distances = {}\n",
    "#     predecessors = {}\n",
    "#     heap = FibonacciHeap()\n",
    "    \n",
    "#     for node in graph:\n",
    "#         distances[node] = float('inf')\n",
    "#     distances[start] = 0\n",
    "#     heap.insert(start, 0)\n",
    "#     while heap.min_node:\n",
    "#         current_node, current_distance = heap.extract_min()\n",
    "#         print(\"Current Node:\", current_node, \"Distance:\", current_distance)\n",
    "#         if current_distance > distances[current_node]:\n",
    "#             continue\n",
    "        \n",
    "#         for neighbor, weight in graph[current_node].items():\n",
    "#             #print('neighbor', neighbor, 'cur_node', current_node)\n",
    "#             distance = current_distance + weight\n",
    "#             #print(distances, neighbor)\n",
    "#             if distance < distances[neighbor]:\n",
    "#                 distances[neighbor] = distance\n",
    "#                 predecessors[neighbor] = current_node\n",
    "#                 heap.insert(neighbor, distance)\n",
    "#     #print('Done with Dijkstra')\n",
    "#     #print('dijkstra', distances)\n",
    "#     return distances, predecessors\n",
    "\n",
    "def dijkstra(graph, start):\n",
    "    distances = {node: float('inf') for node in graph}\n",
    "    predecessors = {node: None for node in graph}\n",
    "    distances[start] = 0\n",
    "    \n",
    "    priority_queue = [(0, start)]\n",
    "    \n",
    "    while priority_queue:\n",
    "        current_distance, current_node = heapq.heappop(priority_queue)\n",
    "        \n",
    "        if current_distance > distances[current_node]:\n",
    "            continue\n",
    "        #print(graph)\n",
    "        for neighbor, weight in graph[current_node].items():\n",
    "            distance = current_distance + weight\n",
    "            if distance < distances[neighbor]:\n",
    "                distances[neighbor] = distance\n",
    "                predecessors[neighbor] = current_node  # Store the predecessor\n",
    "                heapq.heappush(priority_queue, (distance, neighbor))\n",
    "    \n",
    "    return distances, predecessors\n",
    "\n",
    "def shortest_path(graph, start, end, predecessors):\n",
    "    path = []\n",
    "    while end:\n",
    "        path.insert(0, end)\n",
    "        end = predecessors.get(end, None)\n",
    "    return path\n",
    "\n",
    "# Example usage:\n",
    "graph = {\n",
    "    'A': {'B': 2, 'D': 8, 'G' : 6},\n",
    "    'B': {'A': 2, 'D': 5, 'E': 6},\n",
    "    'C': {'E': 9, 'F': 3},\n",
    "    'D': {'A': 8, 'B': 5, 'E': 3, 'F': 2},\n",
    "    'E': {'B': 6, 'C': 9, 'D': 3, 'F': 1, 'G': 4},\n",
    "    'F': {'D': 2, 'E': 1, 'C': 3},\n",
    "    'G': {'A': 6, 'E': 4}\n",
    "}\n",
    "\n",
    "start_node = 'A'\n",
    "end_node = 'F'\n",
    "\n",
    "shortest_distance, predecessors = dijkstra(graph, start_node)\n",
    "shortest_path_to_D = shortest_path(graph, start_node, end_node, predecessors)\n",
    "\n",
    "print(f\"Shortest distance from {start_node} to {end_node}: {shortest_distance}\")\n",
    "print(f\"Shortest path from {start_node} to {end_node}: {' -> '.join(shortest_path_to_D)}\")"
   ]
  },
  {
   "cell_type": "code",
   "execution_count": 2,
   "id": "b5ee8c8f-b538-4f01-8bbb-f0e864ef740c",
   "metadata": {},
   "outputs": [],
   "source": [
    "import heapq\n",
    "#import heapq\n",
    "\n"
   ]
  },
  {
   "cell_type": "code",
   "execution_count": 3,
   "id": "f003ac39-4f69-4c7d-9317-dc568aa36a5d",
   "metadata": {},
   "outputs": [
    {
     "data": {
      "text/plain": [
       "{'A': None, 'B': 'A', 'C': 'F', 'D': 'B', 'E': 'B', 'F': 'D', 'G': 'A'}"
      ]
     },
     "execution_count": 3,
     "metadata": {},
     "output_type": "execute_result"
    }
   ],
   "source": [
    "predecessors"
   ]
  },
  {
   "cell_type": "code",
   "execution_count": 4,
   "id": "d4d368e9-1147-4f44-9d8f-b7717c087d87",
   "metadata": {},
   "outputs": [],
   "source": [
    "def create_directed_graph(graph, shortest_distance):\n",
    "    '''Creates a directed graph as specified on page 19 or 245 of AN19.'''\n",
    "    directed = {}\n",
    "    for u in graph: #first vertex\n",
    "        if u not in directed:\n",
    "            directed[u] = {}\n",
    "        for v in graph[u]: #second vertex\n",
    "            directed[u][v] = graph[u][v] - (shortest_distance[v] - shortest_distance[u])\n",
    "            #directed[v][u] = graph[v][u] - (shortest_distance[u] - shortest_distance[v])\n",
    "    return directed"
   ]
  },
  {
   "cell_type": "code",
   "execution_count": 5,
   "id": "5558a413-d1e8-4e03-99ec-92c8017cf31a",
   "metadata": {},
   "outputs": [],
   "source": [
    "d = create_directed_graph(graph, shortest_distance)"
   ]
  },
  {
   "cell_type": "code",
   "execution_count": 6,
   "id": "99573741-f2b3-474c-80cf-a1be3b5c7d4c",
   "metadata": {},
   "outputs": [
    {
     "data": {
      "text/plain": [
       "{'A': {'B': 0, 'D': 1, 'G': 0},\n",
       " 'B': {'A': 4, 'D': 0, 'E': 0},\n",
       " 'C': {'E': 13, 'F': 6},\n",
       " 'D': {'A': 15, 'B': 10, 'E': 2, 'F': 0},\n",
       " 'E': {'B': 12, 'C': 5, 'D': 4, 'F': 0, 'G': 6},\n",
       " 'F': {'D': 4, 'E': 2, 'C': 0},\n",
       " 'G': {'A': 12, 'E': 2}}"
      ]
     },
     "execution_count": 6,
     "metadata": {},
     "output_type": "execute_result"
    }
   ],
   "source": [
    "d"
   ]
  },
  {
   "cell_type": "code",
   "execution_count": 7,
   "id": "5f76de64-fcea-4457-841d-aa06bcf3ff7c",
   "metadata": {},
   "outputs": [
    {
     "data": {
      "text/plain": [
       "({'A': 16, 'B': 12, 'C': 0, 'D': 4, 'E': 0, 'F': 0, 'G': 6},\n",
       " {'A': 'B', 'B': 'E', 'C': 'F', 'D': 'E', 'E': None, 'F': 'E', 'G': 'E'})"
      ]
     },
     "execution_count": 7,
     "metadata": {},
     "output_type": "execute_result"
    }
   ],
   "source": [
    "dijkstra(d, 'E')"
   ]
  },
  {
   "cell_type": "code",
   "execution_count": 8,
   "id": "eef4dffe-1b7c-4338-9713-b2a62de26ba9",
   "metadata": {},
   "outputs": [
    {
     "data": {
      "text/plain": [
       "({'A': 0, 'B': 2, 'C': 12, 'D': 7, 'E': 8, 'F': 9, 'G': 6},\n",
       " {'A': None, 'B': 'A', 'C': 'F', 'D': 'B', 'E': 'B', 'F': 'D', 'G': 'A'})"
      ]
     },
     "execution_count": 8,
     "metadata": {},
     "output_type": "execute_result"
    }
   ],
   "source": [
    "dijkstra(graph, 'A')"
   ]
  },
  {
   "cell_type": "code",
   "execution_count": 9,
   "id": "a46e23e6-6e0b-430e-af3e-5742a1256c90",
   "metadata": {},
   "outputs": [],
   "source": [
    "def is_undirected(graph):\n",
    "    # Create a set to store checked edges\n",
    "    checked_edges = set()\n",
    "\n",
    "    # Iterate through each node in the graph\n",
    "    for node, neighbors in graph.items():\n",
    "        for neighbor, length in neighbors.items():\n",
    "            # Check if the reverse edge exists and has the same length\n",
    "            if (neighbor, node) in checked_edges:\n",
    "                if graph[neighbor][node] != length:\n",
    "                    print(f'neigbhor = {neighbor} and node = {node}')\n",
    "                    return False\n",
    "            else:\n",
    "                checked_edges.add((node, neighbor))\n",
    "\n",
    "    return True"
   ]
  },
  {
   "cell_type": "code",
   "execution_count": 10,
   "id": "c753c789-053b-41e1-b9dc-993c50d39407",
   "metadata": {},
   "outputs": [
    {
     "name": "stdout",
     "output_type": "stream",
     "text": [
      "The graph is connected.\n"
     ]
    }
   ],
   "source": [
    "def is_connected(graph):\n",
    "    if not graph:\n",
    "        # An empty graph is considered connected\n",
    "        return True\n",
    "\n",
    "    def dfs(node, visited):\n",
    "        visited[node] = True\n",
    "        for neighbor in graph[node]:\n",
    "            if not visited[neighbor]:\n",
    "                dfs(neighbor, visited)\n",
    "\n",
    "    # Initialize a dictionary to keep track of visited nodes\n",
    "    visited = {node: False for node in graph}\n",
    "\n",
    "    # Choose any node as the starting point\n",
    "    start_node = next(iter(graph))\n",
    "    dfs(start_node, visited)\n",
    "\n",
    "    # Check if all nodes have been visited\n",
    "    return all(visited[node] for node in graph)\n",
    "\n",
    "# Example usage:\n",
    "graph = {\n",
    "    'A': {'B': 2, 'D': 8, 'G' : 6},\n",
    "    'B': {'A': 2, 'D': 5, 'E': 6},\n",
    "    'C': {'E': 9, 'F': 3},\n",
    "    'D': {'A': 8, 'B': 5, 'E': 3, 'F': 2},\n",
    "    'E': {'B': 6, 'C': 9, 'D': 3, 'F': 1, 'G': 4},\n",
    "    'F': {'D': 2, 'E': 1, 'C': 3},\n",
    "    'G': {'A': 6, 'E': 4}\n",
    "}\n",
    "\n",
    "connected = is_connected(graph)\n",
    "if connected:\n",
    "    print(\"The graph is connected.\")\n",
    "else:\n",
    "    print(\"The graph is not connected.\")"
   ]
  },
  {
   "cell_type": "code",
   "execution_count": 11,
   "id": "7ff52132-e3ab-4bf2-b712-b263c9422695",
   "metadata": {},
   "outputs": [],
   "source": [
    "# def create_petal(graph, x, t, r, directed = None): #Edit this to take in the directed graph as a parameter Y that is computed separately\n",
    "#     assert x in graph\n",
    "#     assert t in graph\n",
    "#     shortest_distance, predecessors = dijkstra(graph, x)\n",
    "#     if directed == None:\n",
    "#         directed = create_directed_graph(graph, shortest_distance)\n",
    "    \n",
    "#     shortest_path_to_t = shortest_path(graph, x, t, predecessors)\n",
    "#     if x != t and len(shortest_path_to_t) == 1:\n",
    "#         print(x, t, shortest_distance[t])\n",
    "#     shortest_distance_directed, predecessors_directed = dijkstra(directed, t)\n",
    "#     t_dist = shortest_distance_directed[t]\n",
    "#     r_prime = x\n",
    "#     shortest_path_rprime = []\n",
    "#     r_prime_idx = -1\n",
    "#     for i in range(len(shortest_path_to_t)):\n",
    "#         v = shortest_path_to_t[i]\n",
    "#         d = t_dist - shortest_distance[v]\n",
    "\n",
    "#         if d < r:\n",
    "#             r_prime = v\n",
    "#             r_prime_idx = i\n",
    "#             break\n",
    "    \n",
    "#     for i in range(r_prime_idx, len(shortest_path_to_t)):\n",
    "#         shortest_path_rprime.append(shortest_path_to_t[i])\n",
    "    \n",
    "#     petal = {}\n",
    "#     for v in shortest_distance_directed:\n",
    "#         if shortest_distance_directed[v] < r/2:\n",
    "#             petal[v] = {}\n",
    "#     for v in shortest_path_rprime:\n",
    "#         petal[v] = {}\n",
    "        \n",
    "#     for u in petal:\n",
    "#         for v in graph[u]:\n",
    "#             if v in petal:\n",
    "#                 petal[u][v] = graph[u][v]\n",
    "\n",
    "#     if not is_connected(petal):\n",
    "#         print(petal)\n",
    "#         raise ValueError(f'Petal = {petal} not connected')\n",
    "#     if len(petal) == 1:\n",
    "#         r_prime = list(petal.keys())[0]\n",
    "#     return petal, r_prime, shortest_path_to_t"
   ]
  },
  {
   "cell_type": "code",
   "execution_count": 12,
   "id": "c9d9896e-60bc-4947-8252-e50085fe3735",
   "metadata": {},
   "outputs": [],
   "source": [
    "def create_petal(graph, x, t, r): #Edit this to take in the directed graph as a parameter Y that is computed separately\n",
    "    assert x in graph\n",
    "    assert t in graph\n",
    "    shortest_distance, predecessors = dijkstra(graph, x)\n",
    "    directed = create_directed_graph(graph, shortest_distance)\n",
    "    \n",
    "    shortest_path_to_t = shortest_path(graph, x, t, predecessors)\n",
    "    if x != t and len(shortest_path_to_t) == 1:\n",
    "        print(x, t, shortest_distance[t])\n",
    "    shortest_distance_directed, predecessors_directed = dijkstra(directed, t)\n",
    "\n",
    "    t_dist = shortest_distance[t]\n",
    "    assert t_dist != float('inf')\n",
    "    r_prime = t\n",
    "    r_prime_idx = -1\n",
    "    #shortest_path_rprime = []\n",
    "    \n",
    "    for v in shortest_path_to_t:\n",
    "        #shortest_path_rprime.append(v)\n",
    "        r_prime_idx += 1\n",
    "        if t_dist - shortest_distance[v] < r:\n",
    "            r_prime = v\n",
    "            break\n",
    "    shortest_path_rprime = shortest_path_to_t[r_prime_idx:]\n",
    "    \n",
    "    petal = {}\n",
    "    for v in shortest_distance_directed:\n",
    "        if shortest_distance_directed[v] < r/2:\n",
    "            petal[v] = {}\n",
    "    for v in shortest_path_rprime:\n",
    "        petal[v] = {}\n",
    "        \n",
    "    for u in petal:\n",
    "        for v in graph[u]:\n",
    "            if v in petal:\n",
    "                petal[u][v] = graph[u][v]\n",
    "\n",
    "    if not is_connected(petal):\n",
    "        print(petal)\n",
    "        raise ValueError(f'Petal = {petal} not connected')\n",
    "    if len(petal) == 1:\n",
    "        r_prime = list(petal.keys())[0]\n",
    "\n",
    "    return petal, r_prime, shortest_path_to_t "
   ]
  },
  {
   "cell_type": "code",
   "execution_count": 13,
   "id": "a7989f34-17d9-4954-a82f-b46300d89cd3",
   "metadata": {},
   "outputs": [],
   "source": [
    "#graph = {'0': {'1': 37.0}, '1': {'0': 37.0, '6': 92.0}, '2': {'3': 5.0}, '3': {'2': 5.0, '4': 30.0}, '4': {'3': 30.0, '6': 20.0}, '5': {'6': 4.0}, '6': {'5': 4.0, '4': 20.0, '1': 92.0}}"
   ]
  },
  {
   "cell_type": "code",
   "execution_count": 14,
   "id": "284e1524-0846-4f58-9b4c-cbcd4becf939",
   "metadata": {},
   "outputs": [],
   "source": [
    "#hierarchical_petal_decomposition(graph, '1', '5')"
   ]
  },
  {
   "cell_type": "code",
   "execution_count": 15,
   "id": "44e9f8ac-3c7e-40a5-8f6b-0bf2624f3e05",
   "metadata": {},
   "outputs": [
    {
     "name": "stdout",
     "output_type": "stream",
     "text": [
      "{'A': {'B': 0, 'D': 1, 'G': 0}, 'B': {'A': 4, 'D': 0, 'E': 0}, 'C': {'E': 13, 'F': 6}, 'D': {'A': 15, 'B': 10, 'E': 2, 'F': 0}, 'E': {'B': 12, 'C': 5, 'D': 4, 'F': 0, 'G': 6}, 'F': {'D': 4, 'E': 2, 'C': 0}, 'G': {'A': 12, 'E': 2}}\n"
     ]
    },
    {
     "data": {
      "text/plain": [
       "({'C': {'F': 3}, 'F': {'C': 3}}, 'F', ['A', 'B', 'D', 'F', 'C'])"
      ]
     },
     "execution_count": 15,
     "metadata": {},
     "output_type": "execute_result"
    }
   ],
   "source": [
    "create_petal(graph, 'A', 'C', 12 - 5*12/8)"
   ]
  },
  {
   "cell_type": "code",
   "execution_count": 16,
   "id": "4e3171e5-fb01-4876-980f-e167319457c8",
   "metadata": {},
   "outputs": [
    {
     "data": {
      "text/plain": [
       "{'A': {'B': 2, 'D': 8, 'G': 6},\n",
       " 'B': {'A': 2, 'D': 5, 'E': 6},\n",
       " 'C': {'E': 9, 'F': 3},\n",
       " 'D': {'A': 8, 'B': 5, 'E': 3, 'F': 2},\n",
       " 'E': {'B': 6, 'C': 9, 'D': 3, 'F': 1, 'G': 4},\n",
       " 'F': {'D': 2, 'E': 1, 'C': 3},\n",
       " 'G': {'A': 6, 'E': 4}}"
      ]
     },
     "execution_count": 16,
     "metadata": {},
     "output_type": "execute_result"
    }
   ],
   "source": [
    "graph"
   ]
  },
  {
   "cell_type": "code",
   "execution_count": 17,
   "id": "674891fd-fa9c-4d19-8a5b-cbaf789049b4",
   "metadata": {},
   "outputs": [],
   "source": [
    "def maintain_graph_difference(G, H):\n",
    "    result = {}\n",
    "\n",
    "    for u, neighbors in G.items():\n",
    "        if u not in H:\n",
    "            result[u] = {}\n",
    "        \n",
    "        for v in neighbors:\n",
    "            if u not in H and v not in H:\n",
    "                if u not in result:\n",
    "                    result[u] = {}\n",
    "                result[u][v] = G[u][v]\n",
    "\n",
    "    return result"
   ]
  },
  {
   "cell_type": "code",
   "execution_count": 18,
   "id": "5aff7958-7bb0-43a2-aa5c-34ed9ae3db2c",
   "metadata": {},
   "outputs": [
    {
     "data": {
      "text/plain": [
       "{'A': {'B': 2, 'D': 8, 'G': 6},\n",
       " 'B': {'A': 2, 'D': 5, 'E': 6},\n",
       " 'C': {'E': 9, 'F': 3},\n",
       " 'D': {'A': 8, 'B': 5, 'E': 3, 'F': 2},\n",
       " 'E': {'B': 6, 'C': 9, 'D': 3, 'F': 1, 'G': 4},\n",
       " 'F': {'D': 2, 'E': 1, 'C': 3},\n",
       " 'G': {'A': 6, 'E': 4}}"
      ]
     },
     "execution_count": 18,
     "metadata": {},
     "output_type": "execute_result"
    }
   ],
   "source": [
    "graph"
   ]
  },
  {
   "cell_type": "code",
   "execution_count": 19,
   "id": "9430bf8c-8b14-45af-8bcd-4d4b13731ecc",
   "metadata": {},
   "outputs": [
    {
     "data": {
      "text/plain": [
       "{'C': {'E': 9, 'F': 3},\n",
       " 'D': {'E': 3, 'F': 2},\n",
       " 'E': {'C': 9, 'D': 3, 'F': 1, 'G': 4},\n",
       " 'F': {'D': 2, 'E': 1, 'C': 3},\n",
       " 'G': {'E': 4}}"
      ]
     },
     "execution_count": 19,
     "metadata": {},
     "output_type": "execute_result"
    }
   ],
   "source": [
    "maintain_graph_difference(graph, ['A', 'B'])"
   ]
  },
  {
   "cell_type": "code",
   "execution_count": 105,
   "id": "1ed0d375-772f-4479-afba-81d97f328489",
   "metadata": {},
   "outputs": [],
   "source": [
    "def petal_decomposition(graph, x, t):\n",
    "    assert x in graph\n",
    "    if t not in graph:\n",
    "        raise ValueError(f't = {t} not in graph vertices = {list(graph.keys())}')\n",
    "    shortest_distance, predecessors = dijkstra(graph, x)\n",
    "    r = max(shortest_distance.values())\n",
    "    #print(f'radius = {r}')\n",
    "    #print('d', shortest_distance)\n",
    "    Ys = [graph]\n",
    "    Xs = []\n",
    "    ys = []\n",
    "    xs = [x]\n",
    "    ts = []\n",
    "    j = 1\n",
    "    if shortest_distance[t] > 5*r/8:\n",
    "        \n",
    "        X_1, x_1, path = create_petal(graph, x, t, shortest_distance[t] - 5*r/8)\n",
    "        print('special petal', X_1, x_1, t, path)\n",
    "        #print('HI', X_1, x_1, t)\n",
    "        #Ys.append({key : value for key, value in Ys[0].items() if key not in X_1})\n",
    "        Ys.append(maintain_graph_difference(Ys[0], X_1))\n",
    "        Xs.append(X_1)\n",
    "        xs.append(x_1)\n",
    "        \n",
    "        y1 = x\n",
    "        min_distance = r\n",
    "        #if x_1 != t:\n",
    "        #path = shortest_path(graph, x, t, predecessors)\n",
    "        #print('path', path)\n",
    "        for i in range(len(path)):\n",
    "            if path[i] == x_1:\n",
    "                y1 = path[i-1]\n",
    "                break\n",
    "\n",
    "        j = 2\n",
    "        ts = [y1, t]\n",
    "        ys = [y1]\n",
    "        if y1 in X_1 and x_1 != t:\n",
    "            raise ValueError(f'y1 = {y1} should not be in X1 = {X_1}')\n",
    "        \n",
    "    else:\n",
    "        ts = [t] \n",
    "    while True:\n",
    "        shortest_distance, predecessors = dijkstra(Ys[-1], x)\n",
    "        #print(graph)\n",
    "        ball = {key : value for key, value in shortest_distance.items() if shortest_distance[key] < 3*r/4}\n",
    "        leftover = [v for v in Ys[-1] if v not in ball and shortest_distance[v] != float('inf')] #maintain_graph_difference(Ys[-1], ball)\n",
    "        if len(leftover) == 0:\n",
    "            break\n",
    "        else:\n",
    "            #print('leftover', leftover, '\\n')\n",
    "            ts.append(leftover[0])\n",
    "            #print(leftover[0])\n",
    "            #print(x, r/8, Ys[-1])\n",
    "            #print('dist to tj', shortest_distance[leftover[0]])\n",
    "            assert x in Ys[-1]\n",
    "            assert ts[-1] in Ys[-1]\n",
    "            X_j, x_j, path = create_petal(Ys[-1], x, ts[-1], r/8)\n",
    "            assert x_j in Ys[-1]\n",
    "            #print(f'graph = {graph}, x = {x}, t_j = {ts[-1]}, r = {r/8}, Ys[-1] = {Ys[-1]}')\n",
    "            #print(f'X_j = {X_j}, graph = {graph}, x = {x}, t_j = {ts[-1]}, r = {r/8}, Ys[-1] = {Ys[-1]}')\n",
    "            if len(path) == 1:\n",
    "                print('path of length 1:', x, x_j, ts[-1])\n",
    "            if x_j not in X_j:\n",
    "                print(f'x_j = {x_j} not in X_j = {X_j}')\n",
    "                print(f'graph = {graph}, x = {x}, t_j = {ts[-1]}, r = {r/8}, Ys[-1] = {Ys[-1]}')\n",
    "                print(f'Xs = {Xs}, xs = {xs}, ys = {ys}, ts = {ts}, Ys = {Ys}')\n",
    "                raise ValueError\n",
    "            assert ts[-1] in X_j\n",
    "            Xs.append(X_j)\n",
    "            xs.append(x_j)\n",
    "            Ys.append(maintain_graph_difference(Ys[-1], X_j))\n",
    "            xj_idx = -1\n",
    "            if x_j not in path:\n",
    "                print(f'x_j {x_j} not found in path {path} of length {shortest_distance[ts[-1]]} from {x} to {ts[-1]}')\n",
    "            for i in range(len(path)):\n",
    "                if path[i] == x_j:\n",
    "                    xj_idx = i\n",
    "                    #print(i)\n",
    "                # else:\n",
    "                #     print(f'x_j {x_j} not found in path {path}')\n",
    "                if xj_idx > -1 and i < len(path) - 1:\n",
    "                    #print('g', graph, path[i-1], path[i], path, i)\n",
    "                    graph[path[i]][path[i+1]] /= 2\n",
    "                    graph[path[i+1]][path[i]] /= 2\n",
    "                    #print('hi')\n",
    "                    #shortest_distance[path[i]] = (shortest_distance[path[i]] + shortest_distance[path[xj_idx]])/2\n",
    "            if x_j == x:\n",
    "                print('hello')\n",
    "                ys.append(path[0])\n",
    "            else:\n",
    "                ys.append(path[xj_idx - 1])\n",
    "                #print('path', path, 'x_j', path[xj_idx], 'y_j', path[xj_idx - 1])\n",
    "            j += 1\n",
    "            if ys[-1] == xs[-1]:\n",
    "                print('x = y', path)\n",
    "                #raise ValueError('x = y')\n",
    "            if ys[-1] not in graph[xs[-1]]:\n",
    "                raise ValueError(f'{xs[-1]}, {ys[-1]} not an edge in graph')\n",
    "            #print('ys', ys)\n",
    "        #print('Completed while')\n",
    "    s = j - 1\n",
    "    #print(s, len(Ys))\n",
    "    X0 = Ys[s]\n",
    "    X0_keys = list(X0.keys())\n",
    "    # for key in X0_keys:\n",
    "    #     if key not in graph[x]:\n",
    "    #         raise ValueError(f'Vertex {key} not in adjacent vertices of x_0: {graph[x]}')\n",
    "    if not is_connected(X0):\n",
    "        for v in X0:\n",
    "            if len(X0[v]) == 0:\n",
    "                print(f'Isolated vertex {v}. Edges connected to v: {graph[v]}')\n",
    "                for X in Xs:\n",
    "                    if v in X:\n",
    "                        print(f'Isolated vertex {v} in cluster {X}')\n",
    "        raise ValueError(f'X0 = {X0} not connected. Edges connected to x_0 = {x}: {graph[x]}')\n",
    "    Xs = [X0] + Xs\n",
    "    return Xs, ys, xs, ts\n",
    "        "
   ]
  },
  {
   "cell_type": "code",
   "execution_count": 21,
   "id": "e0d4d60f-77b6-4b94-94de-327d6123cb3d",
   "metadata": {},
   "outputs": [],
   "source": [
    "#create_petal(graph, '4', '2', 15.25)"
   ]
  },
  {
   "cell_type": "code",
   "execution_count": 22,
   "id": "2ed07f13-a657-437d-b4c1-86607a7d94d2",
   "metadata": {},
   "outputs": [],
   "source": [
    "#petal_decomposition(graph, '0', '2')"
   ]
  },
  {
   "cell_type": "code",
   "execution_count": 23,
   "id": "3b6be1df-46e1-4c26-9321-afc2ce90ec3a",
   "metadata": {},
   "outputs": [],
   "source": [
    "def make_undirected(graph):\n",
    "    undirected_graph = {}\n",
    "    for u in graph:\n",
    "        for v, length in graph[u].items():\n",
    "            # Add edge from u to v\n",
    "            if u not in undirected_graph:\n",
    "                undirected_graph[u] = {}\n",
    "            undirected_graph[u][v] = length\n",
    "            \n",
    "            # Add edge from v to u\n",
    "            if v not in undirected_graph:\n",
    "                undirected_graph[v] = {}\n",
    "            undirected_graph[v][u] = length\n",
    "    \n",
    "    return undirected_graph"
   ]
  },
  {
   "cell_type": "code",
   "execution_count": 24,
   "id": "4b160961-1f7f-4a3d-884f-7b82f3dcc972",
   "metadata": {},
   "outputs": [
    {
     "name": "stdout",
     "output_type": "stream",
     "text": [
      "The graph is not a tree.\n"
     ]
    }
   ],
   "source": [
    "def is_tree(graph):\n",
    "    num_vertices = len(graph)\n",
    "    num_edges = sum(len(adj_list) for adj_list in graph.values()) // 2  # Divide by 2 to account for double-counting edges\n",
    "\n",
    "    return num_edges == num_vertices - 1\n",
    "\n",
    "# Example usage\n",
    "\n",
    "if is_tree(graph):\n",
    "    print(\"The graph is a tree.\")\n",
    "else:\n",
    "    print(\"The graph is not a tree.\")\n"
   ]
  },
  {
   "cell_type": "code",
   "execution_count": 25,
   "id": "bef44ac0-b369-4774-a144-fafc4c3e16b7",
   "metadata": {},
   "outputs": [],
   "source": [
    "def hierarchical_petal_decomposition(graph, x_0, t):\n",
    "    \n",
    "    if len(graph) == 1:\n",
    "        return graph\n",
    "    if is_tree(graph):\n",
    "        return graph\n",
    "    Xs, ys, xs, ts = petal_decomposition(graph, x_0, t)\n",
    "\n",
    "    Ts = []\n",
    "    for j in range(len(Xs)):\n",
    "        if xs[j] not in Xs[j]:\n",
    "            print(f'xj = {xs[j]} not in {Xs[j]}')\n",
    "        if ts[j] not in Xs[j]:\n",
    "            print(f'tj = {xs[j]} not in {Xs[j]}')\n",
    "        Ts.append(hierarchical_petal_decomposition(Xs[j], xs[j], ts[j]))\n",
    "\n",
    "    T = {}\n",
    "    for tree in Ts:\n",
    "        if not is_undirected(tree):\n",
    "            print(tree)\n",
    "            raise ValueError('tree is not undirected')\n",
    "        for u in tree:\n",
    "            T[u] = tree[u]\n",
    "    #print(xs, ys)\n",
    "    if len(xs) > 1:\n",
    "        for i in range(1, len(xs)):\n",
    "            x = xs[i]\n",
    "            y = ys[i-1]\n",
    "            T[x][y] = graph[x][y]\n",
    "            T[y][x] = graph[y][x]\n",
    "    \n",
    "    return make_undirected(T)\n",
    "        "
   ]
  },
  {
   "cell_type": "code",
   "execution_count": 26,
   "id": "bfdfd29a-53a9-4726-8890-f3a09282c96f",
   "metadata": {},
   "outputs": [],
   "source": [
    "tree = hierarchical_petal_decomposition(graph, 'A', 'A')"
   ]
  },
  {
   "cell_type": "code",
   "execution_count": 27,
   "id": "6840720a-be2b-4e58-9051-5b6f8a0be1cf",
   "metadata": {},
   "outputs": [
    {
     "data": {
      "text/plain": [
       "{'A': {'B': 2, 'G': 6},\n",
       " 'B': {'A': 2, 'D': 5, 'E': 6},\n",
       " 'G': {'A': 6},\n",
       " 'D': {'B': 5, 'F': 2},\n",
       " 'E': {'B': 6},\n",
       " 'F': {'D': 2, 'C': 3},\n",
       " 'C': {'F': 3}}"
      ]
     },
     "execution_count": 27,
     "metadata": {},
     "output_type": "execute_result"
    }
   ],
   "source": [
    "tree"
   ]
  },
  {
   "cell_type": "code",
   "execution_count": 28,
   "id": "3119b5c5-1e9f-4fda-b905-5a4ade8f55dc",
   "metadata": {},
   "outputs": [
    {
     "name": "stdout",
     "output_type": "stream",
     "text": [
      "{'A': {'B': 2, 'D': 8, 'G': 4}, 'B': {'A': 2, 'D': 4, 'E': 4}, 'C': {'E': 8, 'F': 2}, 'D': {'A': 8, 'B': 4, 'E': 2, 'F': 2}, 'E': {'B': 4, 'C': 8, 'D': 2, 'F': 1, 'G': 4}, 'F': {'D': 2, 'E': 1, 'C': 2}, 'G': {'A': 4, 'E': 4}}\n"
     ]
    }
   ],
   "source": [
    "import math\n",
    "\n",
    "def round_edge_lengths_to_power_of_2(graph):\n",
    "    rounded_graph = {}\n",
    "\n",
    "    for node, edges in graph.items():\n",
    "        rounded_edges = {}\n",
    "\n",
    "        for neighbor, length in edges.items():\n",
    "            rounded_length = 2 ** int(math.log2(length))\n",
    "            rounded_edges[neighbor] = rounded_length\n",
    "\n",
    "        rounded_graph[node] = rounded_edges\n",
    "\n",
    "    return rounded_graph\n",
    "\n",
    "rounded_graph = round_edge_lengths_to_power_of_2(graph)\n",
    "print(rounded_graph)"
   ]
  },
  {
   "cell_type": "markdown",
   "id": "59b9bb89-4421-48e3-9488-a02453005e74",
   "metadata": {},
   "source": [
    "### Tree"
   ]
  },
  {
   "cell_type": "code",
   "execution_count": 29,
   "id": "c88a26d7-d0ec-4342-88c0-804a34c2f2ff",
   "metadata": {},
   "outputs": [],
   "source": [
    "import numpy as np\n",
    "from tqdm import tqdm\n",
    "def calculate_stretch(graph, x_0, t):\n",
    "    rounded_graph = round_edge_lengths_to_power_of_2(graph)\n",
    "    T = hierarchical_petal_decomposition(graph, x_0, t)\n",
    "    assert is_undirected(T)\n",
    "    assert is_tree(T)\n",
    "    #T = make_undirected(T)\n",
    "    #print(T)\n",
    "    if len(T) != len(graph):\n",
    "        raise ValueError(f'Not a spanning tree. T has {len(t)} vertices while the original graph has {len(graph)} vertices')\n",
    "    m = len(graph)\n",
    "    n = 0\n",
    "    #t_length = 0\n",
    "    #graph_length = 0\n",
    "    stretch = 0\n",
    "    graph_keys_list = list(graph.keys())\n",
    "    for i in tqdm(range(len(graph_keys_list))):\n",
    "        u = graph_keys_list[i]\n",
    "        for v in graph[u]:\n",
    "            assert u in T and v in T\n",
    "            n += 1\n",
    "            distances, _ = dijkstra(T, u)\n",
    "            if distances[v] == float('inf'):\n",
    "                print('INF', u, v, T)\n",
    "                print(is_undirected(T))\n",
    "                print(is_connected(T))\n",
    "                raise ValueError('Distance should be finite')\n",
    "            stretch += distances[v]/graph[u][v]\n",
    "    print(f'fraction of edges: {(n/2)/(m*(m-1)/2) }')\n",
    "    n /= 2\n",
    "    bound = m * np.log(n) * np.log(np.log(n))\n",
    "    #print(f'stretch = {stretch}')\n",
    "    return stretch/bound"
   ]
  },
  {
   "cell_type": "code",
   "execution_count": 30,
   "id": "effd9a7b-8037-4533-a577-1f75b914852e",
   "metadata": {},
   "outputs": [],
   "source": [
    "import random\n",
    "\n",
    "def generate_graph(m, p):\n",
    "    if m <= 1:\n",
    "        # Special case: a single vertex graph is always connected.\n",
    "        return {'0': {}}\n",
    "\n",
    "    # Create a list of vertices as strings from '0' to 'm-1'.\n",
    "    vertices = [str(i) for i in range(m)]\n",
    "\n",
    "    # Create a dictionary to represent the graph with edge lengths.\n",
    "    graph = {v: {} for v in vertices}\n",
    "\n",
    "    # Create a list of edges with associated probabilities.\n",
    "    edges = []\n",
    "\n",
    "    for i in range(m):\n",
    "        for j in range(i + 1, m):\n",
    "            if random.random() < p:\n",
    "                edges.append((vertices[i], vertices[j]))\n",
    "\n",
    "    # Create a minimum spanning tree using Prim's algorithm.\n",
    "    random.shuffle(vertices)\n",
    "    visited = set([vertices[0]])\n",
    "    while len(visited) < m:\n",
    "        current_vertex = random.choice(list(visited))\n",
    "        remaining_vertices = [v for v in vertices if v not in visited]\n",
    "        if not remaining_vertices:\n",
    "            break\n",
    "        next_vertex = random.choice(remaining_vertices)\n",
    "        visited.add(next_vertex)\n",
    "        edge = (current_vertex, next_vertex)\n",
    "        edges.append(edge)\n",
    "\n",
    "    # Shuffle the list of edges to randomize the order.\n",
    "    random.shuffle(edges)\n",
    "\n",
    "    # Add the edges to the graph.\n",
    "    for (start_vertex, end_vertex) in edges:\n",
    "        edge_length = float(random.randint(1.0, 100.0))  # Modify this range as needed\n",
    "        graph[start_vertex][end_vertex] = edge_length\n",
    "        graph[end_vertex][start_vertex] = edge_length\n",
    "\n",
    "    return graph\n",
    "\n",
    "# # Example usage:\n",
    "# m = 5\n",
    "# p = 0.5  # Probability of an edge between any pair of vertices\n",
    "# connected_graph = generate_connected_graph_with_probability(m, p)\n",
    "# print(connected_graph)"
   ]
  },
  {
   "cell_type": "code",
   "execution_count": 31,
   "id": "a2274090-297a-4d1d-a061-61f2d9c04d09",
   "metadata": {},
   "outputs": [],
   "source": [
    "def furthest_point(graph, x_0):\n",
    "    distances, _ = dijkstra(graph, x_0)\n",
    "    #print(distances)\n",
    "    max_dist = max(distances.values())\n",
    "    for v in distances:\n",
    "        if distances[v] == max_dist:\n",
    "            return v"
   ]
  },
  {
   "cell_type": "code",
   "execution_count": 100,
   "id": "0b9f0cf3-fa36-4e2e-9dfa-f923ff726a74",
   "metadata": {},
   "outputs": [],
   "source": [
    "import random\n",
    "\n",
    "# Create a graph represented as a dictionary\n",
    "\n",
    "def test_lsst(m, p):\n",
    "\n",
    "#     graph = {}\n",
    "#     vertices = [str(i) for i in range(m)]\n",
    "\n",
    "#     # Create edges with random lengths\n",
    "#     for i in range(m):\n",
    "#         for j in range(i + 1, m):\n",
    "#             if np.random.uniform() < p:\n",
    "#                 edge_length = np.random.randint(1, 100)  # Random edge length between 1 and 10\n",
    "#                 if vertices[i] not in graph:\n",
    "#                     graph[vertices[i]] = {}\n",
    "#                 if vertices[j] not in graph:\n",
    "#                     graph[vertices[j]] = {}\n",
    "#                 graph[vertices[i]][vertices[j]] = edge_length\n",
    "#                 graph[vertices[j]][vertices[i]] = edge_length  # Undirected, so add the reverse edge\n",
    "#             else:\n",
    "#                 print('oops')\n",
    "\n",
    "    graph = generate_graph(m, p)\n",
    "    assert is_connected(graph)\n",
    "            \n",
    "    v1 = str(np.random.randint(0, m))\n",
    "    \n",
    "    #print(graph, v1)\n",
    "    return calculate_stretch(graph, v1, v1)\n",
    "\n",
    "# Example: Accessing the length of the edge between vertex '0' and '1'\n",
    "#edge_length_01 = graph['0']['1']"
   ]
  },
  {
   "cell_type": "code",
   "execution_count": null,
   "id": "34683069-a5cb-4709-9976-90d328d94870",
   "metadata": {},
   "outputs": [],
   "source": []
  },
  {
   "cell_type": "code",
   "execution_count": 106,
   "id": "90d8dfa2-638a-4bb1-8e18-52264743c04c",
   "metadata": {},
   "outputs": [
    {
     "name": "stdout",
     "output_type": "stream",
     "text": [
      "Starting trial 1 of 500\n"
     ]
    },
    {
     "name": "stderr",
     "output_type": "stream",
     "text": [
      "100%|██████████| 200/200 [00:00<00:00, 258.64it/s]\n"
     ]
    },
    {
     "name": "stdout",
     "output_type": "stream",
     "text": [
      "fraction of edges: 0.10768844221105528\n",
      "1.9606583810537612\n",
      "Starting trial 2 of 500\n"
     ]
    },
    {
     "name": "stderr",
     "output_type": "stream",
     "text": [
      "100%|██████████| 200/200 [00:00<00:00, 254.53it/s]\n"
     ]
    },
    {
     "name": "stdout",
     "output_type": "stream",
     "text": [
      "fraction of edges: 0.10974874371859296\n",
      "2.475494677731936\n",
      "Starting trial 3 of 500\n"
     ]
    },
    {
     "name": "stderr",
     "output_type": "stream",
     "text": [
      "100%|██████████| 200/200 [00:00<00:00, 250.81it/s]\n"
     ]
    },
    {
     "name": "stdout",
     "output_type": "stream",
     "text": [
      "fraction of edges: 0.1093467336683417\n",
      "1.9964089071047717\n",
      "Starting trial 4 of 500\n"
     ]
    },
    {
     "name": "stderr",
     "output_type": "stream",
     "text": [
      "100%|██████████| 200/200 [00:00<00:00, 248.20it/s]\n"
     ]
    },
    {
     "name": "stdout",
     "output_type": "stream",
     "text": [
      "fraction of edges: 0.11060301507537688\n",
      "2.0021754845943214\n",
      "Starting trial 5 of 500\n"
     ]
    },
    {
     "ename": "ValueError",
     "evalue": "X0 = {'31': {'188': 2.0}, '40': {'77': 5.0}, '77': {'78': 8.0, '133': 1.0, '40': 5.0}, '78': {'77': 8.0}, '133': {'77': 1.0}, '188': {'31': 2.0}} not connected. Edges connected to x_0 = 40: {'132': 19.0, '116': 18.0, '77': 5.0}",
     "output_type": "error",
     "traceback": [
      "\u001b[1;31m---------------------------------------------------------------------------\u001b[0m",
      "\u001b[1;31mValueError\u001b[0m                                Traceback (most recent call last)",
      "Cell \u001b[1;32mIn [106], line 7\u001b[0m\n\u001b[0;32m      5\u001b[0m \u001b[38;5;28mprint\u001b[39m(\u001b[38;5;124mf\u001b[39m\u001b[38;5;124m'\u001b[39m\u001b[38;5;124mStarting trial \u001b[39m\u001b[38;5;132;01m{\u001b[39;00mi \u001b[38;5;241m+\u001b[39m \u001b[38;5;241m1\u001b[39m\u001b[38;5;132;01m}\u001b[39;00m\u001b[38;5;124m of \u001b[39m\u001b[38;5;132;01m{\u001b[39;00mn\u001b[38;5;132;01m}\u001b[39;00m\u001b[38;5;124m'\u001b[39m)\n\u001b[0;32m      6\u001b[0m p \u001b[38;5;241m=\u001b[39m np\u001b[38;5;241m.\u001b[39mlog(num_vertices)\u001b[38;5;241m/\u001b[39mnum_vertices\n\u001b[1;32m----> 7\u001b[0m \u001b[38;5;28mprint\u001b[39m(\u001b[43mtest_lsst\u001b[49m\u001b[43m(\u001b[49m\u001b[43mnum_vertices\u001b[49m\u001b[43m,\u001b[49m\u001b[43m \u001b[49m\u001b[38;5;241;43m0.1\u001b[39;49m\u001b[43m)\u001b[49m)\u001b[38;5;66;03m#np.log(1000)/1000))\u001b[39;00m\n\u001b[0;32m     10\u001b[0m \u001b[38;5;66;03m#print(f'LSST on graph with {num_vertices} vertices')\u001b[39;00m\n\u001b[0;32m     11\u001b[0m \u001b[38;5;66;03m# start = time.time()\u001b[39;00m\n\u001b[0;32m     12\u001b[0m \u001b[38;5;66;03m# print(test_lsst(num_vertices, 1))\u001b[39;00m\n\u001b[0;32m     13\u001b[0m \u001b[38;5;66;03m# end = time.time()\u001b[39;00m\n\u001b[0;32m     14\u001b[0m \u001b[38;5;66;03m#print(f'Took {end - start} seconds')\u001b[39;00m\n",
      "Cell \u001b[1;32mIn [100], line 30\u001b[0m, in \u001b[0;36mtest_lsst\u001b[1;34m(m, p)\u001b[0m\n\u001b[0;32m     27\u001b[0m v1 \u001b[38;5;241m=\u001b[39m \u001b[38;5;28mstr\u001b[39m(np\u001b[38;5;241m.\u001b[39mrandom\u001b[38;5;241m.\u001b[39mrandint(\u001b[38;5;241m0\u001b[39m, m))\n\u001b[0;32m     29\u001b[0m \u001b[38;5;66;03m#print(graph, v1)\u001b[39;00m\n\u001b[1;32m---> 30\u001b[0m \u001b[38;5;28;01mreturn\u001b[39;00m \u001b[43mcalculate_stretch\u001b[49m\u001b[43m(\u001b[49m\u001b[43mgraph\u001b[49m\u001b[43m,\u001b[49m\u001b[43m \u001b[49m\u001b[43mv1\u001b[49m\u001b[43m,\u001b[49m\u001b[43m \u001b[49m\u001b[43mv1\u001b[49m\u001b[43m)\u001b[49m\n",
      "Cell \u001b[1;32mIn [29], line 5\u001b[0m, in \u001b[0;36mcalculate_stretch\u001b[1;34m(graph, x_0, t)\u001b[0m\n\u001b[0;32m      3\u001b[0m \u001b[38;5;28;01mdef\u001b[39;00m \u001b[38;5;21mcalculate_stretch\u001b[39m(graph, x_0, t):\n\u001b[0;32m      4\u001b[0m     rounded_graph \u001b[38;5;241m=\u001b[39m round_edge_lengths_to_power_of_2(graph)\n\u001b[1;32m----> 5\u001b[0m     T \u001b[38;5;241m=\u001b[39m \u001b[43mhierarchical_petal_decomposition\u001b[49m\u001b[43m(\u001b[49m\u001b[43mgraph\u001b[49m\u001b[43m,\u001b[49m\u001b[43m \u001b[49m\u001b[43mx_0\u001b[49m\u001b[43m,\u001b[49m\u001b[43m \u001b[49m\u001b[43mt\u001b[49m\u001b[43m)\u001b[49m\n\u001b[0;32m      6\u001b[0m     \u001b[38;5;28;01massert\u001b[39;00m is_undirected(T)\n\u001b[0;32m      7\u001b[0m     \u001b[38;5;28;01massert\u001b[39;00m is_tree(T)\n",
      "Cell \u001b[1;32mIn [25], line 15\u001b[0m, in \u001b[0;36mhierarchical_petal_decomposition\u001b[1;34m(graph, x_0, t)\u001b[0m\n\u001b[0;32m     13\u001b[0m     \u001b[38;5;28;01mif\u001b[39;00m ts[j] \u001b[38;5;129;01mnot\u001b[39;00m \u001b[38;5;129;01min\u001b[39;00m Xs[j]:\n\u001b[0;32m     14\u001b[0m         \u001b[38;5;28mprint\u001b[39m(\u001b[38;5;124mf\u001b[39m\u001b[38;5;124m'\u001b[39m\u001b[38;5;124mtj = \u001b[39m\u001b[38;5;132;01m{\u001b[39;00mxs[j]\u001b[38;5;132;01m}\u001b[39;00m\u001b[38;5;124m not in \u001b[39m\u001b[38;5;132;01m{\u001b[39;00mXs[j]\u001b[38;5;132;01m}\u001b[39;00m\u001b[38;5;124m'\u001b[39m)\n\u001b[1;32m---> 15\u001b[0m     Ts\u001b[38;5;241m.\u001b[39mappend(\u001b[43mhierarchical_petal_decomposition\u001b[49m\u001b[43m(\u001b[49m\u001b[43mXs\u001b[49m\u001b[43m[\u001b[49m\u001b[43mj\u001b[49m\u001b[43m]\u001b[49m\u001b[43m,\u001b[49m\u001b[43m \u001b[49m\u001b[43mxs\u001b[49m\u001b[43m[\u001b[49m\u001b[43mj\u001b[49m\u001b[43m]\u001b[49m\u001b[43m,\u001b[49m\u001b[43m \u001b[49m\u001b[43mts\u001b[49m\u001b[43m[\u001b[49m\u001b[43mj\u001b[49m\u001b[43m]\u001b[49m\u001b[43m)\u001b[49m)\n\u001b[0;32m     17\u001b[0m T \u001b[38;5;241m=\u001b[39m {}\n\u001b[0;32m     18\u001b[0m \u001b[38;5;28;01mfor\u001b[39;00m tree \u001b[38;5;129;01min\u001b[39;00m Ts:\n",
      "Cell \u001b[1;32mIn [25], line 15\u001b[0m, in \u001b[0;36mhierarchical_petal_decomposition\u001b[1;34m(graph, x_0, t)\u001b[0m\n\u001b[0;32m     13\u001b[0m     \u001b[38;5;28;01mif\u001b[39;00m ts[j] \u001b[38;5;129;01mnot\u001b[39;00m \u001b[38;5;129;01min\u001b[39;00m Xs[j]:\n\u001b[0;32m     14\u001b[0m         \u001b[38;5;28mprint\u001b[39m(\u001b[38;5;124mf\u001b[39m\u001b[38;5;124m'\u001b[39m\u001b[38;5;124mtj = \u001b[39m\u001b[38;5;132;01m{\u001b[39;00mxs[j]\u001b[38;5;132;01m}\u001b[39;00m\u001b[38;5;124m not in \u001b[39m\u001b[38;5;132;01m{\u001b[39;00mXs[j]\u001b[38;5;132;01m}\u001b[39;00m\u001b[38;5;124m'\u001b[39m)\n\u001b[1;32m---> 15\u001b[0m     Ts\u001b[38;5;241m.\u001b[39mappend(\u001b[43mhierarchical_petal_decomposition\u001b[49m\u001b[43m(\u001b[49m\u001b[43mXs\u001b[49m\u001b[43m[\u001b[49m\u001b[43mj\u001b[49m\u001b[43m]\u001b[49m\u001b[43m,\u001b[49m\u001b[43m \u001b[49m\u001b[43mxs\u001b[49m\u001b[43m[\u001b[49m\u001b[43mj\u001b[49m\u001b[43m]\u001b[49m\u001b[43m,\u001b[49m\u001b[43m \u001b[49m\u001b[43mts\u001b[49m\u001b[43m[\u001b[49m\u001b[43mj\u001b[49m\u001b[43m]\u001b[49m\u001b[43m)\u001b[49m)\n\u001b[0;32m     17\u001b[0m T \u001b[38;5;241m=\u001b[39m {}\n\u001b[0;32m     18\u001b[0m \u001b[38;5;28;01mfor\u001b[39;00m tree \u001b[38;5;129;01min\u001b[39;00m Ts:\n",
      "    \u001b[1;31m[... skipping similar frames: hierarchical_petal_decomposition at line 15 (1 times)]\u001b[0m\n",
      "Cell \u001b[1;32mIn [25], line 15\u001b[0m, in \u001b[0;36mhierarchical_petal_decomposition\u001b[1;34m(graph, x_0, t)\u001b[0m\n\u001b[0;32m     13\u001b[0m     \u001b[38;5;28;01mif\u001b[39;00m ts[j] \u001b[38;5;129;01mnot\u001b[39;00m \u001b[38;5;129;01min\u001b[39;00m Xs[j]:\n\u001b[0;32m     14\u001b[0m         \u001b[38;5;28mprint\u001b[39m(\u001b[38;5;124mf\u001b[39m\u001b[38;5;124m'\u001b[39m\u001b[38;5;124mtj = \u001b[39m\u001b[38;5;132;01m{\u001b[39;00mxs[j]\u001b[38;5;132;01m}\u001b[39;00m\u001b[38;5;124m not in \u001b[39m\u001b[38;5;132;01m{\u001b[39;00mXs[j]\u001b[38;5;132;01m}\u001b[39;00m\u001b[38;5;124m'\u001b[39m)\n\u001b[1;32m---> 15\u001b[0m     Ts\u001b[38;5;241m.\u001b[39mappend(\u001b[43mhierarchical_petal_decomposition\u001b[49m\u001b[43m(\u001b[49m\u001b[43mXs\u001b[49m\u001b[43m[\u001b[49m\u001b[43mj\u001b[49m\u001b[43m]\u001b[49m\u001b[43m,\u001b[49m\u001b[43m \u001b[49m\u001b[43mxs\u001b[49m\u001b[43m[\u001b[49m\u001b[43mj\u001b[49m\u001b[43m]\u001b[49m\u001b[43m,\u001b[49m\u001b[43m \u001b[49m\u001b[43mts\u001b[49m\u001b[43m[\u001b[49m\u001b[43mj\u001b[49m\u001b[43m]\u001b[49m\u001b[43m)\u001b[49m)\n\u001b[0;32m     17\u001b[0m T \u001b[38;5;241m=\u001b[39m {}\n\u001b[0;32m     18\u001b[0m \u001b[38;5;28;01mfor\u001b[39;00m tree \u001b[38;5;129;01min\u001b[39;00m Ts:\n",
      "Cell \u001b[1;32mIn [25], line 7\u001b[0m, in \u001b[0;36mhierarchical_petal_decomposition\u001b[1;34m(graph, x_0, t)\u001b[0m\n\u001b[0;32m      5\u001b[0m \u001b[38;5;28;01mif\u001b[39;00m is_tree(graph):\n\u001b[0;32m      6\u001b[0m     \u001b[38;5;28;01mreturn\u001b[39;00m graph\n\u001b[1;32m----> 7\u001b[0m Xs, ys, xs, ts \u001b[38;5;241m=\u001b[39m \u001b[43mpetal_decomposition\u001b[49m\u001b[43m(\u001b[49m\u001b[43mgraph\u001b[49m\u001b[43m,\u001b[49m\u001b[43m \u001b[49m\u001b[43mx_0\u001b[49m\u001b[43m,\u001b[49m\u001b[43m \u001b[49m\u001b[43mt\u001b[49m\u001b[43m)\u001b[49m\n\u001b[0;32m      9\u001b[0m Ts \u001b[38;5;241m=\u001b[39m []\n\u001b[0;32m     10\u001b[0m \u001b[38;5;28;01mfor\u001b[39;00m j \u001b[38;5;129;01min\u001b[39;00m \u001b[38;5;28mrange\u001b[39m(\u001b[38;5;28mlen\u001b[39m(Xs)):\n",
      "Cell \u001b[1;32mIn [105], line 116\u001b[0m, in \u001b[0;36mpetal_decomposition\u001b[1;34m(graph, x, t)\u001b[0m\n\u001b[0;32m    114\u001b[0m                 \u001b[38;5;28;01mif\u001b[39;00m v \u001b[38;5;129;01min\u001b[39;00m X:\n\u001b[0;32m    115\u001b[0m                     \u001b[38;5;28mprint\u001b[39m(\u001b[38;5;124mf\u001b[39m\u001b[38;5;124m'\u001b[39m\u001b[38;5;124mIsolated vertex \u001b[39m\u001b[38;5;132;01m{\u001b[39;00mv\u001b[38;5;132;01m}\u001b[39;00m\u001b[38;5;124m in cluster \u001b[39m\u001b[38;5;132;01m{\u001b[39;00mX\u001b[38;5;132;01m}\u001b[39;00m\u001b[38;5;124m'\u001b[39m)\n\u001b[1;32m--> 116\u001b[0m     \u001b[38;5;28;01mraise\u001b[39;00m \u001b[38;5;167;01mValueError\u001b[39;00m(\u001b[38;5;124mf\u001b[39m\u001b[38;5;124m'\u001b[39m\u001b[38;5;124mX0 = \u001b[39m\u001b[38;5;132;01m{\u001b[39;00mX0\u001b[38;5;132;01m}\u001b[39;00m\u001b[38;5;124m not connected. Edges connected to x_0 = \u001b[39m\u001b[38;5;132;01m{\u001b[39;00mx\u001b[38;5;132;01m}\u001b[39;00m\u001b[38;5;124m: \u001b[39m\u001b[38;5;132;01m{\u001b[39;00mgraph[x]\u001b[38;5;132;01m}\u001b[39;00m\u001b[38;5;124m'\u001b[39m)\n\u001b[0;32m    117\u001b[0m Xs \u001b[38;5;241m=\u001b[39m [X0] \u001b[38;5;241m+\u001b[39m Xs\n\u001b[0;32m    118\u001b[0m \u001b[38;5;28;01mreturn\u001b[39;00m Xs, ys, xs, ts\n",
      "\u001b[1;31mValueError\u001b[0m: X0 = {'31': {'188': 2.0}, '40': {'77': 5.0}, '77': {'78': 8.0, '133': 1.0, '40': 5.0}, '78': {'77': 8.0}, '133': {'77': 1.0}, '188': {'31': 2.0}} not connected. Edges connected to x_0 = 40: {'132': 19.0, '116': 18.0, '77': 5.0}"
     ]
    }
   ],
   "source": [
    "import time\n",
    "n = 500\n",
    "for i in range(n):\n",
    "    for num_vertices in [200]: #, 1000, 5000]:\n",
    "        print(f'Starting trial {i + 1} of {n}')\n",
    "        p = np.log(num_vertices)/num_vertices\n",
    "        print(test_lsst(num_vertices, 0.1))#np.log(1000)/1000))\n",
    "            \n",
    "            \n",
    "        #print(f'LSST on graph with {num_vertices} vertices')\n",
    "        # start = time.time()\n",
    "        # print(test_lsst(num_vertices, 1))\n",
    "        # end = time.time()\n",
    "        #print(f'Took {end - start} seconds')"
   ]
  },
  {
   "cell_type": "markdown",
   "id": "c83cef87-0cd9-404d-8878-4473c4987e96",
   "metadata": {},
   "source": [
    "### Debugging"
   ]
  },
  {
   "cell_type": "code",
   "execution_count": 79,
   "id": "200b7057-8725-47df-be54-42cdc3708278",
   "metadata": {},
   "outputs": [],
   "source": [
    "graph = {'0': {'4': 59.0}, '1': {'2': 65.0, '3': 24.0, '4': 97.0}, '2': {'1': 65.0, '3': 1.0}, '3': {'1': 24.0, '2': 1.0}, '4': {'0': 59.0, '1': 97.0}}"
   ]
  },
  {
   "cell_type": "code",
   "execution_count": 80,
   "id": "06630bed-0a10-4990-b5a6-c5f614ebd489",
   "metadata": {},
   "outputs": [
    {
     "data": {
      "text/plain": [
       "{'0': {'4': 59.0},\n",
       " '1': {'2': 65.0, '3': 24.0, '4': 97.0},\n",
       " '2': {'1': 65.0, '3': 1.0},\n",
       " '3': {'1': 24.0, '2': 1.0},\n",
       " '4': {'0': 59.0, '1': 97.0}}"
      ]
     },
     "execution_count": 80,
     "metadata": {},
     "output_type": "execute_result"
    }
   ],
   "source": [
    "graph"
   ]
  },
  {
   "cell_type": "code",
   "execution_count": 81,
   "id": "dc542d5c-bb56-4cc3-b76c-be9c400340f5",
   "metadata": {},
   "outputs": [
    {
     "name": "stdout",
     "output_type": "stream",
     "text": [
      "['1', '4']\n"
     ]
    },
    {
     "data": {
      "text/plain": [
       "({'1': {}}, '1', ['4', '1'])"
      ]
     },
     "execution_count": 81,
     "metadata": {},
     "output_type": "execute_result"
    }
   ],
   "source": []
  },
  {
   "cell_type": "code",
   "execution_count": 80,
   "id": "b0eb448f-786f-4cc5-8881-057045226af0",
   "metadata": {},
   "outputs": [
    {
     "data": {
      "text/plain": [
       "0"
      ]
     },
     "execution_count": 80,
     "metadata": {},
     "output_type": "execute_result"
    }
   ],
   "source": [
    "len({})"
   ]
  },
  {
   "cell_type": "code",
   "execution_count": 86,
   "id": "f12adccd-2fee-48fa-8859-d20989242717",
   "metadata": {},
   "outputs": [],
   "source": [
    "g = {'1': {'16': 2.0, '84': 77.0}, '6': {'88': 5.0, '87': 5.0, '33': 89.0}, '16': {'1': 2.0, '92': 20.0, '91': 17.0, '87': 8.0}, '33': {'48': 29.0, '6': 89.0, '45': 7.0, '87': 13.0}, '34': {'89': 82.0, '45': 71.0, '48': 86.0, '88': 2.0}, '45': {'84': 8.0, '89': 11.0, '34': 71.0, '33': 7.0}, '48': {'33': 29.0, '92': 29.0, '34': 86.0, '88': 47.0}, '49': {'92': 77.0, '84': 2.0, '87': 22.0, '55': 84.0, '88': 58.0}, '55': {'91': 17.0, '92': 2.0, '49': 84.0}, '84': {'45': 8.0, '49': 2.0, '1': 77.0}, '85': {}, '87': {'6': 5.0, '49': 22.0, '16': 8.0, '33': 13.0}, '88': {'6': 5.0, '34': 2.0, '49': 58.0, '48': 47.0}, '89': {'34': 82.0, '45': 11.0, '92': 45.0}, '91': {'55': 17.0, '16': 17.0, '96': 3.0}, '92': {'49': 77.0, '55': 2.0, '48': 29.0, '16': 20.0, '89': 45.0}, '96': {'91': 3.0}}"
   ]
  },
  {
   "cell_type": "code",
   "execution_count": 87,
   "id": "0d2f8588-0f40-4dbe-927e-91171e675be9",
   "metadata": {},
   "outputs": [
    {
     "data": {
      "text/plain": [
       "False"
      ]
     },
     "execution_count": 87,
     "metadata": {},
     "output_type": "execute_result"
    }
   ],
   "source": [
    "is_connected(g)"
   ]
  },
  {
   "cell_type": "code",
   "execution_count": 88,
   "id": "59da9539-39e8-45a0-b593-c0102a6a951d",
   "metadata": {},
   "outputs": [],
   "source": [
    "del g['85']"
   ]
  },
  {
   "cell_type": "code",
   "execution_count": 89,
   "id": "e14d5821-2466-4096-9792-07340c2e3ca9",
   "metadata": {},
   "outputs": [
    {
     "data": {
      "text/plain": [
       "True"
      ]
     },
     "execution_count": 89,
     "metadata": {},
     "output_type": "execute_result"
    }
   ],
   "source": [
    "is_connected(g)"
   ]
  },
  {
   "cell_type": "code",
   "execution_count": 113,
   "id": "636f618b-d1f7-492f-b38f-2b1472db484e",
   "metadata": {},
   "outputs": [
    {
     "name": "stderr",
     "output_type": "stream",
     "text": [
      "  1%|          | 2/199 [00:12<19:47,  6.03s/it]\n"
     ]
    },
    {
     "ename": "KeyboardInterrupt",
     "evalue": "",
     "output_type": "error",
     "traceback": [
      "\u001b[1;31m---------------------------------------------------------------------------\u001b[0m",
      "\u001b[1;31mKeyboardInterrupt\u001b[0m                         Traceback (most recent call last)",
      "Cell \u001b[1;32mIn [113], line 5\u001b[0m\n\u001b[0;32m      3\u001b[0m \u001b[38;5;28;01mfor\u001b[39;00m k \u001b[38;5;129;01min\u001b[39;00m \u001b[38;5;28mrange\u001b[39m(\u001b[38;5;241m1\u001b[39m, \u001b[38;5;241m200\u001b[39m):\n\u001b[0;32m      4\u001b[0m     \u001b[38;5;28;01mfor\u001b[39;00m l \u001b[38;5;129;01min\u001b[39;00m \u001b[38;5;28mrange\u001b[39m(\u001b[38;5;241m1\u001b[39m, \u001b[38;5;241m200\u001b[39m):\n\u001b[1;32m----> 5\u001b[0m         \u001b[38;5;28;01mif\u001b[39;00m i\u001b[38;5;241m*\u001b[39m\u001b[38;5;241m*\u001b[39m\u001b[38;5;241m4\u001b[39m \u001b[38;5;241m==\u001b[39m j\u001b[38;5;241m*\u001b[39m\u001b[38;5;241m*\u001b[39m\u001b[38;5;241m4\u001b[39m \u001b[38;5;241m+\u001b[39m k\u001b[38;5;241m*\u001b[39m\u001b[38;5;241m*\u001b[39m\u001b[38;5;241m4\u001b[39m \u001b[38;5;241m+\u001b[39m \u001b[43ml\u001b[49m\u001b[38;5;241m*\u001b[39m\u001b[38;5;241m*\u001b[39m\u001b[38;5;241m4\u001b[39m \u001b[38;5;129;01mand\u001b[39;00m i \u001b[38;5;241m!=\u001b[39m j \u001b[38;5;129;01mand\u001b[39;00m i \u001b[38;5;241m!=\u001b[39mk \u001b[38;5;129;01mand\u001b[39;00m i \u001b[38;5;241m!=\u001b[39m l:\n\u001b[0;32m      6\u001b[0m             \u001b[38;5;28mprint\u001b[39m(i, j, k, l)\n",
      "\u001b[1;31mKeyboardInterrupt\u001b[0m: "
     ]
    }
   ],
   "source": [
    "for i in tqdm(range(1, 200)):\n",
    "    for j in range(1, 200):\n",
    "        for k in range(1, 200):\n",
    "            for l in range(1, 200):\n",
    "                if i**4 == j**4 + k**4 + l**4 and i != j and i !=k and i != l:\n",
    "                    print(i, j, k, l)"
   ]
  },
  {
   "cell_type": "code",
   "execution_count": 114,
   "id": "e76b55c3-4fa3-49ac-a4e9-9fc27eb7069d",
   "metadata": {},
   "outputs": [
    {
     "data": {
      "text/plain": [
       "True"
      ]
     },
     "execution_count": 114,
     "metadata": {},
     "output_type": "execute_result"
    }
   ],
   "source": [
    "20615673**4 == 2682440**4 + 15365639**4 + 18796760**4"
   ]
  },
  {
   "cell_type": "code",
   "execution_count": 115,
   "id": "47fb8e4d-8293-4c98-a264-823f1273deab",
   "metadata": {},
   "outputs": [
    {
     "name": "stdout",
     "output_type": "stream",
     "text": [
      "180630077292169281088848499041\n"
     ]
    }
   ],
   "source": [
    "print(20615673**4)"
   ]
  },
  {
   "cell_type": "code",
   "execution_count": 117,
   "id": "24f800b6-0ceb-4317-9f33-a816d3f9f89d",
   "metadata": {},
   "outputs": [
    {
     "name": "stdout",
     "output_type": "stream",
     "text": [
      "180630077292169281088848499041\n"
     ]
    }
   ],
   "source": [
    "print(2682440**4 + 15365639**4 + 18796760**4)"
   ]
  },
  {
   "cell_type": "code",
   "execution_count": null,
   "id": "f4d1ceca-b06c-44f6-903f-a58b9b6de166",
   "metadata": {},
   "outputs": [],
   "source": []
  }
 ],
 "metadata": {
  "kernelspec": {
   "display_name": "Python 3 (ipykernel)",
   "language": "python",
   "name": "python3"
  },
  "language_info": {
   "codemirror_mode": {
    "name": "ipython",
    "version": 3
   },
   "file_extension": ".py",
   "mimetype": "text/x-python",
   "name": "python",
   "nbconvert_exporter": "python",
   "pygments_lexer": "ipython3",
   "version": "3.8.13"
  }
 },
 "nbformat": 4,
 "nbformat_minor": 5
}
