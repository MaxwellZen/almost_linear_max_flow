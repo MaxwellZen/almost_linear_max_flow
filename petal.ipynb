{
 "cells": [
  {
   "cell_type": "code",
   "execution_count": 1,
   "id": "8aef4a38-9d15-4d1a-9a43-062ad0c276c9",
   "metadata": {},
   "outputs": [
    {
     "name": "stdout",
     "output_type": "stream",
     "text": [
      "Shortest distance from A to F: {'A': 0, 'B': 2, 'C': 12, 'D': 7, 'E': 8, 'F': 9, 'G': 6}\n",
      "Shortest path from A to F: A -> B -> D -> F\n"
     ]
    }
   ],
   "source": [
    "#Written by ChatGPT\n",
    "\n",
    "import heapq\n",
    "import math\n",
    "\n",
    "class FibonacciHeapNode:\n",
    "    def __init__(self, node, key):\n",
    "        self.node = node\n",
    "        self.key = key\n",
    "        self.parent = None\n",
    "        self.child = None\n",
    "        self.left = self\n",
    "        self.right = self\n",
    "        self.degree = 0\n",
    "        self.marked = False\n",
    "\n",
    "class FibonacciHeap:\n",
    "    def __init__(self):\n",
    "        self.min_node = None\n",
    "        self.nodes = {}\n",
    "\n",
    "    def insert(self, node, key):\n",
    "        new_node = FibonacciHeapNode(node, key)\n",
    "        self.nodes[node] = new_node\n",
    "        if not self.min_node or key < self.min_node.key:\n",
    "            self.min_node = new_node\n",
    "\n",
    "    def extract_min(self):\n",
    "        if self.min_node:\n",
    "            min_node = self.min_node\n",
    "            if min_node.child:\n",
    "                child = min_node.child\n",
    "                while True:\n",
    "                    next_child = child.right\n",
    "                    child.left = min_node\n",
    "                    child.right = min_node.right\n",
    "                    min_node.right.left = child\n",
    "                    min_node.right = child\n",
    "                    if next_child == min_node.child:\n",
    "                        break\n",
    "                    child = next_child\n",
    "            min_node.left.right = min_node.right\n",
    "            min_node.right.left = min_node.left\n",
    "            if min_node == min_node.right:\n",
    "                self.min_node = None\n",
    "            else:\n",
    "                self.min_node = min_node.right\n",
    "                self.consolidate()\n",
    "            del self.nodes[min_node.node]\n",
    "            return min_node.node, min_node.key\n",
    "        return None, None\n",
    "\n",
    "    def consolidate(self):\n",
    "        max_degree = int(2 * (math.log(len(self.nodes)) / math.log(1 + math.sqrt(5))))\n",
    "        degree_table = [None] * (max_degree + 1)\n",
    "        current = self.min_node\n",
    "        unprocessed_nodes = [current]\n",
    "        while True:\n",
    "            current = current.right\n",
    "            if current == self.min_node:\n",
    "                break\n",
    "            unprocessed_nodes.append(current)\n",
    "        for node in unprocessed_nodes:\n",
    "            degree = node.degree\n",
    "            while degree_table[degree]:\n",
    "                other = degree_table[degree]\n",
    "                if node.key > other.key:\n",
    "                    node, other = other, node\n",
    "                self.link(other, node)\n",
    "                degree_table[degree] = None\n",
    "                degree += 1\n",
    "            degree_table[degree] = node\n",
    "        for entry in degree_table:\n",
    "            if entry and entry.key < self.min_node.key:\n",
    "                self.min_node = entry\n",
    "\n",
    "    def link(self, node1, node2):\n",
    "        node1.right.left = node1.left\n",
    "        node1.left.right = node1.right\n",
    "        node1.parent = node2\n",
    "        if not node2.child:\n",
    "            node2.child = node1\n",
    "            node1.right = node1\n",
    "            node1.left = node1\n",
    "        else:\n",
    "            node1.left = node2.child\n",
    "            node1.right = node2.child.right\n",
    "            node2.child.right.left = node1\n",
    "            node2.child.right = node1\n",
    "        node2.degree += 1\n",
    "        node1.marked = False\n",
    "\n",
    "# def dijkstra(graph, start):\n",
    "#     distances = {}\n",
    "#     predecessors = {}\n",
    "#     heap = FibonacciHeap()\n",
    "    \n",
    "#     for node in graph:\n",
    "#         distances[node] = float('inf')\n",
    "#     distances[start] = 0\n",
    "#     heap.insert(start, 0)\n",
    "#     while heap.min_node:\n",
    "#         current_node, current_distance = heap.extract_min()\n",
    "#         print(\"Current Node:\", current_node, \"Distance:\", current_distance)\n",
    "#         if current_distance > distances[current_node]:\n",
    "#             continue\n",
    "        \n",
    "#         for neighbor, weight in graph[current_node].items():\n",
    "#             #print('neighbor', neighbor, 'cur_node', current_node)\n",
    "#             distance = current_distance + weight\n",
    "#             #print(distances, neighbor)\n",
    "#             if distance < distances[neighbor]:\n",
    "#                 distances[neighbor] = distance\n",
    "#                 predecessors[neighbor] = current_node\n",
    "#                 heap.insert(neighbor, distance)\n",
    "#     #print('Done with Dijkstra')\n",
    "#     #print('dijkstra', distances)\n",
    "#     return distances, predecessors\n",
    "\n",
    "def dijkstra(graph, start):\n",
    "    distances = {node: float('inf') for node in graph}\n",
    "    predecessors = {node: None for node in graph}\n",
    "    distances[start] = 0\n",
    "    \n",
    "    priority_queue = [(0, start)]\n",
    "    \n",
    "    while priority_queue:\n",
    "        current_distance, current_node = heapq.heappop(priority_queue)\n",
    "        \n",
    "        if current_distance > distances[current_node]:\n",
    "            continue\n",
    "        #print(graph)\n",
    "        for neighbor, weight in graph[current_node].items():\n",
    "            distance = current_distance + weight\n",
    "            if distance < distances[neighbor]:\n",
    "                distances[neighbor] = distance\n",
    "                predecessors[neighbor] = current_node  # Store the predecessor\n",
    "                heapq.heappush(priority_queue, (distance, neighbor))\n",
    "    \n",
    "    return distances, predecessors\n",
    "\n",
    "def shortest_path(graph, start, end, predecessors):\n",
    "    path = []\n",
    "    while end:\n",
    "        path.insert(0, end)\n",
    "        end = predecessors.get(end, None)\n",
    "    return path\n",
    "\n",
    "# Example usage:\n",
    "graph = {\n",
    "    'A': {'B': 2, 'D': 8, 'G' : 6},\n",
    "    'B': {'A': 2, 'D': 5, 'E': 6},\n",
    "    'C': {'E': 9, 'F': 3},\n",
    "    'D': {'A': 8, 'B': 5, 'E': 3, 'F': 2},\n",
    "    'E': {'B': 6, 'C': 9, 'D': 3, 'F': 1, 'G': 4},\n",
    "    'F': {'D': 2, 'E': 1, 'C': 3},\n",
    "    'G': {'A': 6, 'E': 4}\n",
    "}\n",
    "\n",
    "start_node = 'A'\n",
    "end_node = 'F'\n",
    "\n",
    "shortest_distance, predecessors = dijkstra(graph, start_node)\n",
    "shortest_path_to_D = shortest_path(graph, start_node, end_node, predecessors)\n",
    "\n",
    "print(f\"Shortest distance from {start_node} to {end_node}: {shortest_distance}\")\n",
    "print(f\"Shortest path from {start_node} to {end_node}: {' -> '.join(shortest_path_to_D)}\")"
   ]
  },
  {
   "cell_type": "code",
   "execution_count": 2,
   "id": "b5ee8c8f-b538-4f01-8bbb-f0e864ef740c",
   "metadata": {},
   "outputs": [],
   "source": [
    "import heapq\n",
    "#import heapq\n",
    "\n"
   ]
  },
  {
   "cell_type": "code",
   "execution_count": 3,
   "id": "f003ac39-4f69-4c7d-9317-dc568aa36a5d",
   "metadata": {},
   "outputs": [
    {
     "data": {
      "text/plain": [
       "{'A': None, 'B': 'A', 'C': 'F', 'D': 'B', 'E': 'B', 'F': 'D', 'G': 'A'}"
      ]
     },
     "execution_count": 3,
     "metadata": {},
     "output_type": "execute_result"
    }
   ],
   "source": [
    "predecessors"
   ]
  },
  {
   "cell_type": "code",
   "execution_count": 4,
   "id": "d4d368e9-1147-4f44-9d8f-b7717c087d87",
   "metadata": {},
   "outputs": [],
   "source": [
    "def create_directed_graph(graph, shortest_distance):\n",
    "    '''Creates a directed graph as specified on page 19 or 245 of AN19.'''\n",
    "    directed = {}\n",
    "    for u in graph: #first vertex\n",
    "        if u not in directed:\n",
    "            directed[u] = {}\n",
    "        for v in graph[u]: #second vertex\n",
    "            directed[u][v] = graph[u][v] - (shortest_distance[v] - shortest_distance[u])\n",
    "            #directed[v][u] = graph[v][u] - (shortest_distance[u] - shortest_distance[v])\n",
    "    return directed"
   ]
  },
  {
   "cell_type": "code",
   "execution_count": 5,
   "id": "5558a413-d1e8-4e03-99ec-92c8017cf31a",
   "metadata": {},
   "outputs": [],
   "source": [
    "d = create_directed_graph(graph, shortest_distance)"
   ]
  },
  {
   "cell_type": "code",
   "execution_count": 6,
   "id": "99573741-f2b3-474c-80cf-a1be3b5c7d4c",
   "metadata": {},
   "outputs": [
    {
     "data": {
      "text/plain": [
       "{'A': {'B': 0, 'D': 1, 'G': 0},\n",
       " 'B': {'A': 4, 'D': 0, 'E': 0},\n",
       " 'C': {'E': 13, 'F': 6},\n",
       " 'D': {'A': 15, 'B': 10, 'E': 2, 'F': 0},\n",
       " 'E': {'B': 12, 'C': 5, 'D': 4, 'F': 0, 'G': 6},\n",
       " 'F': {'D': 4, 'E': 2, 'C': 0},\n",
       " 'G': {'A': 12, 'E': 2}}"
      ]
     },
     "execution_count": 6,
     "metadata": {},
     "output_type": "execute_result"
    }
   ],
   "source": [
    "d"
   ]
  },
  {
   "cell_type": "code",
   "execution_count": 7,
   "id": "5f76de64-fcea-4457-841d-aa06bcf3ff7c",
   "metadata": {},
   "outputs": [
    {
     "data": {
      "text/plain": [
       "({'A': 16, 'B': 12, 'C': 0, 'D': 4, 'E': 0, 'F': 0, 'G': 6},\n",
       " {'A': 'B', 'B': 'E', 'C': 'F', 'D': 'E', 'E': None, 'F': 'E', 'G': 'E'})"
      ]
     },
     "execution_count": 7,
     "metadata": {},
     "output_type": "execute_result"
    }
   ],
   "source": [
    "dijkstra(d, 'E')"
   ]
  },
  {
   "cell_type": "code",
   "execution_count": 8,
   "id": "eef4dffe-1b7c-4338-9713-b2a62de26ba9",
   "metadata": {},
   "outputs": [
    {
     "data": {
      "text/plain": [
       "({'A': 0, 'B': 2, 'C': 12, 'D': 7, 'E': 8, 'F': 9, 'G': 6},\n",
       " {'A': None, 'B': 'A', 'C': 'F', 'D': 'B', 'E': 'B', 'F': 'D', 'G': 'A'})"
      ]
     },
     "execution_count": 8,
     "metadata": {},
     "output_type": "execute_result"
    }
   ],
   "source": [
    "dijkstra(graph, 'A')"
   ]
  },
  {
   "cell_type": "code",
   "execution_count": 9,
   "id": "a46e23e6-6e0b-430e-af3e-5742a1256c90",
   "metadata": {},
   "outputs": [],
   "source": [
    "def is_undirected(graph):\n",
    "    # Create a set to store checked edges\n",
    "    checked_edges = set()\n",
    "\n",
    "    # Iterate through each node in the graph\n",
    "    for node, neighbors in graph.items():\n",
    "        for neighbor, length in neighbors.items():\n",
    "            # Check if the reverse edge exists and has the same length\n",
    "            if (neighbor, node) in checked_edges:\n",
    "                if graph[neighbor][node] != length:\n",
    "                    print(f'neigbhor = {neighbor} and node = {node}')\n",
    "                    return False\n",
    "            else:\n",
    "                checked_edges.add((node, neighbor))\n",
    "\n",
    "    return True"
   ]
  },
  {
   "cell_type": "code",
   "execution_count": 10,
   "id": "7ff52132-e3ab-4bf2-b712-b263c9422695",
   "metadata": {},
   "outputs": [],
   "source": [
    "def create_petal(graph, x, t, r, directed = None): #Edit this to take in the directed graph as a parameter Y that is computed separately\n",
    "    assert x in graph\n",
    "    assert t in graph\n",
    "    shortest_distance, predecessors = dijkstra(graph, x)\n",
    "    if directed == None:\n",
    "        directed = create_directed_graph(graph, shortest_distance)\n",
    "        \n",
    "    \n",
    "    shortest_path_to_t = shortest_path(graph, x, t, predecessors)\n",
    "    if x != t and len(shortest_path_to_t) == 1:\n",
    "        print(x, t, shortest_path_to_t)\n",
    "    shortest_distance_directed, predecessors_directed = dijkstra(directed, t)\n",
    "    #shortest_path_to_x = shortest_path(directed, t, x, predecessors_directed)\n",
    "    #print(shortest_path_to_x)\n",
    "    t_dist = shortest_distance[t]\n",
    "    #print(t_dist)\n",
    "    #print(shortest_path_to_t)\n",
    "    r_prime = x\n",
    "    shortest_path_rprime = []\n",
    "    r_prime_idx = -1\n",
    "    for i in range(len(shortest_path_to_t)):\n",
    "        v = shortest_path_to_t[i]\n",
    "        d = t_dist - shortest_distance[v]\n",
    "        #shortest_path_rprime.append(v)\n",
    "        #print(d)\n",
    "        if d < r:\n",
    "            r_prime = v\n",
    "            r_prime_idx = i\n",
    "            break\n",
    "    #print(r_prime)\n",
    "    \n",
    "    for i in range(r_prime_idx, len(shortest_path_to_t)):\n",
    "        shortest_path_rprime.append(shortest_path_to_t[i])\n",
    "    \n",
    "    #shortest_path_rprime = shortest_path(directed, t, r_prime, predecessors_directed)\n",
    "    #print(shortest_path_rprime)\n",
    "    \n",
    "    petal = {}\n",
    "    for v in shortest_distance_directed:\n",
    "        if shortest_distance_directed[v] < r/2:\n",
    "            petal[v] = {}\n",
    "    for v in shortest_path_rprime:\n",
    "        petal[v] = {}\n",
    "        \n",
    "    for u in petal:\n",
    "        for v in graph[u]:\n",
    "            if v in petal:\n",
    "                petal[u][v] = graph[u][v]\n",
    "    #print(x, r_prime, shortest_path_to_t, t)\n",
    "    #print(f'length in create_petal: {t_dist}')\n",
    "    #print(r_prime, shortest_path_to_t)\n",
    "    #assert r_prime in shortest_path_to_t\n",
    "    if not is_undirected(petal):\n",
    "        print(petal)\n",
    "        raise ValueError('Petal not undirected')\n",
    "    return petal, r_prime, shortest_path_to_t\n",
    "    #for i in range(len(shortest_path_rprime - 1)):\n",
    "        \n",
    "    \n",
    "#     shortest_distance, predecessors = dijkstra(directed, t)\n",
    "#     _, predecessors = dijkstra(graph, t)\n",
    "#     shortest_path_to_x = shortest_path(graph, t, x, predecessors) #shortest_path(directed, t, x, predecessors) #NEED WEIGHTS TO BE HALF OF WHAT THEY WERE IN G! P_t, r_primeshould be a path in G\n",
    "#     r_prime = t\n",
    "#     shortest_distance_directed, predecessors_directed = dijkstra(directed, t)\n",
    "#     for i in range(1, len(shortest_path_to_x)):\n",
    "#         v = shortest_path_to_x[i]\n",
    "#         shortest_distance_directed[v] /= 2\n",
    "#         if shortest_distance[v] > r:\n",
    "#             r_prime = shortest_path_to_x[i - 1]\n",
    "#             break\n",
    "#         break\n",
    "#     petal = {}\n",
    "#     #print(directed)\n",
    "#     print(shortest_distance_directed)\n",
    "#     for v in shortest_distance_directed:\n",
    "#         if shortest_distance_directed[v] < r/2:\n",
    "#             petal[v] = {}\n",
    "    \n",
    "#     for u in directed:\n",
    "#         for v in directed[u]:\n",
    "#             if u in petal and v in petal:\n",
    "#                 petal[u][v] = directed[u][v]\n",
    "    \n",
    "#     assert r_prime in petal\n",
    "    \n",
    "#     return petal, r_prime"
   ]
  },
  {
   "cell_type": "code",
   "execution_count": 75,
   "id": "a7989f34-17d9-4954-a82f-b46300d89cd3",
   "metadata": {},
   "outputs": [],
   "source": [
    "graph = {'0': {'1': 37.0}, '1': {'0': 37.0, '6': 92.0}, '2': {'3': 5.0}, '3': {'2': 5.0, '4': 30.0}, '4': {'3': 30.0, '6': 20.0}, '5': {'6': 4.0}, '6': {'5': 4.0, '4': 20.0, '1': 92.0}}"
   ]
  },
  {
   "cell_type": "code",
   "execution_count": 80,
   "id": "284e1524-0846-4f58-9b4c-cbcd4becf939",
   "metadata": {},
   "outputs": [
    {
     "data": {
      "text/plain": [
       "{'1': {'0': 37.0, '6': 92.0},\n",
       " '0': {'1': 37.0},\n",
       " '6': {'1': 92.0, '4': 5.0, '5': 4.0},\n",
       " '4': {'6': 5.0, '3': 30.0},\n",
       " '5': {'6': 4.0},\n",
       " '3': {'2': 1.25, '4': 30.0},\n",
       " '2': {'3': 1.25}}"
      ]
     },
     "execution_count": 80,
     "metadata": {},
     "output_type": "execute_result"
    }
   ],
   "source": [
    "hierarchical_petal_decomposition(graph, '1', '5')"
   ]
  },
  {
   "cell_type": "code",
   "execution_count": 11,
   "id": "b9fba841-3733-4aba-a043-33d63b577171",
   "metadata": {},
   "outputs": [
    {
     "data": {
      "text/plain": [
       "({'C': {'F': 3}, 'F': {'C': 3}}, 'F', ['A', 'B', 'D', 'F', 'C'])"
      ]
     },
     "execution_count": 11,
     "metadata": {},
     "output_type": "execute_result"
    }
   ],
   "source": [
    "#create_petal(graph, 'A', 'C', 12 - 5*12/8)"
   ]
  },
  {
   "cell_type": "code",
   "execution_count": 12,
   "id": "44e9f8ac-3c7e-40a5-8f6b-0bf2624f3e05",
   "metadata": {},
   "outputs": [
    {
     "data": {
      "text/plain": [
       "({'C': {'F': 3}, 'F': {'C': 3}}, 'F', ['A', 'B', 'D', 'F', 'C'])"
      ]
     },
     "execution_count": 12,
     "metadata": {},
     "output_type": "execute_result"
    }
   ],
   "source": [
    "#create_petal(graph, 'A', 'C', 12 - 5*12/8)"
   ]
  },
  {
   "cell_type": "code",
   "execution_count": 13,
   "id": "4e3171e5-fb01-4876-980f-e167319457c8",
   "metadata": {},
   "outputs": [
    {
     "data": {
      "text/plain": [
       "{'A': {'B': 2, 'D': 8, 'G': 6},\n",
       " 'B': {'A': 2, 'D': 5, 'E': 6},\n",
       " 'C': {'E': 9, 'F': 3},\n",
       " 'D': {'A': 8, 'B': 5, 'E': 3, 'F': 2},\n",
       " 'E': {'B': 6, 'C': 9, 'D': 3, 'F': 1, 'G': 4},\n",
       " 'F': {'D': 2, 'E': 1, 'C': 3},\n",
       " 'G': {'A': 6, 'E': 4}}"
      ]
     },
     "execution_count": 13,
     "metadata": {},
     "output_type": "execute_result"
    }
   ],
   "source": [
    "graph"
   ]
  },
  {
   "cell_type": "code",
   "execution_count": 14,
   "id": "674891fd-fa9c-4d19-8a5b-cbaf789049b4",
   "metadata": {},
   "outputs": [],
   "source": [
    "def maintain_graph_difference(G, H):\n",
    "    result = {}\n",
    "\n",
    "    for u, neighbors in G.items():\n",
    "        if u not in H:\n",
    "            result[u] = {}\n",
    "        \n",
    "        for v in neighbors:\n",
    "            if u not in H and v not in H:\n",
    "                if u not in result:\n",
    "                    result[u] = {}\n",
    "                result[u][v] = G[u][v]\n",
    "\n",
    "    return result"
   ]
  },
  {
   "cell_type": "code",
   "execution_count": 15,
   "id": "5aff7958-7bb0-43a2-aa5c-34ed9ae3db2c",
   "metadata": {},
   "outputs": [
    {
     "data": {
      "text/plain": [
       "{'A': {'B': 2, 'D': 8, 'G': 6},\n",
       " 'B': {'A': 2, 'D': 5, 'E': 6},\n",
       " 'C': {'E': 9, 'F': 3},\n",
       " 'D': {'A': 8, 'B': 5, 'E': 3, 'F': 2},\n",
       " 'E': {'B': 6, 'C': 9, 'D': 3, 'F': 1, 'G': 4},\n",
       " 'F': {'D': 2, 'E': 1, 'C': 3},\n",
       " 'G': {'A': 6, 'E': 4}}"
      ]
     },
     "execution_count": 15,
     "metadata": {},
     "output_type": "execute_result"
    }
   ],
   "source": [
    "graph"
   ]
  },
  {
   "cell_type": "code",
   "execution_count": 16,
   "id": "9430bf8c-8b14-45af-8bcd-4d4b13731ecc",
   "metadata": {},
   "outputs": [
    {
     "data": {
      "text/plain": [
       "{'C': {'E': 9, 'F': 3},\n",
       " 'D': {'E': 3, 'F': 2},\n",
       " 'E': {'C': 9, 'D': 3, 'F': 1, 'G': 4},\n",
       " 'F': {'D': 2, 'E': 1, 'C': 3},\n",
       " 'G': {'E': 4}}"
      ]
     },
     "execution_count": 16,
     "metadata": {},
     "output_type": "execute_result"
    }
   ],
   "source": [
    "maintain_graph_difference(graph, ['A', 'B'])"
   ]
  },
  {
   "cell_type": "code",
   "execution_count": 174,
   "id": "1ed0d375-772f-4479-afba-81d97f328489",
   "metadata": {},
   "outputs": [],
   "source": [
    "def petal_decomposition(graph, x, t):\n",
    "    assert x in graph\n",
    "    if t not in graph:\n",
    "        raise ValueError(f't = {t} not in graph vertices = {list(graph.keys())}')\n",
    "    shortest_distance, predecessors = dijkstra(graph, x)\n",
    "    r = max(shortest_distance.values())\n",
    "    #print('d', shortest_distance)\n",
    "    Ys = [graph]\n",
    "    Xs = []\n",
    "    ys = []\n",
    "    xs = [x]\n",
    "    ts = []\n",
    "    j = 1\n",
    "    if shortest_distance[t] > 5*r/8:\n",
    "        \n",
    "        X_1, x_1, path = create_petal(graph, x, t, shortest_distance[t] - 5*r/8, graph)\n",
    "        #print('special petal', X_1, x_1, t, path)\n",
    "        #print('HI', X_1, x_1, t)\n",
    "        #Ys.append({key : value for key, value in Ys[0].items() if key not in X_1})\n",
    "        Ys.append(maintain_graph_difference(Ys[0], X_1))\n",
    "        Xs.append(X_1)\n",
    "        xs.append(x_1)\n",
    "        \n",
    "        y1 = x\n",
    "        min_distance = r\n",
    "        #if x_1 != t:\n",
    "        #path = shortest_path(graph, x, t, predecessors)\n",
    "        #print('path', path)\n",
    "        for i in range(len(path)):\n",
    "            if path[i] == x_1:\n",
    "                y1 = path[i-1]\n",
    "                break\n",
    "\n",
    "        j = 2\n",
    "        ts = [y1, t]\n",
    "        ys = [y1]\n",
    "        if y1 in X_1 and x_1 != t:\n",
    "            raise ValueError(f'y1 = {y1} should not be in X1 = {X_1}')\n",
    "        \n",
    "    else:\n",
    "        ts = [t] \n",
    "    while True:\n",
    "        #shortest_distance, predecessors = dijkstra(graph, x)\n",
    "        ball = {key : value for key, value in shortest_distance.items() if shortest_distance[key] < 3*r/4}\n",
    "        leftover = [v for v in Ys[-1] if v not in ball] #maintain_graph_difference(Ys[-1], ball)\n",
    "        if len(leftover) == 0:\n",
    "            break\n",
    "        else:\n",
    "            #print('leftover', leftover, '\\n')\n",
    "            ts.append(leftover[0])\n",
    "            X_j, x_j, path = create_petal(graph, x, ts[-1], r/8, Ys[-1])\n",
    "            #print(f'X_j = {X_j}, graph = {graph}, x = {x}, t_j = {ts[-1]}, r = {r/8}, Ys[-1] = {Ys[-1]}')\n",
    "            if x == ts[-1] and x_j != x:\n",
    "                print('path of length 1:', x, x_j)\n",
    "            if x_j not in X_j:\n",
    "                print(f'x_j = {x_j} not in X_j = {X_j}')\n",
    "                print(f'graph = {graph}, x = {x}, t_j = {ts[-1]}, r = {r/8}, Ys[-1] = {Ys[-1]}')\n",
    "                raise ValueError\n",
    "            assert ts[-1] in X_j\n",
    "            Xs.append(X_j)\n",
    "            xs.append(x_j)\n",
    "            Ys.append(maintain_graph_difference(Ys[-1], X_j))\n",
    "            xj_idx = -1\n",
    "            if x_j not in path:\n",
    "                print(f'x_j {x_j} not found in path {path} of length {shortest_distance[ts[-1]]}')\n",
    "            for i in range(len(path)):\n",
    "                if path[i] == x_j:\n",
    "                    xj_idx = i\n",
    "                # else:\n",
    "                #     print(f'x_j {x_j} not found in path {path}')\n",
    "                if xj_idx > -1 and i < len(path) - 1:\n",
    "                    #print('g', graph, path[i-1], path[i], path, i)\n",
    "                    graph[path[i]][path[i+1]] /= 2\n",
    "                    graph[path[i+1]][path[i]] /= 2\n",
    "                    shortest_distance[path[i]] = (shortest_distance[path[i]] + shortest_distance[path[xj_idx]])/2\n",
    "            if x_j == x:\n",
    "                print('hello')\n",
    "                ys.append(path[0])\n",
    "            else:\n",
    "                ys.append(path[xj_idx - 1])\n",
    "                #print('path', path, 'x_j', path[xj_idx], 'y_j', path[xj_idx - 1])\n",
    "            j += 1\n",
    "            if ys[-1] == xs[-1]:\n",
    "                print(path)\n",
    "                #raise ValueError('x = y')\n",
    "            if ys[-1] not in graph[xs[-1]]:\n",
    "                raise ValueError(f'{xs[-1]}, {ys[-1]} not an edge in graph')\n",
    "            #print('ys', ys)\n",
    "        #print('Completed while')\n",
    "    s = j - 1\n",
    "    X0 = Ys[s]\n",
    "    Xs = [X0] + Xs\n",
    "    return Xs, ys, xs, ts\n",
    "        "
   ]
  },
  {
   "cell_type": "code",
   "execution_count": 175,
   "id": "2ed07f13-a657-437d-b4c1-86607a7d94d2",
   "metadata": {},
   "outputs": [
    {
     "data": {
      "text/plain": [
       "([{'0': {}, '2': {'6': 1.0, '4': 33.0}, '4': {'2': 33.0}, '6': {'2': 1.0}},\n",
       "  {'1': {'3': 3.0}, '3': {'1': 3.0}},\n",
       "  {'5': {}}],\n",
       " ['2', '0'],\n",
       " ['2', '1', '5'],\n",
       " ['2', '3', '5'])"
      ]
     },
     "execution_count": 175,
     "metadata": {},
     "output_type": "execute_result"
    }
   ],
   "source": [
    "petal_decomposition(graph, '2', '3')"
   ]
  },
  {
   "cell_type": "code",
   "execution_count": 176,
   "id": "3b6be1df-46e1-4c26-9321-afc2ce90ec3a",
   "metadata": {},
   "outputs": [],
   "source": [
    "def make_undirected(graph):\n",
    "    undirected_graph = {}\n",
    "    for u in graph:\n",
    "        for v, length in graph[u].items():\n",
    "            # Add edge from u to v\n",
    "            if u not in undirected_graph:\n",
    "                undirected_graph[u] = {}\n",
    "            undirected_graph[u][v] = length\n",
    "            \n",
    "            # Add edge from v to u\n",
    "            if v not in undirected_graph:\n",
    "                undirected_graph[v] = {}\n",
    "            undirected_graph[v][u] = length\n",
    "    \n",
    "    return undirected_graph"
   ]
  },
  {
   "cell_type": "code",
   "execution_count": 177,
   "id": "bef44ac0-b369-4774-a144-fafc4c3e16b7",
   "metadata": {},
   "outputs": [],
   "source": [
    "def hierarchical_petal_decomposition(graph, x_0, t):\n",
    "    \n",
    "    if len(list(graph.keys())) == 1:\n",
    "        return graph\n",
    "    if is_tree(graph):\n",
    "        return graph\n",
    "    Xs, ys, xs, ts = petal_decomposition(graph, x_0, t)\n",
    "    #print(f'Xs = {Xs}, ys = {ys}, xs = {xs}, ts = {ts}')\n",
    "    #print(Xs[0], xs[0])\n",
    "    Ts = []\n",
    "    for j in range(len(Xs)):\n",
    "        if xs[j] not in Xs[j]:\n",
    "            print(f'xj = {xs[j]} not in {Xs[j]}')\n",
    "        if ts[j] not in Xs[j]:\n",
    "            print(f'tj = {xs[j]} not in {Xs[j]}')\n",
    "        Ts.append(hierarchical_petal_decomposition(Xs[j], xs[j], ts[j]))\n",
    "    #print(Ts)\n",
    "    T = {}\n",
    "    for tree in Ts:\n",
    "        if not is_undirected(tree):\n",
    "            print(tree)\n",
    "            raise ValueError('tree is not undirected')\n",
    "        for u in tree:\n",
    "            T[u] = tree[u]\n",
    "    #print(xs, ys)\n",
    "    if len(xs) > 1:\n",
    "        for i in range(1, len(xs)):\n",
    "            x = xs[i]\n",
    "            y = ys[i-1]\n",
    "            T[x][y] = graph[x][y]\n",
    "            T[y][x] = graph[y][x]\n",
    "    #print('T', T)\n",
    "    \n",
    "    #Make T undirected\n",
    "    #T = make_undirected(T)\n",
    "    # if not is_connected(T):\n",
    "    #     print(T, xs, ys)\n",
    "    #     raise ValueError('t is not connected')\n",
    "    # if not is_undirected(T):\n",
    "    #     print(T)\n",
    "    #     raise ValueError('t is not undirected')\n",
    "    \n",
    "    return make_undirected(T)\n",
    "        "
   ]
  },
  {
   "cell_type": "code",
   "execution_count": 178,
   "id": "bfdfd29a-53a9-4726-8890-f3a09282c96f",
   "metadata": {},
   "outputs": [
    {
     "ename": "AssertionError",
     "evalue": "",
     "output_type": "error",
     "traceback": [
      "\u001b[1;31m---------------------------------------------------------------------------\u001b[0m",
      "\u001b[1;31mAssertionError\u001b[0m                            Traceback (most recent call last)",
      "Cell \u001b[1;32mIn [178], line 1\u001b[0m\n\u001b[1;32m----> 1\u001b[0m tree \u001b[38;5;241m=\u001b[39m \u001b[43mhierarchical_petal_decomposition\u001b[49m\u001b[43m(\u001b[49m\u001b[43mgraph\u001b[49m\u001b[43m,\u001b[49m\u001b[43m \u001b[49m\u001b[38;5;124;43m'\u001b[39;49m\u001b[38;5;124;43mA\u001b[39;49m\u001b[38;5;124;43m'\u001b[39;49m\u001b[43m,\u001b[49m\u001b[43m \u001b[49m\u001b[38;5;124;43m'\u001b[39;49m\u001b[38;5;124;43mC\u001b[39;49m\u001b[38;5;124;43m'\u001b[39;49m\u001b[43m)\u001b[49m\n",
      "Cell \u001b[1;32mIn [177], line 7\u001b[0m, in \u001b[0;36mhierarchical_petal_decomposition\u001b[1;34m(graph, x_0, t)\u001b[0m\n\u001b[0;32m      5\u001b[0m \u001b[38;5;28;01mif\u001b[39;00m is_tree(graph):\n\u001b[0;32m      6\u001b[0m     \u001b[38;5;28;01mreturn\u001b[39;00m graph\n\u001b[1;32m----> 7\u001b[0m Xs, ys, xs, ts \u001b[38;5;241m=\u001b[39m \u001b[43mpetal_decomposition\u001b[49m\u001b[43m(\u001b[49m\u001b[43mgraph\u001b[49m\u001b[43m,\u001b[49m\u001b[43m \u001b[49m\u001b[43mx_0\u001b[49m\u001b[43m,\u001b[49m\u001b[43m \u001b[49m\u001b[43mt\u001b[49m\u001b[43m)\u001b[49m\n\u001b[0;32m      8\u001b[0m \u001b[38;5;66;03m#print(f'Xs = {Xs}, ys = {ys}, xs = {xs}, ts = {ts}')\u001b[39;00m\n\u001b[0;32m      9\u001b[0m \u001b[38;5;66;03m#print(Xs[0], xs[0])\u001b[39;00m\n\u001b[0;32m     10\u001b[0m Ts \u001b[38;5;241m=\u001b[39m []\n",
      "Cell \u001b[1;32mIn [174], line 2\u001b[0m, in \u001b[0;36mpetal_decomposition\u001b[1;34m(graph, x, t)\u001b[0m\n\u001b[0;32m      1\u001b[0m \u001b[38;5;28;01mdef\u001b[39;00m \u001b[38;5;21mpetal_decomposition\u001b[39m(graph, x, t):\n\u001b[1;32m----> 2\u001b[0m     \u001b[38;5;28;01massert\u001b[39;00m x \u001b[38;5;129;01min\u001b[39;00m graph\n\u001b[0;32m      3\u001b[0m     \u001b[38;5;28;01mif\u001b[39;00m t \u001b[38;5;129;01mnot\u001b[39;00m \u001b[38;5;129;01min\u001b[39;00m graph:\n\u001b[0;32m      4\u001b[0m         \u001b[38;5;28;01mraise\u001b[39;00m \u001b[38;5;167;01mValueError\u001b[39;00m(\u001b[38;5;124mf\u001b[39m\u001b[38;5;124m'\u001b[39m\u001b[38;5;124mt = \u001b[39m\u001b[38;5;132;01m{\u001b[39;00mt\u001b[38;5;132;01m}\u001b[39;00m\u001b[38;5;124m not in graph vertices = \u001b[39m\u001b[38;5;132;01m{\u001b[39;00m\u001b[38;5;28mlist\u001b[39m(graph\u001b[38;5;241m.\u001b[39mkeys())\u001b[38;5;132;01m}\u001b[39;00m\u001b[38;5;124m'\u001b[39m)\n",
      "\u001b[1;31mAssertionError\u001b[0m: "
     ]
    }
   ],
   "source": [
    "tree = hierarchical_petal_decomposition(graph, 'A', 'C')"
   ]
  },
  {
   "cell_type": "code",
   "execution_count": 180,
   "id": "6840720a-be2b-4e58-9051-5b6f8a0be1cf",
   "metadata": {},
   "outputs": [
    {
     "data": {
      "text/plain": [
       "{'0': {'2': 85.0, '5': 8.0},\n",
       " '1': {'4': 18.0},\n",
       " '2': {'0': 85.0, '6': 50.0, '4': 96.0},\n",
       " '3': {'4': 93.0},\n",
       " '4': {'1': 18.0, '3': 93.0, '2': 96.0},\n",
       " '5': {'0': 8.0},\n",
       " '6': {'2': 50.0}}"
      ]
     },
     "execution_count": 180,
     "metadata": {},
     "output_type": "execute_result"
    }
   ],
   "source": [
    "tree"
   ]
  },
  {
   "cell_type": "markdown",
   "id": "59b9bb89-4421-48e3-9488-a02453005e74",
   "metadata": {},
   "source": [
    "### Tree"
   ]
  },
  {
   "cell_type": "code",
   "execution_count": 95,
   "id": "c88a26d7-d0ec-4342-88c0-804a34c2f2ff",
   "metadata": {},
   "outputs": [],
   "source": [
    "import numpy as np\n",
    "from tqdm import tqdm\n",
    "def calculate_stretch(graph, x_0, t):\n",
    "    T = hierarchical_petal_decomposition(graph, x_0, t)\n",
    "    assert is_undirected(T)\n",
    "    T = make_undirected(T)\n",
    "    #print(T)\n",
    "    if len(T) != len(graph):\n",
    "        raise ValueError(f'Not a spanning tree. T has {len(t)} vertices while the original graph has {len(graph)} vertices')\n",
    "    m = len(graph)\n",
    "    n = 0\n",
    "    #t_length = 0\n",
    "    #graph_length = 0\n",
    "    stretch = 0\n",
    "    graph_keys_list = list(graph.keys())\n",
    "    for i in tqdm(range(len(graph_keys_list))):\n",
    "        u = graph_keys_list[i]\n",
    "        for v in graph[u]:\n",
    "            assert u in T and v in T\n",
    "            n += 1\n",
    "            distances, _ = dijkstra(T, u)\n",
    "            if distances[v] == float('inf'):\n",
    "                print('INF', u, v, T)\n",
    "                print(is_undirected(T))\n",
    "                print(is_connected(T))\n",
    "                raise ValueError('Distance should be finite')\n",
    "            stretch += distances[v]/graph[u][v]\n",
    "    print(f'fraction of edges: {(n/2)/(m*(m-1)/2) }')\n",
    "    n /= 2\n",
    "    bound = m * np.log(n) * np.log(np.log(n))\n",
    "    #print(f'stretch = {stretch}')\n",
    "    return stretch/bound"
   ]
  },
  {
   "cell_type": "code",
   "execution_count": 96,
   "id": "effd9a7b-8037-4533-a577-1f75b914852e",
   "metadata": {},
   "outputs": [],
   "source": [
    "import random\n",
    "\n",
    "def generate_graph(m, p):\n",
    "    if m <= 1:\n",
    "        # Special case: a single vertex graph is always connected.\n",
    "        return {'0': {}}\n",
    "\n",
    "    # Create a list of vertices as strings from '0' to 'm-1'.\n",
    "    vertices = [str(i) for i in range(m)]\n",
    "\n",
    "    # Create a dictionary to represent the graph with edge lengths.\n",
    "    graph = {v: {} for v in vertices}\n",
    "\n",
    "    # Create a list of edges with associated probabilities.\n",
    "    edges = []\n",
    "\n",
    "    for i in range(m):\n",
    "        for j in range(i + 1, m):\n",
    "            if random.random() < p:\n",
    "                edges.append((vertices[i], vertices[j]))\n",
    "\n",
    "    # Create a minimum spanning tree using Prim's algorithm.\n",
    "    random.shuffle(vertices)\n",
    "    visited = set([vertices[0]])\n",
    "    while len(visited) < m:\n",
    "        current_vertex = random.choice(list(visited))\n",
    "        remaining_vertices = [v for v in vertices if v not in visited]\n",
    "        if not remaining_vertices:\n",
    "            break\n",
    "        next_vertex = random.choice(remaining_vertices)\n",
    "        visited.add(next_vertex)\n",
    "        edge = (current_vertex, next_vertex)\n",
    "        edges.append(edge)\n",
    "\n",
    "    # Shuffle the list of edges to randomize the order.\n",
    "    random.shuffle(edges)\n",
    "\n",
    "    # Add the edges to the graph.\n",
    "    for (start_vertex, end_vertex) in edges:\n",
    "        edge_length = float(random.randint(1.0, 100.0))  # Modify this range as needed\n",
    "        graph[start_vertex][end_vertex] = edge_length\n",
    "        graph[end_vertex][start_vertex] = edge_length\n",
    "\n",
    "    return graph\n",
    "\n",
    "# # Example usage:\n",
    "# m = 5\n",
    "# p = 0.5  # Probability of an edge between any pair of vertices\n",
    "# connected_graph = generate_connected_graph_with_probability(m, p)\n",
    "# print(connected_graph)"
   ]
  },
  {
   "cell_type": "code",
   "execution_count": 97,
   "id": "2b92b6fa-d950-48c9-8654-6547c0ed68ec",
   "metadata": {},
   "outputs": [
    {
     "name": "stdout",
     "output_type": "stream",
     "text": [
      "The graph is connected.\n"
     ]
    }
   ],
   "source": [
    "def is_connected(graph):\n",
    "    if not graph:\n",
    "        # An empty graph is considered connected\n",
    "        return True\n",
    "\n",
    "    def dfs(node, visited):\n",
    "        visited[node] = True\n",
    "        for neighbor in graph[node]:\n",
    "            if not visited[neighbor]:\n",
    "                dfs(neighbor, visited)\n",
    "\n",
    "    # Initialize a dictionary to keep track of visited nodes\n",
    "    visited = {node: False for node in graph}\n",
    "\n",
    "    # Choose any node as the starting point\n",
    "    start_node = next(iter(graph))\n",
    "    dfs(start_node, visited)\n",
    "\n",
    "    # Check if all nodes have been visited\n",
    "    return all(visited[node] for node in graph)\n",
    "\n",
    "# Example usage:\n",
    "graph = {\n",
    "    'A': {'B': 2, 'D': 8, 'G' : 6},\n",
    "    'B': {'A': 2, 'D': 5, 'E': 6},\n",
    "    'C': {'E': 9, 'F': 3},\n",
    "    'D': {'A': 8, 'B': 5, 'E': 3, 'F': 2},\n",
    "    'E': {'B': 6, 'C': 9, 'D': 3, 'F': 1, 'G': 4},\n",
    "    'F': {'D': 2, 'E': 1, 'C': 3},\n",
    "    'G': {'A': 6, 'E': 4}\n",
    "}\n",
    "\n",
    "connected = is_connected(graph)\n",
    "if connected:\n",
    "    print(\"The graph is connected.\")\n",
    "else:\n",
    "    print(\"The graph is not connected.\")"
   ]
  },
  {
   "cell_type": "code",
   "execution_count": 170,
   "id": "a2274090-297a-4d1d-a061-61f2d9c04d09",
   "metadata": {},
   "outputs": [],
   "source": [
    "def furthest_point(graph, x_0):\n",
    "    distances, _ = dijkstra(graph, x_0)\n",
    "    #print(distances)\n",
    "    max_dist = max(distances.values())\n",
    "    for v in distances:\n",
    "        if distances[v] == max_dist:\n",
    "            return v"
   ]
  },
  {
   "cell_type": "code",
   "execution_count": 171,
   "id": "d8c66eb8-bacc-43f9-b5f3-21cfb0032c4d",
   "metadata": {},
   "outputs": [
    {
     "data": {
      "text/plain": [
       "'6'"
      ]
     },
     "execution_count": 171,
     "metadata": {},
     "output_type": "execute_result"
    }
   ],
   "source": [
    "furthest_point(graph, '0')"
   ]
  },
  {
   "cell_type": "code",
   "execution_count": 172,
   "id": "0b9f0cf3-fa36-4e2e-9dfa-f923ff726a74",
   "metadata": {},
   "outputs": [],
   "source": [
    "import random\n",
    "\n",
    "# Create a graph represented as a dictionary\n",
    "\n",
    "def test_lsst(m, p):\n",
    "\n",
    "#     graph = {}\n",
    "#     vertices = [str(i) for i in range(m)]\n",
    "\n",
    "#     # Create edges with random lengths\n",
    "#     for i in range(m):\n",
    "#         for j in range(i + 1, m):\n",
    "#             if np.random.uniform() < p:\n",
    "#                 edge_length = np.random.randint(1, 100)  # Random edge length between 1 and 10\n",
    "#                 if vertices[i] not in graph:\n",
    "#                     graph[vertices[i]] = {}\n",
    "#                 if vertices[j] not in graph:\n",
    "#                     graph[vertices[j]] = {}\n",
    "#                 graph[vertices[i]][vertices[j]] = edge_length\n",
    "#                 graph[vertices[j]][vertices[i]] = edge_length  # Undirected, so add the reverse edge\n",
    "#             else:\n",
    "#                 print('oops')\n",
    "\n",
    "    graph = generate_graph(m, p)\n",
    "    assert is_connected(graph)\n",
    "            \n",
    "    v1 = '0' #str(np.random.randint(0, m))\n",
    "    v2 = furthest_point(graph, v1) #str(np.random.randint(0, m))\n",
    "    \n",
    "    #print(graph, v1, v2)\n",
    "    return calculate_stretch(graph, v1, v2)\n",
    "\n",
    "# Example: Accessing the length of the edge between vertex '0' and '1'\n",
    "#edge_length_01 = graph['0']['1']"
   ]
  },
  {
   "cell_type": "code",
   "execution_count": null,
   "id": "34683069-a5cb-4709-9976-90d328d94870",
   "metadata": {},
   "outputs": [],
   "source": []
  },
  {
   "cell_type": "code",
   "execution_count": 181,
   "id": "90d8dfa2-638a-4bb1-8e18-52264743c04c",
   "metadata": {},
   "outputs": [
    {
     "name": "stdout",
     "output_type": "stream",
     "text": [
      "Starting trial 1 of 200\n"
     ]
    },
    {
     "name": "stderr",
     "output_type": "stream",
     "text": [
      "100%|██████████| 7/7 [00:00<?, ?it/s]\n"
     ]
    },
    {
     "name": "stdout",
     "output_type": "stream",
     "text": [
      "fraction of edges: 0.38095238095238093\n",
      "1.5632089450997693\n",
      "Starting trial 2 of 200\n"
     ]
    },
    {
     "name": "stderr",
     "output_type": "stream",
     "text": [
      "100%|██████████| 7/7 [00:00<00:00, 61941.20it/s]\n"
     ]
    },
    {
     "name": "stdout",
     "output_type": "stream",
     "text": [
      "fraction of edges: 0.3333333333333333\n",
      "1.8371261591999717\n",
      "Starting trial 3 of 200\n"
     ]
    },
    {
     "name": "stderr",
     "output_type": "stream",
     "text": [
      "100%|██████████| 7/7 [00:00<00:00, 13726.10it/s]\n"
     ]
    },
    {
     "name": "stdout",
     "output_type": "stream",
     "text": [
      "fraction of edges: 0.38095238095238093\n",
      "1.6405385837035715\n",
      "Starting trial 4 of 200\n"
     ]
    },
    {
     "name": "stderr",
     "output_type": "stream",
     "text": [
      "100%|██████████| 7/7 [00:00<00:00, 13213.38it/s]\n"
     ]
    },
    {
     "name": "stdout",
     "output_type": "stream",
     "text": [
      "fraction of edges: 0.2857142857142857\n",
      "1.6405422198987125\n",
      "Starting trial 5 of 200\n"
     ]
    },
    {
     "name": "stderr",
     "output_type": "stream",
     "text": [
      "100%|██████████| 7/7 [00:00<00:00, 13842.59it/s]\n"
     ]
    },
    {
     "name": "stdout",
     "output_type": "stream",
     "text": [
      "fraction of edges: 0.38095238095238093\n",
      "1.7607412553592354\n",
      "Starting trial 6 of 200\n"
     ]
    },
    {
     "name": "stderr",
     "output_type": "stream",
     "text": [
      "100%|██████████| 7/7 [00:00<00:00, 44283.75it/s]\n"
     ]
    },
    {
     "name": "stdout",
     "output_type": "stream",
     "text": [
      "fraction of edges: 0.2857142857142857\n",
      "1.6405422198987125\n",
      "Starting trial 7 of 200\n"
     ]
    },
    {
     "name": "stderr",
     "output_type": "stream",
     "text": [
      "100%|██████████| 7/7 [00:00<00:00, 13279.12it/s]\n"
     ]
    },
    {
     "name": "stdout",
     "output_type": "stream",
     "text": [
      "fraction of edges: 0.3333333333333333\n",
      "1.9760274649328227\n",
      "Starting trial 8 of 200\n"
     ]
    },
    {
     "name": "stderr",
     "output_type": "stream",
     "text": [
      "100%|██████████| 7/7 [00:00<00:00, 30020.58it/s]\n"
     ]
    },
    {
     "name": "stdout",
     "output_type": "stream",
     "text": [
      "fraction of edges: 0.3333333333333333\n",
      "1.5683703827588147\n",
      "Starting trial 9 of 200\n"
     ]
    },
    {
     "name": "stderr",
     "output_type": "stream",
     "text": [
      "100%|██████████| 7/7 [00:00<?, ?it/s]\n"
     ]
    },
    {
     "name": "stdout",
     "output_type": "stream",
     "text": [
      "fraction of edges: 0.38095238095238093\n",
      "2.437275619155464\n",
      "Starting trial 10 of 200\n"
     ]
    },
    {
     "name": "stderr",
     "output_type": "stream",
     "text": [
      "100%|██████████| 7/7 [00:00<?, ?it/s]\n"
     ]
    },
    {
     "name": "stdout",
     "output_type": "stream",
     "text": [
      "fraction of edges: 0.42857142857142855\n",
      "2.102323496875243\n",
      "Starting trial 11 of 200\n"
     ]
    },
    {
     "name": "stderr",
     "output_type": "stream",
     "text": [
      "100%|██████████| 7/7 [00:00<?, ?it/s]\n"
     ]
    },
    {
     "name": "stdout",
     "output_type": "stream",
     "text": [
      "fraction of edges: 0.3333333333333333\n",
      "1.7060352463189865\n",
      "Starting trial 12 of 200\n"
     ]
    },
    {
     "name": "stderr",
     "output_type": "stream",
     "text": [
      "100%|██████████| 7/7 [00:00<?, ?it/s]\n"
     ]
    },
    {
     "name": "stdout",
     "output_type": "stream",
     "text": [
      "fraction of edges: 0.42857142857142855\n",
      "2.2302024810878582\n",
      "Starting trial 13 of 200\n"
     ]
    },
    {
     "name": "stderr",
     "output_type": "stream",
     "text": [
      "100%|██████████| 7/7 [00:00<00:00, 10898.34it/s]\n"
     ]
    },
    {
     "name": "stdout",
     "output_type": "stream",
     "text": [
      "fraction of edges: 0.38095238095238093\n",
      "1.6007386641604902\n",
      "Starting trial 14 of 200\n"
     ]
    },
    {
     "name": "stderr",
     "output_type": "stream",
     "text": [
      "100%|██████████| 7/7 [00:00<?, ?it/s]\n"
     ]
    },
    {
     "name": "stdout",
     "output_type": "stream",
     "text": [
      "fraction of edges: 0.42857142857142855\n",
      "1.4379082590711871\n",
      "Starting trial 15 of 200\n"
     ]
    },
    {
     "name": "stderr",
     "output_type": "stream",
     "text": [
      "100%|██████████| 7/7 [00:00<?, ?it/s]\n"
     ]
    },
    {
     "name": "stdout",
     "output_type": "stream",
     "text": [
      "fraction of edges: 0.3333333333333333\n",
      "2.2689673409817694\n",
      "Starting trial 16 of 200\n"
     ]
    },
    {
     "name": "stderr",
     "output_type": "stream",
     "text": [
      "100%|██████████| 7/7 [00:00<?, ?it/s]\n"
     ]
    },
    {
     "name": "stdout",
     "output_type": "stream",
     "text": [
      "fraction of edges: 0.3333333333333333\n",
      "2.6608541876845617\n",
      "Starting trial 17 of 200\n"
     ]
    },
    {
     "name": "stderr",
     "output_type": "stream",
     "text": [
      "100%|██████████| 7/7 [00:00<00:00, 80659.69it/s]\n"
     ]
    },
    {
     "name": "stdout",
     "output_type": "stream",
     "text": [
      "fraction of edges: 0.3333333333333333\n",
      "1.5346749253167307\n",
      "Starting trial 18 of 200\n"
     ]
    },
    {
     "name": "stderr",
     "output_type": "stream",
     "text": [
      "100%|██████████| 7/7 [00:00<?, ?it/s]\n"
     ]
    },
    {
     "name": "stdout",
     "output_type": "stream",
     "text": [
      "fraction of edges: 0.38095238095238093\n",
      "1.6851991860034305\n",
      "Starting trial 19 of 200\n"
     ]
    },
    {
     "name": "stderr",
     "output_type": "stream",
     "text": [
      "100%|██████████| 7/7 [00:00<00:00, 13020.01it/s]\n"
     ]
    },
    {
     "name": "stdout",
     "output_type": "stream",
     "text": [
      "fraction of edges: 0.47619047619047616\n",
      "3.0883449512720085\n",
      "Starting trial 20 of 200\n"
     ]
    },
    {
     "name": "stderr",
     "output_type": "stream",
     "text": [
      "100%|██████████| 7/7 [00:00<?, ?it/s]\n"
     ]
    },
    {
     "name": "stdout",
     "output_type": "stream",
     "text": [
      "fraction of edges: 0.3333333333333333\n",
      "1.4120128055374452\n",
      "Starting trial 21 of 200\n"
     ]
    },
    {
     "name": "stderr",
     "output_type": "stream",
     "text": [
      "100%|██████████| 7/7 [00:00<?, ?it/s]\n"
     ]
    },
    {
     "name": "stdout",
     "output_type": "stream",
     "text": [
      "fraction of edges: 0.42857142857142855\n",
      "1.582282624704699\n",
      "Starting trial 22 of 200\n"
     ]
    },
    {
     "name": "stderr",
     "output_type": "stream",
     "text": [
      "100%|██████████| 7/7 [00:00<?, ?it/s]\n"
     ]
    },
    {
     "name": "stdout",
     "output_type": "stream",
     "text": [
      "fraction of edges: 0.3333333333333333\n",
      "1.7081055099461027\n",
      "Starting trial 23 of 200\n"
     ]
    },
    {
     "name": "stderr",
     "output_type": "stream",
     "text": [
      "100%|██████████| 7/7 [00:00<00:00, 12042.71it/s]\n"
     ]
    },
    {
     "name": "stdout",
     "output_type": "stream",
     "text": [
      "fraction of edges: 0.3333333333333333\n",
      "1.6817096487003698\n",
      "Starting trial 24 of 200\n"
     ]
    },
    {
     "name": "stderr",
     "output_type": "stream",
     "text": [
      "100%|██████████| 7/7 [00:00<00:00, 98194.41it/s]\n"
     ]
    },
    {
     "name": "stdout",
     "output_type": "stream",
     "text": [
      "fraction of edges: 0.42857142857142855\n",
      "2.0323113686597756\n",
      "Starting trial 25 of 200\n"
     ]
    },
    {
     "name": "stderr",
     "output_type": "stream",
     "text": [
      "100%|██████████| 7/7 [00:00<00:00, 74329.44it/s]\n"
     ]
    },
    {
     "name": "stdout",
     "output_type": "stream",
     "text": [
      "fraction of edges: 0.38095238095238093\n",
      "1.3280853888232937\n",
      "Starting trial 26 of 200\n"
     ]
    },
    {
     "name": "stderr",
     "output_type": "stream",
     "text": [
      "100%|██████████| 7/7 [00:00<?, ?it/s]\n"
     ]
    },
    {
     "name": "stdout",
     "output_type": "stream",
     "text": [
      "fraction of edges: 0.5714285714285714\n",
      "2.771206411209366\n",
      "Starting trial 27 of 200\n"
     ]
    },
    {
     "name": "stderr",
     "output_type": "stream",
     "text": [
      "100%|██████████| 7/7 [00:00<?, ?it/s]\n"
     ]
    },
    {
     "name": "stdout",
     "output_type": "stream",
     "text": [
      "fraction of edges: 0.38095238095238093\n",
      "1.2937102299070027\n",
      "Starting trial 28 of 200\n"
     ]
    },
    {
     "name": "stderr",
     "output_type": "stream",
     "text": [
      "100%|██████████| 7/7 [00:00<?, ?it/s]\n"
     ]
    },
    {
     "name": "stdout",
     "output_type": "stream",
     "text": [
      "fraction of edges: 0.38095238095238093\n",
      "1.5030986212173523\n",
      "Starting trial 29 of 200\n"
     ]
    },
    {
     "name": "stderr",
     "output_type": "stream",
     "text": [
      "100%|██████████| 7/7 [00:00<?, ?it/s]\n"
     ]
    },
    {
     "name": "stdout",
     "output_type": "stream",
     "text": [
      "fraction of edges: 0.38095238095238093\n",
      "1.4575230706436835\n",
      "Starting trial 30 of 200\n"
     ]
    },
    {
     "name": "stderr",
     "output_type": "stream",
     "text": [
      "100%|██████████| 7/7 [00:00<?, ?it/s]\n"
     ]
    },
    {
     "name": "stdout",
     "output_type": "stream",
     "text": [
      "fraction of edges: 0.3333333333333333\n",
      "1.8507196704158022\n",
      "Starting trial 31 of 200\n"
     ]
    },
    {
     "name": "stderr",
     "output_type": "stream",
     "text": [
      "100%|██████████| 7/7 [00:00<?, ?it/s]\n"
     ]
    },
    {
     "name": "stdout",
     "output_type": "stream",
     "text": [
      "fraction of edges: 0.38095238095238093\n",
      "1.3543661044793407\n",
      "Starting trial 32 of 200\n"
     ]
    },
    {
     "name": "stderr",
     "output_type": "stream",
     "text": [
      "100%|██████████| 7/7 [00:00<00:00, 12356.96it/s]\n"
     ]
    },
    {
     "name": "stdout",
     "output_type": "stream",
     "text": [
      "fraction of edges: 0.3333333333333333\n",
      "1.4703472338363888\n",
      "Starting trial 33 of 200\n"
     ]
    },
    {
     "name": "stderr",
     "output_type": "stream",
     "text": [
      "100%|██████████| 7/7 [00:00<00:00, 10404.01it/s]\n"
     ]
    },
    {
     "name": "stdout",
     "output_type": "stream",
     "text": [
      "fraction of edges: 0.42857142857142855\n",
      "3.0844915119837384\n",
      "Starting trial 34 of 200\n"
     ]
    },
    {
     "name": "stderr",
     "output_type": "stream",
     "text": [
      "100%|██████████| 7/7 [00:00<?, ?it/s]\n"
     ]
    },
    {
     "name": "stdout",
     "output_type": "stream",
     "text": [
      "fraction of edges: 0.2857142857142857\n",
      "1.6405422198987125\n",
      "Starting trial 35 of 200\n"
     ]
    },
    {
     "name": "stderr",
     "output_type": "stream",
     "text": [
      "100%|██████████| 7/7 [00:00<00:00, 12748.64it/s]\n"
     ]
    },
    {
     "name": "stdout",
     "output_type": "stream",
     "text": [
      "fraction of edges: 0.3333333333333333\n",
      "1.8125371355292212\n",
      "Starting trial 36 of 200\n"
     ]
    },
    {
     "name": "stderr",
     "output_type": "stream",
     "text": [
      "100%|██████████| 7/7 [00:00<?, ?it/s]\n"
     ]
    },
    {
     "name": "stdout",
     "output_type": "stream",
     "text": [
      "fraction of edges: 0.3333333333333333\n",
      "2.128327620978173\n",
      "Starting trial 37 of 200\n"
     ]
    },
    {
     "name": "stderr",
     "output_type": "stream",
     "text": [
      "100%|██████████| 7/7 [00:00<00:00, 4322.12it/s]\n"
     ]
    },
    {
     "name": "stdout",
     "output_type": "stream",
     "text": [
      "fraction of edges: 0.3333333333333333\n",
      "2.136777343718077\n",
      "Starting trial 38 of 200\n"
     ]
    },
    {
     "name": "stderr",
     "output_type": "stream",
     "text": [
      "100%|██████████| 7/7 [00:00<?, ?it/s]\n"
     ]
    },
    {
     "name": "stdout",
     "output_type": "stream",
     "text": [
      "fraction of edges: 0.42857142857142855\n",
      "1.2910897616957326\n",
      "Starting trial 39 of 200\n"
     ]
    },
    {
     "name": "stderr",
     "output_type": "stream",
     "text": [
      "100%|██████████| 7/7 [00:00<00:00, 13561.26it/s]\n"
     ]
    },
    {
     "name": "stdout",
     "output_type": "stream",
     "text": [
      "fraction of edges: 0.38095238095238093\n",
      "1.512750673565426\n",
      "Starting trial 40 of 200\n"
     ]
    },
    {
     "name": "stderr",
     "output_type": "stream",
     "text": [
      "100%|██████████| 7/7 [00:00<?, ?it/s]\n"
     ]
    },
    {
     "name": "stdout",
     "output_type": "stream",
     "text": [
      "fraction of edges: 0.2857142857142857\n",
      "1.6405422198987125\n",
      "Starting trial 41 of 200\n"
     ]
    },
    {
     "name": "stderr",
     "output_type": "stream",
     "text": [
      "100%|██████████| 7/7 [00:00<00:00, 37982.05it/s]\n"
     ]
    },
    {
     "name": "stdout",
     "output_type": "stream",
     "text": [
      "fraction of edges: 0.42857142857142855\n",
      "25.975670516438687\n",
      "Starting trial 42 of 200\n"
     ]
    },
    {
     "name": "stderr",
     "output_type": "stream",
     "text": [
      "100%|██████████| 7/7 [00:00<00:00, 13790.57it/s]\n"
     ]
    },
    {
     "name": "stdout",
     "output_type": "stream",
     "text": [
      "fraction of edges: 0.38095238095238093\n",
      "1.3709531929642758\n",
      "Starting trial 43 of 200\n"
     ]
    },
    {
     "name": "stderr",
     "output_type": "stream",
     "text": [
      "100%|██████████| 7/7 [00:00<?, ?it/s]\n"
     ]
    },
    {
     "name": "stdout",
     "output_type": "stream",
     "text": [
      "fraction of edges: 0.2857142857142857\n",
      "1.6405422198987125\n",
      "Starting trial 44 of 200\n"
     ]
    },
    {
     "name": "stderr",
     "output_type": "stream",
     "text": [
      "100%|██████████| 7/7 [00:00<?, ?it/s]\n"
     ]
    },
    {
     "name": "stdout",
     "output_type": "stream",
     "text": [
      "fraction of edges: 0.38095238095238093\n",
      "2.08103601771788\n",
      "Starting trial 45 of 200\n"
     ]
    },
    {
     "name": "stderr",
     "output_type": "stream",
     "text": [
      "100%|██████████| 7/7 [00:00<?, ?it/s]\n"
     ]
    },
    {
     "name": "stdout",
     "output_type": "stream",
     "text": [
      "fraction of edges: 0.3333333333333333\n",
      "2.7302827083479153\n",
      "Starting trial 46 of 200\n"
     ]
    },
    {
     "name": "stderr",
     "output_type": "stream",
     "text": [
      "100%|██████████| 7/7 [00:00<?, ?it/s]\n"
     ]
    },
    {
     "name": "stdout",
     "output_type": "stream",
     "text": [
      "fraction of edges: 0.3333333333333333\n",
      "1.6587354731716764\n",
      "Starting trial 47 of 200\n"
     ]
    },
    {
     "name": "stderr",
     "output_type": "stream",
     "text": [
      "100%|██████████| 7/7 [00:00<00:00, 12905.55it/s]\n"
     ]
    },
    {
     "name": "stdout",
     "output_type": "stream",
     "text": [
      "fraction of edges: 0.47619047619047616\n",
      "1.8248114910577498\n",
      "Starting trial 48 of 200\n"
     ]
    },
    {
     "name": "stderr",
     "output_type": "stream",
     "text": [
      "100%|██████████| 7/7 [00:00<00:00, 45100.04it/s]\n"
     ]
    },
    {
     "name": "stdout",
     "output_type": "stream",
     "text": [
      "fraction of edges: 0.38095238095238093\n",
      "1.7324233812202028\n",
      "Starting trial 49 of 200\n"
     ]
    },
    {
     "name": "stderr",
     "output_type": "stream",
     "text": [
      "100%|██████████| 7/7 [00:00<?, ?it/s]\n"
     ]
    },
    {
     "name": "stdout",
     "output_type": "stream",
     "text": [
      "fraction of edges: 0.2857142857142857\n",
      "1.6405422198987125\n",
      "Starting trial 50 of 200\n"
     ]
    },
    {
     "name": "stderr",
     "output_type": "stream",
     "text": [
      "100%|██████████| 7/7 [00:00<?, ?it/s]\n"
     ]
    },
    {
     "name": "stdout",
     "output_type": "stream",
     "text": [
      "fraction of edges: 0.3333333333333333\n",
      "1.7644166806036665\n",
      "Starting trial 51 of 200\n"
     ]
    },
    {
     "name": "stderr",
     "output_type": "stream",
     "text": [
      "100%|██████████| 7/7 [00:00<00:00, 13823.04it/s]\n"
     ]
    },
    {
     "name": "stdout",
     "output_type": "stream",
     "text": [
      "fraction of edges: 0.42857142857142855\n",
      "1.5033638557591555\n",
      "Starting trial 52 of 200\n"
     ]
    },
    {
     "name": "stderr",
     "output_type": "stream",
     "text": [
      "100%|██████████| 7/7 [00:00<?, ?it/s]\n"
     ]
    },
    {
     "name": "stdout",
     "output_type": "stream",
     "text": [
      "fraction of edges: 0.2857142857142857\n",
      "1.6405422198987125\n",
      "Starting trial 53 of 200\n"
     ]
    },
    {
     "name": "stderr",
     "output_type": "stream",
     "text": [
      "100%|██████████| 7/7 [00:00<?, ?it/s]\n"
     ]
    },
    {
     "name": "stdout",
     "output_type": "stream",
     "text": [
      "fraction of edges: 0.2857142857142857\n",
      "1.6405422198987125\n",
      "Starting trial 54 of 200\n"
     ]
    },
    {
     "name": "stderr",
     "output_type": "stream",
     "text": [
      "100%|██████████| 7/7 [00:00<?, ?it/s]\n"
     ]
    },
    {
     "name": "stdout",
     "output_type": "stream",
     "text": [
      "fraction of edges: 0.47619047619047616\n",
      "1.5529032157231284\n",
      "Starting trial 55 of 200\n"
     ]
    },
    {
     "name": "stderr",
     "output_type": "stream",
     "text": [
      "100%|██████████| 7/7 [00:00<00:00, 11482.26it/s]\n"
     ]
    },
    {
     "name": "stdout",
     "output_type": "stream",
     "text": [
      "fraction of edges: 0.38095238095238093\n",
      "3.6972722744427933\n",
      "Starting trial 56 of 200\n"
     ]
    },
    {
     "name": "stderr",
     "output_type": "stream",
     "text": [
      "100%|██████████| 7/7 [00:00<00:00, 11500.25it/s]\n"
     ]
    },
    {
     "name": "stdout",
     "output_type": "stream",
     "text": [
      "fraction of edges: 0.3333333333333333\n",
      "1.517746585453483\n",
      "Starting trial 57 of 200\n"
     ]
    },
    {
     "name": "stderr",
     "output_type": "stream",
     "text": [
      "100%|██████████| 7/7 [00:00<?, ?it/s]\n"
     ]
    },
    {
     "name": "stdout",
     "output_type": "stream",
     "text": [
      "fraction of edges: 0.3333333333333333\n",
      "1.8438154312308315\n",
      "Starting trial 58 of 200\n"
     ]
    },
    {
     "name": "stderr",
     "output_type": "stream",
     "text": [
      "100%|██████████| 7/7 [00:00<?, ?it/s]\n"
     ]
    },
    {
     "name": "stdout",
     "output_type": "stream",
     "text": [
      "fraction of edges: 0.38095238095238093\n",
      "1.772464432915092\n",
      "Starting trial 59 of 200\n"
     ]
    },
    {
     "name": "stderr",
     "output_type": "stream",
     "text": [
      "100%|██████████| 7/7 [00:00<?, ?it/s]\n"
     ]
    },
    {
     "name": "stdout",
     "output_type": "stream",
     "text": [
      "fraction of edges: 0.3333333333333333\n",
      "1.3911746904759679\n",
      "Starting trial 60 of 200\n"
     ]
    },
    {
     "name": "stderr",
     "output_type": "stream",
     "text": [
      "100%|██████████| 7/7 [00:00<00:00, 11096.04it/s]"
     ]
    },
    {
     "name": "stdout",
     "output_type": "stream",
     "text": [
      "fraction of edges: 0.38095238095238093\n",
      "1.9371132837454081\n",
      "Starting trial 61 of 200\n",
      "0 1 ['1']\n",
      "x_j = 0 not in X_j = {'1': {}}\n",
      "graph = {'0': {'4': 77.0}, '1': {}, '4': {'0': 77.0, '6': 10.0}, '6': {'4': 10.0}}, x = 0, t_j = 1, r = inf, Ys[-1] = {'0': {'4': 77.0}, '1': {}, '4': {'0': 77.0, '6': 10.0}, '6': {'4': 10.0}}\n"
     ]
    },
    {
     "name": "stderr",
     "output_type": "stream",
     "text": [
      "\n"
     ]
    },
    {
     "ename": "ValueError",
     "evalue": "",
     "output_type": "error",
     "traceback": [
      "\u001b[1;31m---------------------------------------------------------------------------\u001b[0m",
      "\u001b[1;31mValueError\u001b[0m                                Traceback (most recent call last)",
      "Cell \u001b[1;32mIn [181], line 7\u001b[0m\n\u001b[0;32m      5\u001b[0m \u001b[38;5;28mprint\u001b[39m(\u001b[38;5;124mf\u001b[39m\u001b[38;5;124m'\u001b[39m\u001b[38;5;124mStarting trial \u001b[39m\u001b[38;5;132;01m{\u001b[39;00mi \u001b[38;5;241m+\u001b[39m \u001b[38;5;241m1\u001b[39m\u001b[38;5;132;01m}\u001b[39;00m\u001b[38;5;124m of \u001b[39m\u001b[38;5;132;01m{\u001b[39;00mn\u001b[38;5;132;01m}\u001b[39;00m\u001b[38;5;124m'\u001b[39m)\n\u001b[0;32m      6\u001b[0m p \u001b[38;5;241m=\u001b[39m np\u001b[38;5;241m.\u001b[39mlog(num_vertices)\u001b[38;5;241m/\u001b[39mnum_vertices\n\u001b[1;32m----> 7\u001b[0m \u001b[38;5;28mprint\u001b[39m(\u001b[43mtest_lsst\u001b[49m\u001b[43m(\u001b[49m\u001b[43mnum_vertices\u001b[49m\u001b[43m,\u001b[49m\u001b[43m \u001b[49m\u001b[38;5;241;43m0.1\u001b[39;49m\u001b[43m)\u001b[49m)\u001b[38;5;66;03m#np.log(1000)/1000))\u001b[39;00m\n\u001b[0;32m     10\u001b[0m \u001b[38;5;66;03m#print(f'LSST on graph with {num_vertices} vertices')\u001b[39;00m\n\u001b[0;32m     11\u001b[0m \u001b[38;5;66;03m# start = time.time()\u001b[39;00m\n\u001b[0;32m     12\u001b[0m \u001b[38;5;66;03m# print(test_lsst(num_vertices, 1))\u001b[39;00m\n\u001b[0;32m     13\u001b[0m \u001b[38;5;66;03m# end = time.time()\u001b[39;00m\n\u001b[0;32m     14\u001b[0m \u001b[38;5;66;03m#print(f'Took {end - start} seconds')\u001b[39;00m\n",
      "Cell \u001b[1;32mIn [172], line 31\u001b[0m, in \u001b[0;36mtest_lsst\u001b[1;34m(m, p)\u001b[0m\n\u001b[0;32m     28\u001b[0m v2 \u001b[38;5;241m=\u001b[39m furthest_point(graph, v1) \u001b[38;5;66;03m#str(np.random.randint(0, m))\u001b[39;00m\n\u001b[0;32m     30\u001b[0m \u001b[38;5;66;03m#print(graph, v1, v2)\u001b[39;00m\n\u001b[1;32m---> 31\u001b[0m \u001b[38;5;28;01mreturn\u001b[39;00m \u001b[43mcalculate_stretch\u001b[49m\u001b[43m(\u001b[49m\u001b[43mgraph\u001b[49m\u001b[43m,\u001b[49m\u001b[43m \u001b[49m\u001b[43mv1\u001b[49m\u001b[43m,\u001b[49m\u001b[43m \u001b[49m\u001b[43mv2\u001b[49m\u001b[43m)\u001b[49m\n",
      "Cell \u001b[1;32mIn [95], line 4\u001b[0m, in \u001b[0;36mcalculate_stretch\u001b[1;34m(graph, x_0, t)\u001b[0m\n\u001b[0;32m      3\u001b[0m \u001b[38;5;28;01mdef\u001b[39;00m \u001b[38;5;21mcalculate_stretch\u001b[39m(graph, x_0, t):\n\u001b[1;32m----> 4\u001b[0m     T \u001b[38;5;241m=\u001b[39m \u001b[43mhierarchical_petal_decomposition\u001b[49m\u001b[43m(\u001b[49m\u001b[43mgraph\u001b[49m\u001b[43m,\u001b[49m\u001b[43m \u001b[49m\u001b[43mx_0\u001b[49m\u001b[43m,\u001b[49m\u001b[43m \u001b[49m\u001b[43mt\u001b[49m\u001b[43m)\u001b[49m\n\u001b[0;32m      5\u001b[0m     \u001b[38;5;28;01massert\u001b[39;00m is_undirected(T)\n\u001b[0;32m      6\u001b[0m     T \u001b[38;5;241m=\u001b[39m make_undirected(T)\n",
      "Cell \u001b[1;32mIn [177], line 16\u001b[0m, in \u001b[0;36mhierarchical_petal_decomposition\u001b[1;34m(graph, x_0, t)\u001b[0m\n\u001b[0;32m     14\u001b[0m     \u001b[38;5;28;01mif\u001b[39;00m ts[j] \u001b[38;5;129;01mnot\u001b[39;00m \u001b[38;5;129;01min\u001b[39;00m Xs[j]:\n\u001b[0;32m     15\u001b[0m         \u001b[38;5;28mprint\u001b[39m(\u001b[38;5;124mf\u001b[39m\u001b[38;5;124m'\u001b[39m\u001b[38;5;124mtj = \u001b[39m\u001b[38;5;132;01m{\u001b[39;00mxs[j]\u001b[38;5;132;01m}\u001b[39;00m\u001b[38;5;124m not in \u001b[39m\u001b[38;5;132;01m{\u001b[39;00mXs[j]\u001b[38;5;132;01m}\u001b[39;00m\u001b[38;5;124m'\u001b[39m)\n\u001b[1;32m---> 16\u001b[0m     Ts\u001b[38;5;241m.\u001b[39mappend(\u001b[43mhierarchical_petal_decomposition\u001b[49m\u001b[43m(\u001b[49m\u001b[43mXs\u001b[49m\u001b[43m[\u001b[49m\u001b[43mj\u001b[49m\u001b[43m]\u001b[49m\u001b[43m,\u001b[49m\u001b[43m \u001b[49m\u001b[43mxs\u001b[49m\u001b[43m[\u001b[49m\u001b[43mj\u001b[49m\u001b[43m]\u001b[49m\u001b[43m,\u001b[49m\u001b[43m \u001b[49m\u001b[43mts\u001b[49m\u001b[43m[\u001b[49m\u001b[43mj\u001b[49m\u001b[43m]\u001b[49m\u001b[43m)\u001b[49m)\n\u001b[0;32m     17\u001b[0m \u001b[38;5;66;03m#print(Ts)\u001b[39;00m\n\u001b[0;32m     18\u001b[0m T \u001b[38;5;241m=\u001b[39m {}\n",
      "Cell \u001b[1;32mIn [177], line 7\u001b[0m, in \u001b[0;36mhierarchical_petal_decomposition\u001b[1;34m(graph, x_0, t)\u001b[0m\n\u001b[0;32m      5\u001b[0m \u001b[38;5;28;01mif\u001b[39;00m is_tree(graph):\n\u001b[0;32m      6\u001b[0m     \u001b[38;5;28;01mreturn\u001b[39;00m graph\n\u001b[1;32m----> 7\u001b[0m Xs, ys, xs, ts \u001b[38;5;241m=\u001b[39m \u001b[43mpetal_decomposition\u001b[49m\u001b[43m(\u001b[49m\u001b[43mgraph\u001b[49m\u001b[43m,\u001b[49m\u001b[43m \u001b[49m\u001b[43mx_0\u001b[49m\u001b[43m,\u001b[49m\u001b[43m \u001b[49m\u001b[43mt\u001b[49m\u001b[43m)\u001b[49m\n\u001b[0;32m      8\u001b[0m \u001b[38;5;66;03m#print(f'Xs = {Xs}, ys = {ys}, xs = {xs}, ts = {ts}')\u001b[39;00m\n\u001b[0;32m      9\u001b[0m \u001b[38;5;66;03m#print(Xs[0], xs[0])\u001b[39;00m\n\u001b[0;32m     10\u001b[0m Ts \u001b[38;5;241m=\u001b[39m []\n",
      "Cell \u001b[1;32mIn [174], line 58\u001b[0m, in \u001b[0;36mpetal_decomposition\u001b[1;34m(graph, x, t)\u001b[0m\n\u001b[0;32m     56\u001b[0m     \u001b[38;5;28mprint\u001b[39m(\u001b[38;5;124mf\u001b[39m\u001b[38;5;124m'\u001b[39m\u001b[38;5;124mx_j = \u001b[39m\u001b[38;5;132;01m{\u001b[39;00mx_j\u001b[38;5;132;01m}\u001b[39;00m\u001b[38;5;124m not in X_j = \u001b[39m\u001b[38;5;132;01m{\u001b[39;00mX_j\u001b[38;5;132;01m}\u001b[39;00m\u001b[38;5;124m'\u001b[39m)\n\u001b[0;32m     57\u001b[0m     \u001b[38;5;28mprint\u001b[39m(\u001b[38;5;124mf\u001b[39m\u001b[38;5;124m'\u001b[39m\u001b[38;5;124mgraph = \u001b[39m\u001b[38;5;132;01m{\u001b[39;00mgraph\u001b[38;5;132;01m}\u001b[39;00m\u001b[38;5;124m, x = \u001b[39m\u001b[38;5;132;01m{\u001b[39;00mx\u001b[38;5;132;01m}\u001b[39;00m\u001b[38;5;124m, t_j = \u001b[39m\u001b[38;5;132;01m{\u001b[39;00mts[\u001b[38;5;241m-\u001b[39m\u001b[38;5;241m1\u001b[39m]\u001b[38;5;132;01m}\u001b[39;00m\u001b[38;5;124m, r = \u001b[39m\u001b[38;5;132;01m{\u001b[39;00mr\u001b[38;5;241m/\u001b[39m\u001b[38;5;241m8\u001b[39m\u001b[38;5;132;01m}\u001b[39;00m\u001b[38;5;124m, Ys[-1] = \u001b[39m\u001b[38;5;132;01m{\u001b[39;00mYs[\u001b[38;5;241m-\u001b[39m\u001b[38;5;241m1\u001b[39m]\u001b[38;5;132;01m}\u001b[39;00m\u001b[38;5;124m'\u001b[39m)\n\u001b[1;32m---> 58\u001b[0m     \u001b[38;5;28;01mraise\u001b[39;00m \u001b[38;5;167;01mValueError\u001b[39;00m\n\u001b[0;32m     59\u001b[0m \u001b[38;5;28;01massert\u001b[39;00m ts[\u001b[38;5;241m-\u001b[39m\u001b[38;5;241m1\u001b[39m] \u001b[38;5;129;01min\u001b[39;00m X_j\n\u001b[0;32m     60\u001b[0m Xs\u001b[38;5;241m.\u001b[39mappend(X_j)\n",
      "\u001b[1;31mValueError\u001b[0m: "
     ]
    }
   ],
   "source": [
    "import time\n",
    "n = 200\n",
    "for i in range(n):\n",
    "    for num_vertices in [7]: #, 1000, 5000]:\n",
    "        print(f'Starting trial {i + 1} of {n}')\n",
    "        p = np.log(num_vertices)/num_vertices\n",
    "        print(test_lsst(num_vertices, 0.1))#np.log(1000)/1000))\n",
    "            \n",
    "            \n",
    "        #print(f'LSST on graph with {num_vertices} vertices')\n",
    "        # start = time.time()\n",
    "        # print(test_lsst(num_vertices, 1))\n",
    "        # end = time.time()\n",
    "        #print(f'Took {end - start} seconds')"
   ]
  },
  {
   "cell_type": "markdown",
   "id": "c83cef87-0cd9-404d-8878-4473c4987e96",
   "metadata": {},
   "source": [
    "### Debugging"
   ]
  },
  {
   "cell_type": "code",
   "execution_count": 101,
   "id": "200b7057-8725-47df-be54-42cdc3708278",
   "metadata": {},
   "outputs": [],
   "source": [
    "graph = {'0': {'5': 36.0, '1': 8.0}, '1': {'3': 3.0, '0': 8.0, '2': 83.0}, '2': {'6': 1.0, '4': 33.0, '1': 83.0}, '3': {'4': 67.0, '1': 3.0, '6': 98.0}, '4': {'3': 67.0, '2': 33.0}, '5': {'0': 36.0}, '6': {'2': 1.0, '3': 98.0}}"
   ]
  },
  {
   "cell_type": "code",
   "execution_count": 130,
   "id": "bafbc70c-7478-419e-9f04-33f01659f5ef",
   "metadata": {},
   "outputs": [
    {
     "name": "stdout",
     "output_type": "stream",
     "text": [
      "special petal {'1': {'3': 3.0}, '3': {'1': 3.0}} 1 3 ['2', '1', '3']\n"
     ]
    },
    {
     "data": {
      "text/plain": [
       "([{'0': {}, '2': {'6': 1.0, '4': 33.0}, '4': {'2': 33.0}, '6': {'2': 1.0}},\n",
       "  {'1': {'3': 3.0}, '3': {'1': 3.0}},\n",
       "  {'5': {}}],\n",
       " ['2', '0'],\n",
       " ['2', '1', '5'],\n",
       " ['2', '3', '5'])"
      ]
     },
     "execution_count": 130,
     "metadata": {},
     "output_type": "execute_result"
    }
   ],
   "source": [
    "petal_decomposition(graph, '2', '3')"
   ]
  },
  {
   "cell_type": "code",
   "execution_count": 127,
   "id": "20cb776d-327b-467c-86ef-eb9f3ec08394",
   "metadata": {},
   "outputs": [
    {
     "name": "stdout",
     "output_type": "stream",
     "text": [
      "2 0 ['0']\n",
      "x_j = 2 not in X_j = {'0': {}}\n",
      "graph = {'0': {}, '2': {'6': 1.0, '4': 33.0}, '4': {'2': 33.0}, '6': {'2': 1.0}}, x = 2, t_j = 0, r = inf, Ys[-1] = {'0': {}, '2': {'6': 1.0, '4': 33.0}, '4': {'2': 33.0}, '6': {'2': 1.0}}\n"
     ]
    },
    {
     "ename": "ValueError",
     "evalue": "",
     "output_type": "error",
     "traceback": [
      "\u001b[1;31m---------------------------------------------------------------------------\u001b[0m",
      "\u001b[1;31mValueError\u001b[0m                                Traceback (most recent call last)",
      "Cell \u001b[1;32mIn [127], line 1\u001b[0m\n\u001b[1;32m----> 1\u001b[0m \u001b[43mpetal_decomposition\u001b[49m\u001b[43m(\u001b[49m\u001b[43m{\u001b[49m\u001b[38;5;124;43m'\u001b[39;49m\u001b[38;5;124;43m0\u001b[39;49m\u001b[38;5;124;43m'\u001b[39;49m\u001b[43m:\u001b[49m\u001b[43m \u001b[49m\u001b[43m{\u001b[49m\u001b[43m}\u001b[49m\u001b[43m,\u001b[49m\u001b[43m \u001b[49m\u001b[38;5;124;43m'\u001b[39;49m\u001b[38;5;124;43m2\u001b[39;49m\u001b[38;5;124;43m'\u001b[39;49m\u001b[43m:\u001b[49m\u001b[43m \u001b[49m\u001b[43m{\u001b[49m\u001b[38;5;124;43m'\u001b[39;49m\u001b[38;5;124;43m6\u001b[39;49m\u001b[38;5;124;43m'\u001b[39;49m\u001b[43m:\u001b[49m\u001b[43m \u001b[49m\u001b[38;5;241;43m1.0\u001b[39;49m\u001b[43m,\u001b[49m\u001b[43m \u001b[49m\u001b[38;5;124;43m'\u001b[39;49m\u001b[38;5;124;43m4\u001b[39;49m\u001b[38;5;124;43m'\u001b[39;49m\u001b[43m:\u001b[49m\u001b[43m \u001b[49m\u001b[38;5;241;43m33.0\u001b[39;49m\u001b[43m}\u001b[49m\u001b[43m,\u001b[49m\u001b[43m \u001b[49m\u001b[38;5;124;43m'\u001b[39;49m\u001b[38;5;124;43m4\u001b[39;49m\u001b[38;5;124;43m'\u001b[39;49m\u001b[43m:\u001b[49m\u001b[43m \u001b[49m\u001b[43m{\u001b[49m\u001b[38;5;124;43m'\u001b[39;49m\u001b[38;5;124;43m2\u001b[39;49m\u001b[38;5;124;43m'\u001b[39;49m\u001b[43m:\u001b[49m\u001b[43m \u001b[49m\u001b[38;5;241;43m33.0\u001b[39;49m\u001b[43m}\u001b[49m\u001b[43m,\u001b[49m\u001b[43m \u001b[49m\u001b[38;5;124;43m'\u001b[39;49m\u001b[38;5;124;43m6\u001b[39;49m\u001b[38;5;124;43m'\u001b[39;49m\u001b[43m:\u001b[49m\u001b[43m \u001b[49m\u001b[43m{\u001b[49m\u001b[38;5;124;43m'\u001b[39;49m\u001b[38;5;124;43m2\u001b[39;49m\u001b[38;5;124;43m'\u001b[39;49m\u001b[43m:\u001b[49m\u001b[43m \u001b[49m\u001b[38;5;241;43m1.0\u001b[39;49m\u001b[43m}\u001b[49m\u001b[43m}\u001b[49m\u001b[43m,\u001b[49m\u001b[43m \u001b[49m\u001b[38;5;124;43m'\u001b[39;49m\u001b[38;5;124;43m2\u001b[39;49m\u001b[38;5;124;43m'\u001b[39;49m\u001b[43m,\u001b[49m\u001b[43m \u001b[49m\u001b[38;5;124;43m'\u001b[39;49m\u001b[38;5;124;43m2\u001b[39;49m\u001b[38;5;124;43m'\u001b[39;49m\u001b[43m)\u001b[49m\n",
      "Cell \u001b[1;32mIn [126], line 57\u001b[0m, in \u001b[0;36mpetal_decomposition\u001b[1;34m(graph, x, t)\u001b[0m\n\u001b[0;32m     55\u001b[0m     \u001b[38;5;28mprint\u001b[39m(\u001b[38;5;124mf\u001b[39m\u001b[38;5;124m'\u001b[39m\u001b[38;5;124mx_j = \u001b[39m\u001b[38;5;132;01m{\u001b[39;00mx_j\u001b[38;5;132;01m}\u001b[39;00m\u001b[38;5;124m not in X_j = \u001b[39m\u001b[38;5;132;01m{\u001b[39;00mX_j\u001b[38;5;132;01m}\u001b[39;00m\u001b[38;5;124m'\u001b[39m)\n\u001b[0;32m     56\u001b[0m     \u001b[38;5;28mprint\u001b[39m(\u001b[38;5;124mf\u001b[39m\u001b[38;5;124m'\u001b[39m\u001b[38;5;124mgraph = \u001b[39m\u001b[38;5;132;01m{\u001b[39;00mgraph\u001b[38;5;132;01m}\u001b[39;00m\u001b[38;5;124m, x = \u001b[39m\u001b[38;5;132;01m{\u001b[39;00mx\u001b[38;5;132;01m}\u001b[39;00m\u001b[38;5;124m, t_j = \u001b[39m\u001b[38;5;132;01m{\u001b[39;00mts[\u001b[38;5;241m-\u001b[39m\u001b[38;5;241m1\u001b[39m]\u001b[38;5;132;01m}\u001b[39;00m\u001b[38;5;124m, r = \u001b[39m\u001b[38;5;132;01m{\u001b[39;00mr\u001b[38;5;241m/\u001b[39m\u001b[38;5;241m8\u001b[39m\u001b[38;5;132;01m}\u001b[39;00m\u001b[38;5;124m, Ys[-1] = \u001b[39m\u001b[38;5;132;01m{\u001b[39;00mYs[\u001b[38;5;241m-\u001b[39m\u001b[38;5;241m1\u001b[39m]\u001b[38;5;132;01m}\u001b[39;00m\u001b[38;5;124m'\u001b[39m)\n\u001b[1;32m---> 57\u001b[0m     \u001b[38;5;28;01mraise\u001b[39;00m \u001b[38;5;167;01mValueError\u001b[39;00m\n\u001b[0;32m     58\u001b[0m \u001b[38;5;28;01massert\u001b[39;00m ts[\u001b[38;5;241m-\u001b[39m\u001b[38;5;241m1\u001b[39m] \u001b[38;5;129;01min\u001b[39;00m X_j\n\u001b[0;32m     59\u001b[0m Xs\u001b[38;5;241m.\u001b[39mappend(X_j)\n",
      "\u001b[1;31mValueError\u001b[0m: "
     ]
    }
   ],
   "source": [
    "petal_decomposition({'0': {}, '2': {'6': 1.0, '4': 33.0}, '4': {'2': 33.0}, '6': {'2': 1.0}}, '2', '2')"
   ]
  },
  {
   "cell_type": "code",
   "execution_count": 104,
   "id": "d722bbbb-ee1b-428f-a21c-69362f74c8af",
   "metadata": {},
   "outputs": [
    {
     "name": "stdout",
     "output_type": "stream",
     "text": [
      "The graph is not a tree.\n"
     ]
    }
   ],
   "source": [
    "def is_tree(graph):\n",
    "    num_vertices = len(graph)\n",
    "    num_edges = sum(len(adj_list) for adj_list in graph.values()) // 2  # Divide by 2 to account for double-counting edges\n",
    "\n",
    "    return num_edges == num_vertices - 1\n",
    "\n",
    "# Example usage\n",
    "\n",
    "if is_tree(graph):\n",
    "    print(\"The graph is a tree.\")\n",
    "else:\n",
    "    print(\"The graph is not a tree.\")\n"
   ]
  },
  {
   "cell_type": "code",
   "execution_count": 105,
   "id": "22ee120a-9be9-4102-a3db-b431efeedf7f",
   "metadata": {},
   "outputs": [
    {
     "data": {
      "text/plain": [
       "{'0': {'5': 36.0, '1': 8.0},\n",
       " '1': {'3': 3.0, '0': 8.0, '2': 83.0},\n",
       " '2': {'6': 1.0, '4': 33.0, '1': 83.0},\n",
       " '3': {'4': 67.0, '1': 3.0, '6': 98.0},\n",
       " '4': {'3': 67.0, '2': 33.0},\n",
       " '5': {'0': 36.0},\n",
       " '6': {'2': 1.0, '3': 98.0}}"
      ]
     },
     "execution_count": 105,
     "metadata": {},
     "output_type": "execute_result"
    }
   ],
   "source": [
    "graph"
   ]
  },
  {
   "cell_type": "code",
   "execution_count": null,
   "id": "8483de1c-f7a4-44b1-b8cc-4f0fa0969503",
   "metadata": {},
   "outputs": [],
   "source": []
  }
 ],
 "metadata": {
  "kernelspec": {
   "display_name": "Python 3 (ipykernel)",
   "language": "python",
   "name": "python3"
  },
  "language_info": {
   "codemirror_mode": {
    "name": "ipython",
    "version": 3
   },
   "file_extension": ".py",
   "mimetype": "text/x-python",
   "name": "python",
   "nbconvert_exporter": "python",
   "pygments_lexer": "ipython3",
   "version": "3.8.13"
  }
 },
 "nbformat": 4,
 "nbformat_minor": 5
}
