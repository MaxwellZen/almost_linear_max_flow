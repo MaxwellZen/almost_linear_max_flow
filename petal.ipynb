{
 "cells": [
  {
   "cell_type": "code",
   "execution_count": 1,
   "id": "8aef4a38-9d15-4d1a-9a43-062ad0c276c9",
   "metadata": {},
   "outputs": [
    {
     "name": "stdout",
     "output_type": "stream",
     "text": [
      "Shortest distance from A to F: {'A': 0, 'B': 2, 'C': 12, 'D': 7, 'E': 8, 'F': 9, 'G': 6}\n",
      "Shortest path from A to F: A -> B -> D -> F\n"
     ]
    }
   ],
   "source": [
    "#Written by ChatGPT\n",
    "\n",
    "import heapq\n",
    "import math\n",
    "\n",
    "class FibonacciHeapNode:\n",
    "    def __init__(self, node, key):\n",
    "        self.node = node\n",
    "        self.key = key\n",
    "        self.parent = None\n",
    "        self.child = None\n",
    "        self.left = self\n",
    "        self.right = self\n",
    "        self.degree = 0\n",
    "        self.marked = False\n",
    "\n",
    "class FibonacciHeap:\n",
    "    def __init__(self):\n",
    "        self.min_node = None\n",
    "        self.nodes = {}\n",
    "\n",
    "    def insert(self, node, key):\n",
    "        new_node = FibonacciHeapNode(node, key)\n",
    "        self.nodes[node] = new_node\n",
    "        if not self.min_node or key < self.min_node.key:\n",
    "            self.min_node = new_node\n",
    "\n",
    "    def extract_min(self):\n",
    "        if self.min_node:\n",
    "            min_node = self.min_node\n",
    "            if min_node.child:\n",
    "                child = min_node.child\n",
    "                while True:\n",
    "                    next_child = child.right\n",
    "                    child.left = min_node\n",
    "                    child.right = min_node.right\n",
    "                    min_node.right.left = child\n",
    "                    min_node.right = child\n",
    "                    if next_child == min_node.child:\n",
    "                        break\n",
    "                    child = next_child\n",
    "            min_node.left.right = min_node.right\n",
    "            min_node.right.left = min_node.left\n",
    "            if min_node == min_node.right:\n",
    "                self.min_node = None\n",
    "            else:\n",
    "                self.min_node = min_node.right\n",
    "                self.consolidate()\n",
    "            del self.nodes[min_node.node]\n",
    "            return min_node.node, min_node.key\n",
    "        return None, None\n",
    "\n",
    "    def consolidate(self):\n",
    "        max_degree = int(2 * (math.log(len(self.nodes)) / math.log(1 + math.sqrt(5))))\n",
    "        degree_table = [None] * (max_degree + 1)\n",
    "        current = self.min_node\n",
    "        unprocessed_nodes = [current]\n",
    "        while True:\n",
    "            current = current.right\n",
    "            if current == self.min_node:\n",
    "                break\n",
    "            unprocessed_nodes.append(current)\n",
    "        for node in unprocessed_nodes:\n",
    "            degree = node.degree\n",
    "            while degree_table[degree]:\n",
    "                other = degree_table[degree]\n",
    "                if node.key > other.key:\n",
    "                    node, other = other, node\n",
    "                self.link(other, node)\n",
    "                degree_table[degree] = None\n",
    "                degree += 1\n",
    "            degree_table[degree] = node\n",
    "        for entry in degree_table:\n",
    "            if entry and entry.key < self.min_node.key:\n",
    "                self.min_node = entry\n",
    "\n",
    "    def link(self, node1, node2):\n",
    "        node1.right.left = node1.left\n",
    "        node1.left.right = node1.right\n",
    "        node1.parent = node2\n",
    "        if not node2.child:\n",
    "            node2.child = node1\n",
    "            node1.right = node1\n",
    "            node1.left = node1\n",
    "        else:\n",
    "            node1.left = node2.child\n",
    "            node1.right = node2.child.right\n",
    "            node2.child.right.left = node1\n",
    "            node2.child.right = node1\n",
    "        node2.degree += 1\n",
    "        node1.marked = False\n",
    "\n",
    "# def dijkstra(graph, start):\n",
    "#     distances = {}\n",
    "#     predecessors = {}\n",
    "#     heap = FibonacciHeap()\n",
    "    \n",
    "#     for node in graph:\n",
    "#         distances[node] = float('inf')\n",
    "#     distances[start] = 0\n",
    "#     heap.insert(start, 0)\n",
    "#     while heap.min_node:\n",
    "#         current_node, current_distance = heap.extract_min()\n",
    "#         print(\"Current Node:\", current_node, \"Distance:\", current_distance)\n",
    "#         if current_distance > distances[current_node]:\n",
    "#             continue\n",
    "        \n",
    "#         for neighbor, weight in graph[current_node].items():\n",
    "#             #print('neighbor', neighbor, 'cur_node', current_node)\n",
    "#             distance = current_distance + weight\n",
    "#             #print(distances, neighbor)\n",
    "#             if distance < distances[neighbor]:\n",
    "#                 distances[neighbor] = distance\n",
    "#                 predecessors[neighbor] = current_node\n",
    "#                 heap.insert(neighbor, distance)\n",
    "#     #print('Done with Dijkstra')\n",
    "#     #print('dijkstra', distances)\n",
    "#     return distances, predecessors\n",
    "\n",
    "def dijkstra(graph, start):\n",
    "    distances = {node: float('inf') for node in graph}\n",
    "    predecessors = {node: None for node in graph}\n",
    "    distances[start] = 0\n",
    "    \n",
    "    priority_queue = [(0, start)]\n",
    "    \n",
    "    while priority_queue:\n",
    "        current_distance, current_node = heapq.heappop(priority_queue)\n",
    "        \n",
    "        if current_distance > distances[current_node]:\n",
    "            continue\n",
    "        #print(graph)\n",
    "        for neighbor, weight in graph[current_node].items():\n",
    "            distance = current_distance + weight\n",
    "            if distance < distances[neighbor]:\n",
    "                distances[neighbor] = distance\n",
    "                predecessors[neighbor] = current_node  # Store the predecessor\n",
    "                heapq.heappush(priority_queue, (distance, neighbor))\n",
    "    \n",
    "    return distances, predecessors\n",
    "\n",
    "def shortest_path(graph, start, end, predecessors):\n",
    "    path = []\n",
    "    while end:\n",
    "        path.insert(0, end)\n",
    "        end = predecessors.get(end, None)\n",
    "    return path\n",
    "\n",
    "# Example usage:\n",
    "graph = {\n",
    "    'A': {'B': 2, 'D': 8, 'G' : 6},\n",
    "    'B': {'A': 2, 'D': 5, 'E': 6},\n",
    "    'C': {'E': 9, 'F': 3},\n",
    "    'D': {'A': 8, 'B': 5, 'E': 3, 'F': 2},\n",
    "    'E': {'B': 6, 'C': 9, 'D': 3, 'F': 1, 'G': 4},\n",
    "    'F': {'D': 2, 'E': 1, 'C': 3},\n",
    "    'G': {'A': 6, 'E': 4}\n",
    "}\n",
    "\n",
    "start_node = 'A'\n",
    "end_node = 'F'\n",
    "\n",
    "shortest_distance, predecessors = dijkstra(graph, start_node)\n",
    "shortest_path_to_D = shortest_path(graph, start_node, end_node, predecessors)\n",
    "\n",
    "print(f\"Shortest distance from {start_node} to {end_node}: {shortest_distance}\")\n",
    "print(f\"Shortest path from {start_node} to {end_node}: {' -> '.join(shortest_path_to_D)}\")"
   ]
  },
  {
   "cell_type": "code",
   "execution_count": 2,
   "id": "b5ee8c8f-b538-4f01-8bbb-f0e864ef740c",
   "metadata": {},
   "outputs": [],
   "source": [
    "import heapq\n",
    "#import heapq\n",
    "\n"
   ]
  },
  {
   "cell_type": "code",
   "execution_count": 3,
   "id": "f003ac39-4f69-4c7d-9317-dc568aa36a5d",
   "metadata": {},
   "outputs": [
    {
     "data": {
      "text/plain": [
       "{'A': None, 'B': 'A', 'C': 'F', 'D': 'B', 'E': 'B', 'F': 'D', 'G': 'A'}"
      ]
     },
     "execution_count": 3,
     "metadata": {},
     "output_type": "execute_result"
    }
   ],
   "source": [
    "predecessors"
   ]
  },
  {
   "cell_type": "code",
   "execution_count": 4,
   "id": "d4d368e9-1147-4f44-9d8f-b7717c087d87",
   "metadata": {},
   "outputs": [],
   "source": [
    "def create_directed_graph(graph, shortest_distance):\n",
    "    '''Creates a directed graph as specified on page 19 or 245 of AN19.'''\n",
    "    directed = {}\n",
    "    for u in graph: #first vertex\n",
    "        if u not in directed:\n",
    "            directed[u] = {}\n",
    "        for v in graph[u]: #second vertex\n",
    "            directed[u][v] = graph[u][v] - (shortest_distance[v] - shortest_distance[u])\n",
    "            #directed[v][u] = graph[v][u] - (shortest_distance[u] - shortest_distance[v])\n",
    "    return directed"
   ]
  },
  {
   "cell_type": "code",
   "execution_count": 5,
   "id": "5558a413-d1e8-4e03-99ec-92c8017cf31a",
   "metadata": {},
   "outputs": [],
   "source": [
    "d = create_directed_graph(graph, shortest_distance)"
   ]
  },
  {
   "cell_type": "code",
   "execution_count": 6,
   "id": "99573741-f2b3-474c-80cf-a1be3b5c7d4c",
   "metadata": {},
   "outputs": [
    {
     "data": {
      "text/plain": [
       "{'A': {'B': 0, 'D': 1, 'G': 0},\n",
       " 'B': {'A': 4, 'D': 0, 'E': 0},\n",
       " 'C': {'E': 13, 'F': 6},\n",
       " 'D': {'A': 15, 'B': 10, 'E': 2, 'F': 0},\n",
       " 'E': {'B': 12, 'C': 5, 'D': 4, 'F': 0, 'G': 6},\n",
       " 'F': {'D': 4, 'E': 2, 'C': 0},\n",
       " 'G': {'A': 12, 'E': 2}}"
      ]
     },
     "execution_count": 6,
     "metadata": {},
     "output_type": "execute_result"
    }
   ],
   "source": [
    "d"
   ]
  },
  {
   "cell_type": "code",
   "execution_count": 7,
   "id": "5f76de64-fcea-4457-841d-aa06bcf3ff7c",
   "metadata": {},
   "outputs": [
    {
     "data": {
      "text/plain": [
       "({'A': 16, 'B': 12, 'C': 0, 'D': 4, 'E': 0, 'F': 0, 'G': 6},\n",
       " {'A': 'B', 'B': 'E', 'C': 'F', 'D': 'E', 'E': None, 'F': 'E', 'G': 'E'})"
      ]
     },
     "execution_count": 7,
     "metadata": {},
     "output_type": "execute_result"
    }
   ],
   "source": [
    "dijkstra(d, 'E')"
   ]
  },
  {
   "cell_type": "code",
   "execution_count": 8,
   "id": "eef4dffe-1b7c-4338-9713-b2a62de26ba9",
   "metadata": {},
   "outputs": [
    {
     "data": {
      "text/plain": [
       "({'A': 0, 'B': 2, 'C': 12, 'D': 7, 'E': 8, 'F': 9, 'G': 6},\n",
       " {'A': None, 'B': 'A', 'C': 'F', 'D': 'B', 'E': 'B', 'F': 'D', 'G': 'A'})"
      ]
     },
     "execution_count": 8,
     "metadata": {},
     "output_type": "execute_result"
    }
   ],
   "source": [
    "dijkstra(graph, 'A')"
   ]
  },
  {
   "cell_type": "code",
   "execution_count": 9,
   "id": "a46e23e6-6e0b-430e-af3e-5742a1256c90",
   "metadata": {},
   "outputs": [],
   "source": [
    "def is_undirected(graph):\n",
    "    # Create a set to store checked edges\n",
    "    checked_edges = set()\n",
    "\n",
    "    # Iterate through each node in the graph\n",
    "    for node, neighbors in graph.items():\n",
    "        for neighbor, length in neighbors.items():\n",
    "            # Check if the reverse edge exists and has the same length\n",
    "            if (neighbor, node) in checked_edges:\n",
    "                if graph[neighbor][node] != length:\n",
    "                    print(f'neigbhor = {neighbor} and node = {node}')\n",
    "                    return False\n",
    "            else:\n",
    "                checked_edges.add((node, neighbor))\n",
    "\n",
    "    return True"
   ]
  },
  {
   "cell_type": "code",
   "execution_count": 38,
   "id": "7ff52132-e3ab-4bf2-b712-b263c9422695",
   "metadata": {},
   "outputs": [],
   "source": [
    "def create_petal(graph, x, t, r, directed = None): #Edit this to take in the directed graph as a parameter Y that is computed separately\n",
    "    assert x in graph\n",
    "    assert t in graph\n",
    "    shortest_distance, predecessors = dijkstra(graph, x)\n",
    "    if directed == None:\n",
    "        directed = create_directed_graph(graph, shortest_distance)\n",
    "        \n",
    "    \n",
    "    shortest_path_to_t = shortest_path(graph, x, t, predecessors)\n",
    "    if x != t and len(shortest_path_to_t) == 1:\n",
    "        print(x, t, shortest_path_to_t)\n",
    "    shortest_distance_directed, predecessors_directed = dijkstra(directed, t)\n",
    "    #shortest_path_to_x = shortest_path(directed, t, x, predecessors_directed)\n",
    "    #print(shortest_path_to_x)\n",
    "    t_dist = shortest_distance[t]\n",
    "    #print(t_dist)\n",
    "    #print(shortest_path_to_t)\n",
    "    r_prime = x\n",
    "    shortest_path_rprime = []\n",
    "    r_prime_idx = -1\n",
    "    for i in range(len(shortest_path_to_t)):\n",
    "        v = shortest_path_to_t[i]\n",
    "        d = t_dist - shortest_distance[v]\n",
    "        #shortest_path_rprime.append(v)\n",
    "        #print(d)\n",
    "        if d < r:\n",
    "            r_prime = v\n",
    "            r_prime_idx = i\n",
    "            break\n",
    "    #print(r_prime)\n",
    "    \n",
    "    for i in range(r_prime_idx, len(shortest_path_to_t)):\n",
    "        shortest_path_rprime.append(shortest_path_to_t[i])\n",
    "    \n",
    "    #shortest_path_rprime = shortest_path(directed, t, r_prime, predecessors_directed)\n",
    "    #print(shortest_path_rprime)\n",
    "    \n",
    "    petal = {}\n",
    "    for v in shortest_distance_directed:\n",
    "        if shortest_distance_directed[v] < r/2:\n",
    "            petal[v] = {}\n",
    "    for v in shortest_path_rprime:\n",
    "        petal[v] = {}\n",
    "        \n",
    "    for u in petal:\n",
    "        for v in graph[u]:\n",
    "            if v in petal:\n",
    "                petal[u][v] = graph[u][v]\n",
    "    #print(x, r_prime, shortest_path_to_t, t)\n",
    "    #print(f'length in create_petal: {t_dist}')\n",
    "    #print(r_prime, shortest_path_to_t)\n",
    "    #assert r_prime in shortest_path_to_t\n",
    "    if not is_undirected(petal):\n",
    "        print(petal)\n",
    "        raise ValueError('Petal not undirected')\n",
    "    if len(petal) == 1:\n",
    "        r_prime = list(petal.keys())[0]\n",
    "    return petal, r_prime, shortest_path_to_t\n",
    "    #for i in range(len(shortest_path_rprime - 1)):\n",
    "        \n",
    "    \n",
    "#     shortest_distance, predecessors = dijkstra(directed, t)\n",
    "#     _, predecessors = dijkstra(graph, t)\n",
    "#     shortest_path_to_x = shortest_path(graph, t, x, predecessors) #shortest_path(directed, t, x, predecessors) #NEED WEIGHTS TO BE HALF OF WHAT THEY WERE IN G! P_t, r_primeshould be a path in G\n",
    "#     r_prime = t\n",
    "#     shortest_distance_directed, predecessors_directed = dijkstra(directed, t)\n",
    "#     for i in range(1, len(shortest_path_to_x)):\n",
    "#         v = shortest_path_to_x[i]\n",
    "#         shortest_distance_directed[v] /= 2\n",
    "#         if shortest_distance[v] > r:\n",
    "#             r_prime = shortest_path_to_x[i - 1]\n",
    "#             break\n",
    "#         break\n",
    "#     petal = {}\n",
    "#     #print(directed)\n",
    "#     print(shortest_distance_directed)\n",
    "#     for v in shortest_distance_directed:\n",
    "#         if shortest_distance_directed[v] < r/2:\n",
    "#             petal[v] = {}\n",
    "    \n",
    "#     for u in directed:\n",
    "#         for v in directed[u]:\n",
    "#             if u in petal and v in petal:\n",
    "#                 petal[u][v] = directed[u][v]\n",
    "    \n",
    "#     assert r_prime in petal\n",
    "    \n",
    "#     return petal, r_prime"
   ]
  },
  {
   "cell_type": "code",
   "execution_count": 11,
   "id": "a7989f34-17d9-4954-a82f-b46300d89cd3",
   "metadata": {},
   "outputs": [],
   "source": [
    "graph = {'0': {'1': 37.0}, '1': {'0': 37.0, '6': 92.0}, '2': {'3': 5.0}, '3': {'2': 5.0, '4': 30.0}, '4': {'3': 30.0, '6': 20.0}, '5': {'6': 4.0}, '6': {'5': 4.0, '4': 20.0, '1': 92.0}}"
   ]
  },
  {
   "cell_type": "code",
   "execution_count": 12,
   "id": "284e1524-0846-4f58-9b4c-cbcd4becf939",
   "metadata": {},
   "outputs": [],
   "source": [
    "#hierarchical_petal_decomposition(graph, '1', '5')"
   ]
  },
  {
   "cell_type": "code",
   "execution_count": 13,
   "id": "b9fba841-3733-4aba-a043-33d63b577171",
   "metadata": {},
   "outputs": [],
   "source": [
    "#create_petal(graph, 'A', 'C', 12 - 5*12/8)"
   ]
  },
  {
   "cell_type": "code",
   "execution_count": 14,
   "id": "44e9f8ac-3c7e-40a5-8f6b-0bf2624f3e05",
   "metadata": {},
   "outputs": [],
   "source": [
    "#create_petal(graph, 'A', 'C', 12 - 5*12/8)"
   ]
  },
  {
   "cell_type": "code",
   "execution_count": 15,
   "id": "4e3171e5-fb01-4876-980f-e167319457c8",
   "metadata": {},
   "outputs": [
    {
     "data": {
      "text/plain": [
       "{'0': {'1': 37.0},\n",
       " '1': {'0': 37.0, '6': 92.0},\n",
       " '2': {'3': 5.0},\n",
       " '3': {'2': 5.0, '4': 30.0},\n",
       " '4': {'3': 30.0, '6': 20.0},\n",
       " '5': {'6': 4.0},\n",
       " '6': {'5': 4.0, '4': 20.0, '1': 92.0}}"
      ]
     },
     "execution_count": 15,
     "metadata": {},
     "output_type": "execute_result"
    }
   ],
   "source": [
    "graph"
   ]
  },
  {
   "cell_type": "code",
   "execution_count": 16,
   "id": "674891fd-fa9c-4d19-8a5b-cbaf789049b4",
   "metadata": {},
   "outputs": [],
   "source": [
    "def maintain_graph_difference(G, H):\n",
    "    result = {}\n",
    "\n",
    "    for u, neighbors in G.items():\n",
    "        if u not in H:\n",
    "            result[u] = {}\n",
    "        \n",
    "        for v in neighbors:\n",
    "            if u not in H and v not in H:\n",
    "                if u not in result:\n",
    "                    result[u] = {}\n",
    "                result[u][v] = G[u][v]\n",
    "\n",
    "    return result"
   ]
  },
  {
   "cell_type": "code",
   "execution_count": 17,
   "id": "5aff7958-7bb0-43a2-aa5c-34ed9ae3db2c",
   "metadata": {},
   "outputs": [
    {
     "data": {
      "text/plain": [
       "{'0': {'1': 37.0},\n",
       " '1': {'0': 37.0, '6': 92.0},\n",
       " '2': {'3': 5.0},\n",
       " '3': {'2': 5.0, '4': 30.0},\n",
       " '4': {'3': 30.0, '6': 20.0},\n",
       " '5': {'6': 4.0},\n",
       " '6': {'5': 4.0, '4': 20.0, '1': 92.0}}"
      ]
     },
     "execution_count": 17,
     "metadata": {},
     "output_type": "execute_result"
    }
   ],
   "source": [
    "graph"
   ]
  },
  {
   "cell_type": "code",
   "execution_count": 18,
   "id": "9430bf8c-8b14-45af-8bcd-4d4b13731ecc",
   "metadata": {},
   "outputs": [
    {
     "data": {
      "text/plain": [
       "{'0': {'1': 37.0},\n",
       " '1': {'0': 37.0, '6': 92.0},\n",
       " '2': {'3': 5.0},\n",
       " '3': {'2': 5.0, '4': 30.0},\n",
       " '4': {'3': 30.0, '6': 20.0},\n",
       " '5': {'6': 4.0},\n",
       " '6': {'5': 4.0, '4': 20.0, '1': 92.0}}"
      ]
     },
     "execution_count": 18,
     "metadata": {},
     "output_type": "execute_result"
    }
   ],
   "source": [
    "maintain_graph_difference(graph, ['A', 'B'])"
   ]
  },
  {
   "cell_type": "code",
   "execution_count": 54,
   "id": "1ed0d375-772f-4479-afba-81d97f328489",
   "metadata": {},
   "outputs": [],
   "source": [
    "def petal_decomposition(graph, x, t):\n",
    "    assert x in graph\n",
    "    if t not in graph:\n",
    "        raise ValueError(f't = {t} not in graph vertices = {list(graph.keys())}')\n",
    "    shortest_distance, predecessors = dijkstra(graph, x)\n",
    "    r = max(shortest_distance.values())\n",
    "    #print('d', shortest_distance)\n",
    "    Ys = [graph]\n",
    "    Xs = []\n",
    "    ys = []\n",
    "    xs = [x]\n",
    "    ts = []\n",
    "    j = 1\n",
    "    if shortest_distance[t] > 5*r/8:\n",
    "        \n",
    "        X_1, x_1, path = create_petal(graph, x, t, shortest_distance[t] - 5*r/8, graph)\n",
    "        #print('special petal', X_1, x_1, t, path)\n",
    "        #print('HI', X_1, x_1, t)\n",
    "        #Ys.append({key : value for key, value in Ys[0].items() if key not in X_1})\n",
    "        Ys.append(maintain_graph_difference(Ys[0], X_1))\n",
    "        Xs.append(X_1)\n",
    "        xs.append(x_1)\n",
    "        \n",
    "        y1 = x\n",
    "        min_distance = r\n",
    "        #if x_1 != t:\n",
    "        #path = shortest_path(graph, x, t, predecessors)\n",
    "        #print('path', path)\n",
    "        for i in range(len(path)):\n",
    "            if path[i] == x_1:\n",
    "                y1 = path[i-1]\n",
    "                break\n",
    "\n",
    "        j = 2\n",
    "        ts = [y1, t]\n",
    "        ys = [y1]\n",
    "        if y1 in X_1 and x_1 != t:\n",
    "            raise ValueError(f'y1 = {y1} should not be in X1 = {X_1}')\n",
    "        \n",
    "    else:\n",
    "        ts = [t] \n",
    "    while True:\n",
    "        #shortest_distance, predecessors = dijkstra(graph, x)\n",
    "        ball = {key : value for key, value in shortest_distance.items() if shortest_distance[key] < 3*r/4}\n",
    "        leftover = [v for v in Ys[-1] if v not in ball] #maintain_graph_difference(Ys[-1], ball)\n",
    "        if len(leftover) == 0:\n",
    "            break\n",
    "        else:\n",
    "            #print('leftover', leftover, '\\n')\n",
    "            ts.append(leftover[0])\n",
    "            X_j, x_j, path = create_petal(graph, x, ts[-1], r/8, Ys[-1])\n",
    "            #print(f'X_j = {X_j}, graph = {graph}, x = {x}, t_j = {ts[-1]}, r = {r/8}, Ys[-1] = {Ys[-1]}')\n",
    "            if len(path) == 1:\n",
    "                print('path of length 1:', x, x_j, ts[-1])\n",
    "            if x_j not in X_j:\n",
    "                print(f'x_j = {x_j} not in X_j = {X_j}')\n",
    "                print(f'graph = {graph}, x = {x}, t_j = {ts[-1]}, r = {r/8}, Ys[-1] = {Ys[-1]}')\n",
    "                raise ValueError\n",
    "            assert ts[-1] in X_j\n",
    "            Xs.append(X_j)\n",
    "            xs.append(x_j)\n",
    "            Ys.append(maintain_graph_difference(Ys[-1], X_j))\n",
    "            xj_idx = -1\n",
    "            if x_j not in path:\n",
    "                print(f'x_j {x_j} not found in path {path} of length {shortest_distance[ts[-1]]}')\n",
    "            for i in range(len(path)):\n",
    "                if path[i] == x_j:\n",
    "                    xj_idx = i\n",
    "                # else:\n",
    "                #     print(f'x_j {x_j} not found in path {path}')\n",
    "                if xj_idx > -1 and i < len(path) - 1:\n",
    "                    #print('g', graph, path[i-1], path[i], path, i)\n",
    "                    graph[path[i]][path[i+1]] /= 2\n",
    "                    graph[path[i+1]][path[i]] /= 2\n",
    "                    #shortest_distance[path[i]] = (shortest_distance[path[i]] + shortest_distance[path[xj_idx]])/2\n",
    "            if x_j == x:\n",
    "                print('hello')\n",
    "                ys.append(path[0])\n",
    "            else:\n",
    "                ys.append(path[xj_idx - 1])\n",
    "                #print('path', path, 'x_j', path[xj_idx], 'y_j', path[xj_idx - 1])\n",
    "            j += 1\n",
    "            if ys[-1] == xs[-1]:\n",
    "                print('x = y', path)\n",
    "                #raise ValueError('x = y')\n",
    "            if ys[-1] not in graph[xs[-1]]:\n",
    "                raise ValueError(f'{xs[-1]}, {ys[-1]} not an edge in graph')\n",
    "            #print('ys', ys)\n",
    "        #print('Completed while')\n",
    "    s = j - 1\n",
    "    X0 = Ys[s]\n",
    "    Xs = [X0] + Xs\n",
    "    return Xs, ys, xs, ts\n",
    "        "
   ]
  },
  {
   "cell_type": "code",
   "execution_count": 56,
   "id": "2ed07f13-a657-437d-b4c1-86607a7d94d2",
   "metadata": {},
   "outputs": [
    {
     "data": {
      "text/plain": [
       "([{'0': {'1': 8.0},\n",
       "   '1': {'3': 3.0, '0': 8.0, '2': 83.0},\n",
       "   '2': {'6': 1.0, '4': 33.0, '1': 83.0},\n",
       "   '3': {'4': 67.0, '1': 3.0, '6': 98.0},\n",
       "   '4': {'3': 67.0, '2': 33.0},\n",
       "   '6': {'2': 1.0, '3': 98.0}},\n",
       "  {'5': {}}],\n",
       " ['0'],\n",
       " ['2', '5'],\n",
       " ['2', '5'])"
      ]
     },
     "execution_count": 56,
     "metadata": {},
     "output_type": "execute_result"
    }
   ],
   "source": [
    "petal_decomposition(graph, '2', '2')"
   ]
  },
  {
   "cell_type": "code",
   "execution_count": 21,
   "id": "3b6be1df-46e1-4c26-9321-afc2ce90ec3a",
   "metadata": {},
   "outputs": [],
   "source": [
    "def make_undirected(graph):\n",
    "    undirected_graph = {}\n",
    "    for u in graph:\n",
    "        for v, length in graph[u].items():\n",
    "            # Add edge from u to v\n",
    "            if u not in undirected_graph:\n",
    "                undirected_graph[u] = {}\n",
    "            undirected_graph[u][v] = length\n",
    "            \n",
    "            # Add edge from v to u\n",
    "            if v not in undirected_graph:\n",
    "                undirected_graph[v] = {}\n",
    "            undirected_graph[v][u] = length\n",
    "    \n",
    "    return undirected_graph"
   ]
  },
  {
   "cell_type": "code",
   "execution_count": 22,
   "id": "4b160961-1f7f-4a3d-884f-7b82f3dcc972",
   "metadata": {},
   "outputs": [
    {
     "name": "stdout",
     "output_type": "stream",
     "text": [
      "The graph is a tree.\n"
     ]
    }
   ],
   "source": [
    "def is_tree(graph):\n",
    "    num_vertices = len(graph)\n",
    "    num_edges = sum(len(adj_list) for adj_list in graph.values()) // 2  # Divide by 2 to account for double-counting edges\n",
    "\n",
    "    return num_edges == num_vertices - 1\n",
    "\n",
    "# Example usage\n",
    "\n",
    "if is_tree(graph):\n",
    "    print(\"The graph is a tree.\")\n",
    "else:\n",
    "    print(\"The graph is not a tree.\")\n"
   ]
  },
  {
   "cell_type": "code",
   "execution_count": 23,
   "id": "bef44ac0-b369-4774-a144-fafc4c3e16b7",
   "metadata": {},
   "outputs": [],
   "source": [
    "def hierarchical_petal_decomposition(graph, x_0, t):\n",
    "    \n",
    "    if len(list(graph.keys())) == 1:\n",
    "        return graph\n",
    "    if is_tree(graph):\n",
    "        return graph\n",
    "    Xs, ys, xs, ts = petal_decomposition(graph, x_0, t)\n",
    "    #print(f'Xs = {Xs}, ys = {ys}, xs = {xs}, ts = {ts}')\n",
    "    #print(Xs[0], xs[0])\n",
    "    Ts = []\n",
    "    for j in range(len(Xs)):\n",
    "        if xs[j] not in Xs[j]:\n",
    "            print(f'xj = {xs[j]} not in {Xs[j]}')\n",
    "        if ts[j] not in Xs[j]:\n",
    "            print(f'tj = {xs[j]} not in {Xs[j]}')\n",
    "        Ts.append(hierarchical_petal_decomposition(Xs[j], xs[j], ts[j]))\n",
    "    #print(Ts)\n",
    "    T = {}\n",
    "    for tree in Ts:\n",
    "        if not is_undirected(tree):\n",
    "            print(tree)\n",
    "            raise ValueError('tree is not undirected')\n",
    "        for u in tree:\n",
    "            T[u] = tree[u]\n",
    "    #print(xs, ys)\n",
    "    if len(xs) > 1:\n",
    "        for i in range(1, len(xs)):\n",
    "            x = xs[i]\n",
    "            y = ys[i-1]\n",
    "            T[x][y] = graph[x][y]\n",
    "            T[y][x] = graph[y][x]\n",
    "    #print('T', T)\n",
    "    \n",
    "    #Make T undirected\n",
    "    #T = make_undirected(T)\n",
    "    # if not is_connected(T):\n",
    "    #     print(T, xs, ys)\n",
    "    #     raise ValueError('t is not connected')\n",
    "    # if not is_undirected(T):\n",
    "    #     print(T)\n",
    "    #     raise ValueError('t is not undirected')\n",
    "    \n",
    "    return make_undirected(T)\n",
    "        "
   ]
  },
  {
   "cell_type": "code",
   "execution_count": 24,
   "id": "bfdfd29a-53a9-4726-8890-f3a09282c96f",
   "metadata": {},
   "outputs": [],
   "source": [
    "tree = hierarchical_petal_decomposition(graph, 'A', 'C')"
   ]
  },
  {
   "cell_type": "code",
   "execution_count": 25,
   "id": "6840720a-be2b-4e58-9051-5b6f8a0be1cf",
   "metadata": {},
   "outputs": [
    {
     "data": {
      "text/plain": [
       "{'0': {'1': 37.0},\n",
       " '1': {'0': 37.0, '6': 92.0},\n",
       " '2': {'3': 5.0},\n",
       " '3': {'2': 5.0, '4': 30.0},\n",
       " '4': {'3': 30.0, '6': 20.0},\n",
       " '5': {'6': 4.0},\n",
       " '6': {'5': 4.0, '4': 20.0, '1': 92.0}}"
      ]
     },
     "execution_count": 25,
     "metadata": {},
     "output_type": "execute_result"
    }
   ],
   "source": [
    "tree"
   ]
  },
  {
   "cell_type": "markdown",
   "id": "59b9bb89-4421-48e3-9488-a02453005e74",
   "metadata": {},
   "source": [
    "### Tree"
   ]
  },
  {
   "cell_type": "code",
   "execution_count": 26,
   "id": "c88a26d7-d0ec-4342-88c0-804a34c2f2ff",
   "metadata": {},
   "outputs": [],
   "source": [
    "import numpy as np\n",
    "from tqdm import tqdm\n",
    "def calculate_stretch(graph, x_0, t):\n",
    "    T = hierarchical_petal_decomposition(graph, x_0, t)\n",
    "    assert is_undirected(T)\n",
    "    T = make_undirected(T)\n",
    "    #print(T)\n",
    "    if len(T) != len(graph):\n",
    "        raise ValueError(f'Not a spanning tree. T has {len(t)} vertices while the original graph has {len(graph)} vertices')\n",
    "    m = len(graph)\n",
    "    n = 0\n",
    "    #t_length = 0\n",
    "    #graph_length = 0\n",
    "    stretch = 0\n",
    "    graph_keys_list = list(graph.keys())\n",
    "    for i in tqdm(range(len(graph_keys_list))):\n",
    "        u = graph_keys_list[i]\n",
    "        for v in graph[u]:\n",
    "            assert u in T and v in T\n",
    "            n += 1\n",
    "            distances, _ = dijkstra(T, u)\n",
    "            if distances[v] == float('inf'):\n",
    "                print('INF', u, v, T)\n",
    "                print(is_undirected(T))\n",
    "                print(is_connected(T))\n",
    "                raise ValueError('Distance should be finite')\n",
    "            stretch += distances[v]/graph[u][v]\n",
    "    print(f'fraction of edges: {(n/2)/(m*(m-1)/2) }')\n",
    "    n /= 2\n",
    "    bound = m * np.log(n) * np.log(np.log(n))\n",
    "    #print(f'stretch = {stretch}')\n",
    "    return stretch/bound"
   ]
  },
  {
   "cell_type": "code",
   "execution_count": 27,
   "id": "effd9a7b-8037-4533-a577-1f75b914852e",
   "metadata": {},
   "outputs": [],
   "source": [
    "import random\n",
    "\n",
    "def generate_graph(m, p):\n",
    "    if m <= 1:\n",
    "        # Special case: a single vertex graph is always connected.\n",
    "        return {'0': {}}\n",
    "\n",
    "    # Create a list of vertices as strings from '0' to 'm-1'.\n",
    "    vertices = [str(i) for i in range(m)]\n",
    "\n",
    "    # Create a dictionary to represent the graph with edge lengths.\n",
    "    graph = {v: {} for v in vertices}\n",
    "\n",
    "    # Create a list of edges with associated probabilities.\n",
    "    edges = []\n",
    "\n",
    "    for i in range(m):\n",
    "        for j in range(i + 1, m):\n",
    "            if random.random() < p:\n",
    "                edges.append((vertices[i], vertices[j]))\n",
    "\n",
    "    # Create a minimum spanning tree using Prim's algorithm.\n",
    "    random.shuffle(vertices)\n",
    "    visited = set([vertices[0]])\n",
    "    while len(visited) < m:\n",
    "        current_vertex = random.choice(list(visited))\n",
    "        remaining_vertices = [v for v in vertices if v not in visited]\n",
    "        if not remaining_vertices:\n",
    "            break\n",
    "        next_vertex = random.choice(remaining_vertices)\n",
    "        visited.add(next_vertex)\n",
    "        edge = (current_vertex, next_vertex)\n",
    "        edges.append(edge)\n",
    "\n",
    "    # Shuffle the list of edges to randomize the order.\n",
    "    random.shuffle(edges)\n",
    "\n",
    "    # Add the edges to the graph.\n",
    "    for (start_vertex, end_vertex) in edges:\n",
    "        edge_length = float(random.randint(1.0, 100.0))  # Modify this range as needed\n",
    "        graph[start_vertex][end_vertex] = edge_length\n",
    "        graph[end_vertex][start_vertex] = edge_length\n",
    "\n",
    "    return graph\n",
    "\n",
    "# # Example usage:\n",
    "# m = 5\n",
    "# p = 0.5  # Probability of an edge between any pair of vertices\n",
    "# connected_graph = generate_connected_graph_with_probability(m, p)\n",
    "# print(connected_graph)"
   ]
  },
  {
   "cell_type": "code",
   "execution_count": 28,
   "id": "2b92b6fa-d950-48c9-8654-6547c0ed68ec",
   "metadata": {},
   "outputs": [
    {
     "name": "stdout",
     "output_type": "stream",
     "text": [
      "The graph is connected.\n"
     ]
    }
   ],
   "source": [
    "def is_connected(graph):\n",
    "    if not graph:\n",
    "        # An empty graph is considered connected\n",
    "        return True\n",
    "\n",
    "    def dfs(node, visited):\n",
    "        visited[node] = True\n",
    "        for neighbor in graph[node]:\n",
    "            if not visited[neighbor]:\n",
    "                dfs(neighbor, visited)\n",
    "\n",
    "    # Initialize a dictionary to keep track of visited nodes\n",
    "    visited = {node: False for node in graph}\n",
    "\n",
    "    # Choose any node as the starting point\n",
    "    start_node = next(iter(graph))\n",
    "    dfs(start_node, visited)\n",
    "\n",
    "    # Check if all nodes have been visited\n",
    "    return all(visited[node] for node in graph)\n",
    "\n",
    "# Example usage:\n",
    "graph = {\n",
    "    'A': {'B': 2, 'D': 8, 'G' : 6},\n",
    "    'B': {'A': 2, 'D': 5, 'E': 6},\n",
    "    'C': {'E': 9, 'F': 3},\n",
    "    'D': {'A': 8, 'B': 5, 'E': 3, 'F': 2},\n",
    "    'E': {'B': 6, 'C': 9, 'D': 3, 'F': 1, 'G': 4},\n",
    "    'F': {'D': 2, 'E': 1, 'C': 3},\n",
    "    'G': {'A': 6, 'E': 4}\n",
    "}\n",
    "\n",
    "connected = is_connected(graph)\n",
    "if connected:\n",
    "    print(\"The graph is connected.\")\n",
    "else:\n",
    "    print(\"The graph is not connected.\")"
   ]
  },
  {
   "cell_type": "code",
   "execution_count": 29,
   "id": "a2274090-297a-4d1d-a061-61f2d9c04d09",
   "metadata": {},
   "outputs": [],
   "source": [
    "def furthest_point(graph, x_0):\n",
    "    distances, _ = dijkstra(graph, x_0)\n",
    "    #print(distances)\n",
    "    max_dist = max(distances.values())\n",
    "    for v in distances:\n",
    "        if distances[v] == max_dist:\n",
    "            return v"
   ]
  },
  {
   "cell_type": "code",
   "execution_count": 77,
   "id": "0b9f0cf3-fa36-4e2e-9dfa-f923ff726a74",
   "metadata": {},
   "outputs": [],
   "source": [
    "import random\n",
    "\n",
    "# Create a graph represented as a dictionary\n",
    "\n",
    "def test_lsst(m, p):\n",
    "\n",
    "#     graph = {}\n",
    "#     vertices = [str(i) for i in range(m)]\n",
    "\n",
    "#     # Create edges with random lengths\n",
    "#     for i in range(m):\n",
    "#         for j in range(i + 1, m):\n",
    "#             if np.random.uniform() < p:\n",
    "#                 edge_length = np.random.randint(1, 100)  # Random edge length between 1 and 10\n",
    "#                 if vertices[i] not in graph:\n",
    "#                     graph[vertices[i]] = {}\n",
    "#                 if vertices[j] not in graph:\n",
    "#                     graph[vertices[j]] = {}\n",
    "#                 graph[vertices[i]][vertices[j]] = edge_length\n",
    "#                 graph[vertices[j]][vertices[i]] = edge_length  # Undirected, so add the reverse edge\n",
    "#             else:\n",
    "#                 print('oops')\n",
    "\n",
    "    graph = generate_graph(m, p)\n",
    "    assert is_connected(graph)\n",
    "            \n",
    "    v1 = str(np.random.randint(0, m))\n",
    "    \n",
    "    print(graph, v1)\n",
    "    return calculate_stretch(graph, v1, v1)\n",
    "\n",
    "# Example: Accessing the length of the edge between vertex '0' and '1'\n",
    "#edge_length_01 = graph['0']['1']"
   ]
  },
  {
   "cell_type": "code",
   "execution_count": null,
   "id": "34683069-a5cb-4709-9976-90d328d94870",
   "metadata": {},
   "outputs": [],
   "source": []
  },
  {
   "cell_type": "code",
   "execution_count": 86,
   "id": "90d8dfa2-638a-4bb1-8e18-52264743c04c",
   "metadata": {},
   "outputs": [
    {
     "name": "stdout",
     "output_type": "stream",
     "text": [
      "Starting trial 1 of 200\n",
      "{'0': {'8': 83.0, '7': 20.0, '2': 18.0, '6': 37.0, '9': 87.0}, '1': {'6': 85.0, '5': 77.0}, '2': {'9': 61.0, '3': 87.0, '0': 18.0, '5': 92.0}, '3': {'2': 87.0, '7': 44.0, '8': 44.0}, '4': {'7': 83.0}, '5': {'7': 95.0, '2': 92.0, '1': 77.0}, '6': {'9': 11.0, '1': 85.0, '0': 37.0}, '7': {'4': 83.0, '5': 95.0, '0': 20.0, '3': 44.0, '8': 92.0}, '8': {'0': 83.0, '7': 92.0, '3': 44.0}, '9': {'6': 11.0, '2': 61.0, '0': 87.0}} 2\n"
     ]
    },
    {
     "name": "stderr",
     "output_type": "stream",
     "text": [
      "100%|██████████| 10/10 [00:00<00:00, 8022.77it/s]\n"
     ]
    },
    {
     "name": "stdout",
     "output_type": "stream",
     "text": [
      "fraction of edges: 0.35555555555555557\n",
      "2.13889385628188\n",
      "Starting trial 2 of 200\n",
      "{'0': {'8': 28.0, '9': 45.0}, '1': {'5': 36.0, '2': 54.0, '3': 30.0, '6': 50.0}, '2': {'7': 79.0, '4': 56.0, '1': 54.0, '8': 64.0}, '3': {'8': 34.0, '9': 49.0, '1': 30.0, '7': 97.0, '4': 34.0}, '4': {'2': 56.0, '5': 86.0, '6': 100.0, '8': 52.0, '3': 34.0}, '5': {'6': 4.0, '1': 36.0, '4': 86.0, '7': 53.0}, '6': {'5': 4.0, '9': 67.0, '4': 100.0, '8': 88.0, '1': 50.0}, '7': {'2': 79.0, '5': 53.0, '3': 97.0}, '8': {'3': 34.0, '0': 28.0, '6': 88.0, '4': 52.0, '2': 64.0}, '9': {'6': 67.0, '3': 49.0, '0': 45.0}} 1\n"
     ]
    },
    {
     "name": "stderr",
     "output_type": "stream",
     "text": [
      "100%|██████████| 10/10 [00:00<?, ?it/s]\n"
     ]
    },
    {
     "name": "stdout",
     "output_type": "stream",
     "text": [
      "fraction of edges: 0.4444444444444444\n",
      "1.5651853823511739\n",
      "Starting trial 3 of 200\n",
      "{'0': {'6': 45.0, '5': 4.0, '7': 62.0, '3': 59.0}, '1': {'4': 32.0}, '2': {'4': 64.0, '6': 86.0, '9': 13.0, '5': 43.0}, '3': {'5': 44.0, '6': 51.0, '0': 59.0}, '4': {'1': 32.0, '2': 64.0, '7': 29.0}, '5': {'3': 44.0, '0': 4.0, '2': 43.0}, '6': {'0': 45.0, '2': 86.0, '3': 51.0}, '7': {'4': 29.0, '9': 64.0, '0': 62.0, '8': 64.0}, '8': {'7': 64.0}, '9': {'2': 13.0, '7': 64.0}} 9\n"
     ]
    },
    {
     "name": "stderr",
     "output_type": "stream",
     "text": [
      "100%|██████████| 10/10 [00:00<?, ?it/s]\n"
     ]
    },
    {
     "name": "stdout",
     "output_type": "stream",
     "text": [
      "fraction of edges: 0.3111111111111111\n",
      "1.7979970527680524\n",
      "Starting trial 4 of 200\n",
      "{'0': {'2': 61.0, '4': 89.0}, '1': {'4': 64.0}, '2': {'7': 52.0, '0': 61.0, '4': 57.0, '5': 17.0}, '3': {'6': 47.0}, '4': {'2': 57.0, '0': 89.0, '1': 64.0}, '5': {'7': 51.0, '6': 100.0, '2': 17.0}, '6': {'5': 100.0, '3': 47.0}, '7': {'2': 52.0, '5': 51.0, '9': 57.0}, '8': {'9': 7.0}, '9': {'8': 7.0, '7': 57.0}} 7\n"
     ]
    },
    {
     "name": "stderr",
     "output_type": "stream",
     "text": [
      "100%|██████████| 10/10 [00:00<?, ?it/s]\n"
     ]
    },
    {
     "name": "stdout",
     "output_type": "stream",
     "text": [
      "fraction of edges: 0.24444444444444444\n",
      "1.5625437598280445\n",
      "Starting trial 5 of 200\n",
      "{'0': {'6': 28.0, '4': 41.0, '8': 54.0, '7': 59.0}, '1': {'9': 55.0, '6': 79.0}, '2': {'7': 22.0, '5': 83.0, '6': 54.0, '8': 64.0}, '3': {'8': 75.0, '5': 18.0, '7': 100.0}, '4': {'7': 10.0, '0': 41.0}, '5': {'2': 83.0, '8': 57.0, '3': 18.0, '7': 84.0, '9': 89.0}, '6': {'7': 26.0, '0': 28.0, '2': 54.0, '1': 79.0}, '7': {'2': 22.0, '4': 10.0, '6': 26.0, '3': 100.0, '5': 84.0, '9': 78.0, '0': 59.0}, '8': {'3': 75.0, '5': 57.0, '0': 54.0, '2': 64.0}, '9': {'1': 55.0, '7': 78.0, '5': 89.0}} 0\n"
     ]
    },
    {
     "name": "stderr",
     "output_type": "stream",
     "text": [
      "100%|██████████| 10/10 [00:00<?, ?it/s]\n"
     ]
    },
    {
     "name": "stdout",
     "output_type": "stream",
     "text": [
      "fraction of edges: 0.4222222222222222\n",
      "2.3287291805581067\n",
      "Starting trial 6 of 200\n",
      "{'0': {'6': 31.0, '2': 22.0, '1': 83.0}, '1': {'5': 18.0, '0': 83.0}, '2': {'5': 18.0, '0': 22.0, '6': 43.0}, '3': {'7': 91.0, '9': 50.0, '4': 64.0, '6': 78.0, '5': 79.0}, '4': {'6': 45.0, '8': 25.0, '3': 64.0, '5': 38.0, '9': 28.0}, '5': {'2': 18.0, '7': 72.0, '8': 19.0, '1': 18.0, '4': 38.0, '6': 34.0, '3': 79.0}, '6': {'0': 31.0, '4': 45.0, '2': 43.0, '3': 78.0, '5': 34.0, '7': 36.0}, '7': {'3': 91.0, '5': 72.0, '9': 71.0, '6': 36.0}, '8': {'5': 19.0, '4': 25.0}, '9': {'3': 50.0, '7': 71.0, '4': 28.0}} 3\n"
     ]
    },
    {
     "name": "stderr",
     "output_type": "stream",
     "text": [
      "100%|██████████| 10/10 [00:00<?, ?it/s]\n"
     ]
    },
    {
     "name": "stdout",
     "output_type": "stream",
     "text": [
      "fraction of edges: 0.4444444444444444\n",
      "3.553925481937204\n",
      "Starting trial 7 of 200\n",
      "{'0': {'5': 96.0, '2': 1.0, '7': 27.0}, '1': {'9': 81.0, '8': 78.0}, '2': {'8': 84.0, '0': 1.0}, '3': {'9': 53.0, '4': 22.0, '6': 50.0}, '4': {'3': 22.0}, '5': {'0': 96.0, '9': 61.0, '8': 42.0}, '6': {'3': 50.0, '8': 44.0}, '7': {'8': 48.0, '0': 27.0}, '8': {'7': 48.0, '2': 84.0, '9': 97.0, '6': 44.0, '1': 78.0, '5': 42.0}, '9': {'1': 81.0, '3': 53.0, '5': 61.0, '8': 97.0}} 2\n"
     ]
    },
    {
     "name": "stderr",
     "output_type": "stream",
     "text": [
      "100%|██████████| 10/10 [00:00<00:00, 9995.96it/s]\n"
     ]
    },
    {
     "name": "stdout",
     "output_type": "stream",
     "text": [
      "fraction of edges: 0.3111111111111111\n",
      "2.1355767799973213\n",
      "Starting trial 8 of 200\n",
      "{'0': {'2': 66.0, '5': 87.0, '8': 18.0, '9': 83.0, '7': 73.0}, '1': {'2': 58.0, '6': 60.0, '3': 8.0}, '2': {'0': 66.0, '4': 30.0, '6': 66.0, '1': 58.0}, '3': {'7': 34.0, '5': 15.0, '1': 8.0}, '4': {'5': 89.0, '2': 30.0, '6': 61.0, '9': 76.0}, '5': {'3': 15.0, '0': 87.0, '4': 89.0, '8': 88.0, '9': 58.0}, '6': {'2': 66.0, '4': 61.0, '1': 60.0}, '7': {'3': 34.0, '8': 64.0, '9': 52.0, '0': 73.0}, '8': {'0': 18.0, '7': 64.0, '5': 88.0}, '9': {'4': 76.0, '0': 83.0, '7': 52.0, '5': 58.0}} 9\n"
     ]
    },
    {
     "name": "stderr",
     "output_type": "stream",
     "text": [
      "100%|██████████| 10/10 [00:00<00:00, 10003.11it/s]\n"
     ]
    },
    {
     "name": "stdout",
     "output_type": "stream",
     "text": [
      "fraction of edges: 0.4222222222222222\n",
      "2.072451943895996\n",
      "Starting trial 9 of 200\n",
      "{'0': {'2': 68.0, '3': 9.0, '6': 9.0, '4': 69.0, '5': 57.0}, '1': {'2': 39.0, '8': 14.0, '9': 97.0}, '2': {'4': 1.0, '7': 36.0, '0': 68.0, '1': 39.0}, '3': {'0': 9.0}, '4': {'2': 1.0, '8': 36.0, '0': 69.0, '5': 5.0}, '5': {'9': 12.0, '4': 5.0, '0': 57.0}, '6': {'0': 9.0, '8': 57.0}, '7': {'2': 36.0, '8': 88.0}, '8': {'9': 47.0, '4': 36.0, '1': 14.0, '7': 88.0, '6': 57.0}, '9': {'5': 12.0, '8': 47.0, '1': 97.0}} 8\n"
     ]
    },
    {
     "name": "stderr",
     "output_type": "stream",
     "text": [
      "100%|██████████| 10/10 [00:00<?, ?it/s]\n"
     ]
    },
    {
     "name": "stdout",
     "output_type": "stream",
     "text": [
      "fraction of edges: 0.35555555555555557\n",
      "1.751358370529484\n",
      "Starting trial 10 of 200\n",
      "{'0': {'9': 61.0, '6': 45.0, '4': 66.0}, '1': {'6': 69.0, '8': 26.0, '3': 74.0}, '2': {'8': 80.0, '5': 53.0, '6': 53.0, '4': 14.0}, '3': {'8': 18.0, '5': 81.0, '4': 83.0, '1': 74.0}, '4': {'7': 98.0, '3': 83.0, '2': 14.0, '0': 66.0}, '5': {'8': 26.0, '3': 81.0, '2': 53.0, '6': 95.0}, '6': {'9': 95.0, '1': 69.0, '8': 73.0, '5': 95.0, '2': 53.0, '0': 45.0}, '7': {'4': 98.0}, '8': {'3': 18.0, '2': 80.0, '5': 26.0, '1': 26.0, '6': 73.0}, '9': {'6': 95.0, '0': 61.0}} 2\n"
     ]
    },
    {
     "name": "stderr",
     "output_type": "stream",
     "text": [
      "100%|██████████| 10/10 [00:00<?, ?it/s]\n"
     ]
    },
    {
     "name": "stdout",
     "output_type": "stream",
     "text": [
      "fraction of edges: 0.4\n",
      "2.2529767846267026\n",
      "Starting trial 11 of 200\n",
      "{'0': {'9': 41.0, '3': 92.0, '6': 62.0, '7': 5.0}, '1': {'6': 52.0, '4': 44.0, '7': 59.0}, '2': {'5': 72.0, '6': 36.0}, '3': {'4': 24.0, '7': 13.0, '0': 92.0}, '4': {'3': 24.0, '1': 44.0}, '5': {'2': 72.0}, '6': {'7': 43.0, '1': 52.0, '0': 62.0, '2': 36.0}, '7': {'6': 43.0, '3': 13.0, '0': 5.0, '1': 59.0, '8': 75.0}, '8': {'9': 34.0, '7': 75.0}, '9': {'0': 41.0, '8': 34.0}} 6\n"
     ]
    },
    {
     "name": "stderr",
     "output_type": "stream",
     "text": [
      "100%|██████████| 10/10 [00:00<00:00, 10019.84it/s]\n"
     ]
    },
    {
     "name": "stdout",
     "output_type": "stream",
     "text": [
      "fraction of edges: 0.3111111111111111\n",
      "1.416544150462333\n",
      "Starting trial 12 of 200\n",
      "{'0': {'2': 61.0}, '1': {'8': 68.0, '7': 20.0, '6': 10.0, '5': 27.0, '2': 78.0}, '2': {'0': 61.0, '7': 93.0, '3': 64.0, '1': 78.0}, '3': {'6': 42.0, '4': 24.0, '2': 64.0}, '4': {'3': 24.0}, '5': {'6': 20.0, '9': 37.0, '1': 27.0, '7': 69.0}, '6': {'5': 20.0, '3': 42.0, '1': 10.0, '7': 71.0}, '7': {'8': 93.0, '1': 20.0, '2': 93.0, '9': 93.0, '5': 69.0, '6': 71.0}, '8': {'7': 93.0, '1': 68.0, '9': 34.0}, '9': {'5': 37.0, '8': 34.0, '7': 93.0}} 4\n"
     ]
    },
    {
     "name": "stderr",
     "output_type": "stream",
     "text": [
      "100%|██████████| 10/10 [00:00<?, ?it/s]\n"
     ]
    },
    {
     "name": "stdout",
     "output_type": "stream",
     "text": [
      "fraction of edges: 0.37777777777777777\n",
      "1.3597599594623353\n",
      "Starting trial 13 of 200\n",
      "{'0': {'1': 8.0, '7': 54.0, '6': 97.0}, '1': {'5': 86.0, '0': 8.0, '6': 12.0}, '2': {'9': 50.0, '4': 40.0}, '3': {'5': 50.0, '4': 2.0, '8': 97.0, '7': 70.0, '6': 76.0}, '4': {'8': 97.0, '3': 2.0, '7': 67.0, '6': 90.0, '2': 40.0}, '5': {'1': 86.0, '3': 50.0}, '6': {'9': 93.0, '1': 12.0, '0': 97.0, '7': 68.0, '4': 90.0, '3': 76.0}, '7': {'9': 73.0, '0': 54.0, '4': 67.0, '3': 70.0, '6': 68.0}, '8': {'4': 97.0, '3': 97.0}, '9': {'2': 50.0, '6': 93.0, '7': 73.0}} 7\n"
     ]
    },
    {
     "name": "stderr",
     "output_type": "stream",
     "text": [
      "100%|██████████| 10/10 [00:00<00:00, 9995.96it/s]\n"
     ]
    },
    {
     "name": "stdout",
     "output_type": "stream",
     "text": [
      "fraction of edges: 0.4\n",
      "2.1918531959814076\n",
      "Starting trial 14 of 200\n",
      "{'0': {'7': 40.0, '6': 65.0}, '1': {'8': 33.0, '2': 18.0}, '2': {'4': 37.0, '5': 38.0, '7': 56.0, '1': 18.0}, '3': {'6': 47.0}, '4': {'2': 37.0}, '5': {'9': 80.0, '2': 38.0, '7': 67.0}, '6': {'3': 47.0, '8': 79.0, '0': 65.0}, '7': {'9': 5.0, '0': 40.0, '2': 56.0, '5': 67.0}, '8': {'1': 33.0, '6': 79.0}, '9': {'7': 5.0, '5': 80.0}} 8\n"
     ]
    },
    {
     "name": "stderr",
     "output_type": "stream",
     "text": [
      "100%|██████████| 10/10 [00:00<?, ?it/s]\n"
     ]
    },
    {
     "name": "stdout",
     "output_type": "stream",
     "text": [
      "fraction of edges: 0.26666666666666666\n",
      "1.6725681597551005\n",
      "Starting trial 15 of 200\n",
      "{'0': {'4': 27.0, '9': 48.0, '7': 94.0, '3': 46.0, '5': 85.0, '1': 40.0, '8': 43.0}, '1': {'2': 46.0, '6': 15.0, '4': 29.0, '7': 9.0, '0': 40.0}, '2': {'1': 46.0, '5': 18.0, '8': 20.0, '4': 79.0, '6': 52.0}, '3': {'0': 46.0, '4': 78.0}, '4': {'8': 62.0, '0': 27.0, '1': 29.0, '2': 79.0, '3': 78.0}, '5': {'2': 18.0, '0': 85.0}, '6': {'1': 15.0, '8': 90.0, '2': 52.0}, '7': {'0': 94.0, '9': 9.0, '1': 9.0}, '8': {'4': 62.0, '6': 90.0, '2': 20.0, '9': 2.0, '0': 43.0}, '9': {'0': 48.0, '7': 9.0, '8': 2.0}} 2\n"
     ]
    },
    {
     "name": "stderr",
     "output_type": "stream",
     "text": [
      "100%|██████████| 10/10 [00:00<?, ?it/s]\n"
     ]
    },
    {
     "name": "stdout",
     "output_type": "stream",
     "text": [
      "fraction of edges: 0.4444444444444444\n",
      "1.6844640493059082\n",
      "Starting trial 16 of 200\n",
      "{'0': {'9': 95.0, '8': 62.0, '6': 22.0, '4': 36.0}, '1': {'7': 23.0, '9': 84.0}, '2': {'9': 79.0, '6': 28.0, '8': 84.0, '7': 70.0}, '3': {'7': 95.0, '6': 40.0, '9': 60.0}, '4': {'8': 67.0, '0': 36.0}, '5': {'9': 91.0}, '6': {'7': 93.0, '9': 57.0, '2': 28.0, '0': 22.0, '3': 40.0}, '7': {'1': 23.0, '6': 93.0, '3': 95.0, '9': 39.0, '2': 70.0}, '8': {'0': 62.0, '4': 67.0, '2': 84.0}, '9': {'5': 91.0, '2': 79.0, '6': 57.0, '7': 39.0, '0': 95.0, '1': 84.0, '3': 60.0}} 7\n"
     ]
    },
    {
     "name": "stderr",
     "output_type": "stream",
     "text": [
      "100%|██████████| 10/10 [00:00<00:00, 10007.88it/s]\n"
     ]
    },
    {
     "name": "stdout",
     "output_type": "stream",
     "text": [
      "fraction of edges: 0.4\n",
      "2.392621633573397\n",
      "Starting trial 17 of 200\n",
      "{'0': {'2': 47.0, '6': 17.0, '7': 98.0, '4': 65.0, '1': 83.0}, '1': {'2': 99.0, '3': 93.0, '8': 45.0, '0': 83.0}, '2': {'0': 47.0, '1': 99.0, '5': 29.0, '4': 98.0}, '3': {'1': 93.0, '7': 29.0, '6': 46.0}, '4': {'9': 74.0, '0': 65.0, '5': 33.0, '2': 98.0}, '5': {'9': 56.0, '2': 29.0, '4': 33.0}, '6': {'0': 17.0, '3': 46.0}, '7': {'0': 98.0, '3': 29.0, '9': 1.0}, '8': {'1': 45.0}, '9': {'4': 74.0, '5': 56.0, '7': 1.0}} 2\n"
     ]
    },
    {
     "name": "stderr",
     "output_type": "stream",
     "text": [
      "100%|██████████| 10/10 [00:00<?, ?it/s]\n"
     ]
    },
    {
     "name": "stdout",
     "output_type": "stream",
     "text": [
      "fraction of edges: 0.35555555555555557\n",
      "1.74252596660331\n",
      "Starting trial 18 of 200\n",
      "{'0': {'7': 77.0, '4': 19.0, '3': 37.0, '6': 25.0}, '1': {'2': 8.0, '9': 76.0, '4': 89.0}, '2': {'1': 8.0, '6': 90.0, '3': 40.0}, '3': {'0': 37.0, '6': 43.0, '2': 40.0, '7': 48.0}, '4': {'7': 63.0, '0': 19.0, '6': 19.0, '5': 4.0, '8': 61.0, '1': 89.0}, '5': {'8': 41.0, '9': 3.0, '4': 4.0}, '6': {'2': 90.0, '9': 9.0, '3': 43.0, '0': 25.0, '4': 19.0}, '7': {'0': 77.0, '4': 63.0, '9': 12.0, '8': 92.0, '3': 48.0}, '8': {'5': 41.0, '7': 92.0, '4': 61.0}, '9': {'7': 12.0, '1': 76.0, '6': 9.0, '5': 3.0}} 0\n"
     ]
    },
    {
     "name": "stderr",
     "output_type": "stream",
     "text": [
      "100%|██████████| 10/10 [00:00<?, ?it/s]\n"
     ]
    },
    {
     "name": "stdout",
     "output_type": "stream",
     "text": [
      "fraction of edges: 0.4444444444444444\n",
      "1.6362435193544347\n",
      "Starting trial 19 of 200\n",
      "{'0': {'3': 15.0, '2': 81.0, '8': 51.0, '7': 87.0, '6': 47.0}, '1': {'5': 36.0, '2': 30.0, '9': 33.0}, '2': {'7': 65.0, '0': 81.0, '1': 30.0, '6': 44.0}, '3': {'0': 15.0, '8': 33.0, '4': 18.0}, '4': {'5': 72.0, '7': 10.0, '3': 18.0, '9': 2.0, '8': 46.0}, '5': {'1': 36.0, '6': 41.0, '4': 72.0, '7': 52.0}, '6': {'5': 41.0, '8': 64.0, '2': 44.0, '0': 47.0}, '7': {'5': 52.0, '2': 65.0, '4': 10.0, '9': 79.0, '0': 87.0}, '8': {'3': 33.0, '0': 51.0, '6': 64.0, '4': 46.0}, '9': {'7': 79.0, '4': 2.0, '1': 33.0}} 0\n"
     ]
    },
    {
     "name": "stderr",
     "output_type": "stream",
     "text": [
      "100%|██████████| 10/10 [00:00<00:00, 6619.80it/s]\n"
     ]
    },
    {
     "name": "stdout",
     "output_type": "stream",
     "text": [
      "fraction of edges: 0.4444444444444444\n",
      "1.916524714984989\n",
      "Starting trial 20 of 200\n",
      "{'0': {'9': 78.0, '7': 45.0, '5': 91.0}, '1': {'4': 64.0, '9': 46.0, '2': 15.0}, '2': {'1': 15.0, '3': 48.0}, '3': {'6': 10.0, '5': 21.0, '2': 48.0, '4': 71.0}, '4': {'1': 64.0, '5': 78.0, '3': 71.0, '7': 75.0}, '5': {'7': 19.0, '4': 78.0, '3': 21.0, '0': 91.0}, '6': {'8': 38.0, '3': 10.0}, '7': {'9': 81.0, '5': 19.0, '0': 45.0, '4': 75.0}, '8': {'6': 38.0}, '9': {'1': 46.0, '7': 81.0, '0': 78.0}} 6\n"
     ]
    },
    {
     "name": "stderr",
     "output_type": "stream",
     "text": [
      "100%|██████████| 10/10 [00:00<?, ?it/s]\n"
     ]
    },
    {
     "name": "stdout",
     "output_type": "stream",
     "text": [
      "fraction of edges: 0.3333333333333333\n",
      "1.3924646743053033\n",
      "Starting trial 21 of 200\n",
      "{'0': {'9': 86.0, '1': 15.0, '5': 66.0}, '1': {'0': 15.0, '6': 48.0, '9': 72.0}, '2': {'6': 70.0, '7': 72.0}, '3': {'8': 32.0, '9': 9.0, '5': 99.0}, '4': {'6': 58.0, '9': 90.0, '8': 31.0}, '5': {'6': 2.0, '0': 66.0, '3': 99.0}, '6': {'7': 22.0, '2': 70.0, '4': 58.0, '5': 2.0, '1': 48.0}, '7': {'6': 22.0, '8': 74.0, '2': 72.0}, '8': {'7': 74.0, '3': 32.0, '9': 32.0, '4': 31.0}, '9': {'0': 86.0, '8': 32.0, '4': 90.0, '3': 9.0, '1': 72.0}} 5\n"
     ]
    },
    {
     "name": "stderr",
     "output_type": "stream",
     "text": [
      "100%|██████████| 10/10 [00:00<?, ?it/s]\n"
     ]
    },
    {
     "name": "stdout",
     "output_type": "stream",
     "text": [
      "fraction of edges: 0.37777777777777777\n",
      "2.1685253633227246\n",
      "Starting trial 22 of 200\n",
      "{'0': {'1': 84.0, '6': 10.0, '4': 76.0}, '1': {'0': 84.0, '3': 8.0, '5': 96.0, '2': 91.0}, '2': {'9': 55.0, '6': 68.0, '1': 91.0}, '3': {'1': 8.0, '5': 75.0, '6': 98.0, '8': 18.0}, '4': {'0': 76.0}, '5': {'8': 82.0, '1': 96.0, '3': 75.0}, '6': {'9': 46.0, '0': 10.0, '8': 22.0, '2': 68.0, '3': 98.0}, '7': {'9': 23.0}, '8': {'5': 82.0, '9': 52.0, '6': 22.0, '3': 18.0}, '9': {'6': 46.0, '7': 23.0, '8': 52.0, '2': 55.0}} 7\n"
     ]
    },
    {
     "name": "stderr",
     "output_type": "stream",
     "text": [
      "100%|██████████| 10/10 [00:00<?, ?it/s]\n"
     ]
    },
    {
     "name": "stdout",
     "output_type": "stream",
     "text": [
      "fraction of edges: 0.35555555555555557\n",
      "1.5306188539153651\n",
      "Starting trial 23 of 200\n",
      "{'0': {'3': 41.0, '7': 80.0, '9': 53.0, '2': 89.0}, '1': {'9': 28.0, '4': 90.0}, '2': {'3': 20.0, '5': 13.0, '0': 89.0, '4': 2.0}, '3': {'0': 41.0, '4': 68.0, '6': 75.0, '2': 20.0, '5': 67.0, '7': 80.0}, '4': {'3': 68.0, '1': 90.0, '8': 77.0, '2': 2.0}, '5': {'3': 67.0, '2': 13.0, '6': 27.0}, '6': {'3': 75.0, '5': 27.0, '7': 8.0, '9': 42.0}, '7': {'0': 80.0, '9': 87.0, '8': 21.0, '6': 8.0, '3': 80.0}, '8': {'7': 21.0, '4': 77.0}, '9': {'0': 53.0, '1': 28.0, '7': 87.0, '6': 42.0}} 8\n"
     ]
    },
    {
     "name": "stderr",
     "output_type": "stream",
     "text": [
      "100%|██████████| 10/10 [00:00<?, ?it/s]\n"
     ]
    },
    {
     "name": "stdout",
     "output_type": "stream",
     "text": [
      "fraction of edges: 0.4222222222222222\n",
      "1.3653945204849123\n",
      "Starting trial 24 of 200\n",
      "{'0': {'1': 19.0, '6': 27.0}, '1': {'5': 92.0, '9': 13.0, '0': 19.0, '4': 60.0, '8': 13.0}, '2': {'8': 34.0, '6': 100.0}, '3': {'5': 37.0, '8': 36.0}, '4': {'7': 65.0, '9': 61.0, '1': 60.0}, '5': {'9': 93.0, '8': 25.0, '3': 37.0, '1': 92.0, '7': 32.0}, '6': {'8': 20.0, '0': 27.0, '2': 100.0, '7': 12.0}, '7': {'4': 65.0, '5': 32.0, '6': 12.0}, '8': {'5': 25.0, '6': 20.0, '3': 36.0, '2': 34.0, '1': 13.0}, '9': {'5': 93.0, '1': 13.0, '4': 61.0}} 4\n"
     ]
    },
    {
     "name": "stderr",
     "output_type": "stream",
     "text": [
      "100%|██████████| 10/10 [00:00<?, ?it/s]\n"
     ]
    },
    {
     "name": "stdout",
     "output_type": "stream",
     "text": [
      "fraction of edges: 0.37777777777777777\n",
      "3.334878833793455\n",
      "Starting trial 25 of 200\n",
      "{'0': {'9': 23.0, '5': 43.0, '6': 81.0, '1': 68.0}, '1': {'7': 90.0, '9': 74.0, '4': 34.0, '3': 64.0, '0': 68.0}, '2': {'8': 47.0, '6': 12.0}, '3': {'1': 64.0, '6': 46.0}, '4': {'1': 34.0, '9': 93.0, '7': 15.0}, '5': {'0': 43.0}, '6': {'9': 83.0, '7': 70.0, '3': 46.0, '2': 12.0, '0': 81.0}, '7': {'1': 90.0, '6': 70.0, '4': 15.0}, '8': {'2': 47.0}, '9': {'1': 74.0, '6': 83.0, '0': 23.0, '4': 93.0}} 9\n"
     ]
    },
    {
     "name": "stderr",
     "output_type": "stream",
     "text": [
      "100%|██████████| 10/10 [00:00<00:00, 6646.02it/s]\n"
     ]
    },
    {
     "name": "stdout",
     "output_type": "stream",
     "text": [
      "fraction of edges: 0.3333333333333333\n",
      "1.8955583919358552\n",
      "Starting trial 26 of 200\n",
      "{'0': {'4': 32.0, '1': 84.0, '6': 60.0}, '1': {'8': 98.0, '0': 84.0, '5': 29.0}, '2': {'7': 62.0, '3': 94.0, '6': 88.0}, '3': {'2': 94.0, '7': 68.0, '5': 12.0}, '4': {'9': 54.0, '0': 32.0, '5': 39.0}, '5': {'4': 39.0, '3': 12.0, '1': 29.0}, '6': {'9': 70.0, '2': 88.0, '7': 77.0, '0': 60.0}, '7': {'2': 62.0, '3': 68.0, '6': 77.0, '8': 65.0}, '8': {'1': 98.0, '9': 44.0, '7': 65.0}, '9': {'8': 44.0, '6': 70.0, '4': 54.0}} 4\n"
     ]
    },
    {
     "name": "stderr",
     "output_type": "stream",
     "text": [
      "100%|██████████| 10/10 [00:00<00:00, 9986.44it/s]\n"
     ]
    },
    {
     "name": "stdout",
     "output_type": "stream",
     "text": [
      "fraction of edges: 0.35555555555555557\n",
      "1.7934897632421574\n",
      "Starting trial 27 of 200\n",
      "{'0': {'9': 61.0, '5': 28.0, '2': 34.0, '8': 8.0}, '1': {'4': 47.0, '6': 71.0, '8': 100.0, '2': 50.0, '5': 92.0}, '2': {'3': 22.0, '9': 43.0, '6': 7.0, '1': 50.0, '0': 34.0}, '3': {'2': 22.0, '6': 59.0}, '4': {'1': 47.0, '5': 94.0}, '5': {'4': 94.0, '0': 28.0, '1': 92.0, '6': 64.0}, '6': {'3': 59.0, '1': 71.0, '2': 7.0, '9': 30.0, '5': 64.0}, '7': {'8': 80.0}, '8': {'7': 80.0, '1': 100.0, '0': 8.0}, '9': {'0': 61.0, '2': 43.0, '6': 30.0}} 5\n"
     ]
    },
    {
     "name": "stderr",
     "output_type": "stream",
     "text": [
      "100%|██████████| 10/10 [00:00<00:00, 10029.42it/s]\n"
     ]
    },
    {
     "name": "stdout",
     "output_type": "stream",
     "text": [
      "fraction of edges: 0.37777777777777777\n",
      "3.2083883158661335\n",
      "Starting trial 28 of 200\n",
      "{'0': {'4': 38.0, '1': 36.0, '3': 7.0, '7': 52.0, '5': 93.0}, '1': {'0': 36.0, '8': 98.0}, '2': {'4': 12.0, '7': 96.0, '5': 97.0}, '3': {'9': 21.0, '5': 1.0, '4': 56.0, '0': 7.0}, '4': {'2': 12.0, '0': 38.0, '5': 56.0, '9': 65.0, '3': 56.0}, '5': {'4': 56.0, '3': 1.0, '2': 97.0, '6': 98.0, '0': 93.0}, '6': {'5': 98.0, '8': 4.0}, '7': {'9': 43.0, '8': 8.0, '2': 96.0, '0': 52.0}, '8': {'7': 8.0, '1': 98.0, '6': 4.0}, '9': {'3': 21.0, '7': 43.0, '4': 65.0}} 4\n"
     ]
    },
    {
     "name": "stderr",
     "output_type": "stream",
     "text": [
      "100%|██████████| 10/10 [00:00<00:00, 10015.05it/s]\n"
     ]
    },
    {
     "name": "stdout",
     "output_type": "stream",
     "text": [
      "fraction of edges: 0.4\n",
      "1.625171865119685\n",
      "Starting trial 29 of 200\n",
      "{'0': {'6': 67.0, '1': 86.0, '8': 71.0}, '1': {'0': 86.0, '6': 89.0, '3': 66.0}, '2': {'8': 76.0, '7': 34.0, '5': 31.0}, '3': {'4': 70.0, '9': 88.0, '7': 96.0, '8': 23.0, '1': 66.0}, '4': {'3': 70.0, '9': 15.0}, '5': {'8': 87.0, '2': 31.0, '6': 79.0}, '6': {'0': 67.0, '9': 25.0, '1': 89.0, '5': 79.0}, '7': {'2': 34.0, '3': 96.0}, '8': {'2': 76.0, '5': 87.0, '3': 23.0, '0': 71.0}, '9': {'3': 88.0, '6': 25.0, '4': 15.0}} 9\n"
     ]
    },
    {
     "name": "stderr",
     "output_type": "stream",
     "text": [
      "100%|██████████| 10/10 [00:00<00:00, 11541.84it/s]"
     ]
    },
    {
     "name": "stdout",
     "output_type": "stream",
     "text": [
      "fraction of edges: 0.35555555555555557\n",
      "1.8314764619628854\n",
      "Starting trial 30 of 200\n",
      "{'0': {'9': 46.0, '7': 2.0}, '1': {'8': 39.0, '7': 34.0, '4': 23.0}, '2': {'7': 75.0, '6': 89.0, '9': 98.0}, '3': {'7': 53.0}, '4': {'7': 35.0, '5': 4.0, '1': 23.0, '8': 56.0}, '5': {'4': 4.0, '9': 66.0}, '6': {'7': 7.0, '2': 89.0}, '7': {'6': 7.0, '4': 35.0, '0': 2.0, '2': 75.0, '1': 34.0, '3': 53.0}, '8': {'1': 39.0, '4': 56.0}, '9': {'0': 46.0, '5': 66.0, '2': 98.0}} 2\n",
      "2 0 ['0']\n",
      "path of length 1: 2 0 0\n",
      "x = y ['0']\n"
     ]
    },
    {
     "name": "stderr",
     "output_type": "stream",
     "text": [
      "\n"
     ]
    },
    {
     "ename": "ValueError",
     "evalue": "0, 0 not an edge in graph",
     "output_type": "error",
     "traceback": [
      "\u001b[1;31m---------------------------------------------------------------------------\u001b[0m",
      "\u001b[1;31mValueError\u001b[0m                                Traceback (most recent call last)",
      "Cell \u001b[1;32mIn [86], line 7\u001b[0m\n\u001b[0;32m      5\u001b[0m \u001b[38;5;28mprint\u001b[39m(\u001b[38;5;124mf\u001b[39m\u001b[38;5;124m'\u001b[39m\u001b[38;5;124mStarting trial \u001b[39m\u001b[38;5;132;01m{\u001b[39;00mi \u001b[38;5;241m+\u001b[39m \u001b[38;5;241m1\u001b[39m\u001b[38;5;132;01m}\u001b[39;00m\u001b[38;5;124m of \u001b[39m\u001b[38;5;132;01m{\u001b[39;00mn\u001b[38;5;132;01m}\u001b[39;00m\u001b[38;5;124m'\u001b[39m)\n\u001b[0;32m      6\u001b[0m p \u001b[38;5;241m=\u001b[39m np\u001b[38;5;241m.\u001b[39mlog(num_vertices)\u001b[38;5;241m/\u001b[39mnum_vertices\n\u001b[1;32m----> 7\u001b[0m \u001b[38;5;28mprint\u001b[39m(\u001b[43mtest_lsst\u001b[49m\u001b[43m(\u001b[49m\u001b[43mnum_vertices\u001b[49m\u001b[43m,\u001b[49m\u001b[43m \u001b[49m\u001b[38;5;241;43m0.2\u001b[39;49m\u001b[43m)\u001b[49m)\u001b[38;5;66;03m#np.log(1000)/1000))\u001b[39;00m\n\u001b[0;32m     10\u001b[0m \u001b[38;5;66;03m#print(f'LSST on graph with {num_vertices} vertices')\u001b[39;00m\n\u001b[0;32m     11\u001b[0m \u001b[38;5;66;03m# start = time.time()\u001b[39;00m\n\u001b[0;32m     12\u001b[0m \u001b[38;5;66;03m# print(test_lsst(num_vertices, 1))\u001b[39;00m\n\u001b[0;32m     13\u001b[0m \u001b[38;5;66;03m# end = time.time()\u001b[39;00m\n\u001b[0;32m     14\u001b[0m \u001b[38;5;66;03m#print(f'Took {end - start} seconds')\u001b[39;00m\n",
      "Cell \u001b[1;32mIn [77], line 30\u001b[0m, in \u001b[0;36mtest_lsst\u001b[1;34m(m, p)\u001b[0m\n\u001b[0;32m     27\u001b[0m v1 \u001b[38;5;241m=\u001b[39m \u001b[38;5;28mstr\u001b[39m(np\u001b[38;5;241m.\u001b[39mrandom\u001b[38;5;241m.\u001b[39mrandint(\u001b[38;5;241m0\u001b[39m, m))\n\u001b[0;32m     29\u001b[0m \u001b[38;5;28mprint\u001b[39m(graph, v1)\n\u001b[1;32m---> 30\u001b[0m \u001b[38;5;28;01mreturn\u001b[39;00m \u001b[43mcalculate_stretch\u001b[49m\u001b[43m(\u001b[49m\u001b[43mgraph\u001b[49m\u001b[43m,\u001b[49m\u001b[43m \u001b[49m\u001b[43mv1\u001b[49m\u001b[43m,\u001b[49m\u001b[43m \u001b[49m\u001b[43mv1\u001b[49m\u001b[43m)\u001b[49m\n",
      "Cell \u001b[1;32mIn [26], line 4\u001b[0m, in \u001b[0;36mcalculate_stretch\u001b[1;34m(graph, x_0, t)\u001b[0m\n\u001b[0;32m      3\u001b[0m \u001b[38;5;28;01mdef\u001b[39;00m \u001b[38;5;21mcalculate_stretch\u001b[39m(graph, x_0, t):\n\u001b[1;32m----> 4\u001b[0m     T \u001b[38;5;241m=\u001b[39m \u001b[43mhierarchical_petal_decomposition\u001b[49m\u001b[43m(\u001b[49m\u001b[43mgraph\u001b[49m\u001b[43m,\u001b[49m\u001b[43m \u001b[49m\u001b[43mx_0\u001b[49m\u001b[43m,\u001b[49m\u001b[43m \u001b[49m\u001b[43mt\u001b[49m\u001b[43m)\u001b[49m\n\u001b[0;32m      5\u001b[0m     \u001b[38;5;28;01massert\u001b[39;00m is_undirected(T)\n\u001b[0;32m      6\u001b[0m     T \u001b[38;5;241m=\u001b[39m make_undirected(T)\n",
      "Cell \u001b[1;32mIn [23], line 16\u001b[0m, in \u001b[0;36mhierarchical_petal_decomposition\u001b[1;34m(graph, x_0, t)\u001b[0m\n\u001b[0;32m     14\u001b[0m     \u001b[38;5;28;01mif\u001b[39;00m ts[j] \u001b[38;5;129;01mnot\u001b[39;00m \u001b[38;5;129;01min\u001b[39;00m Xs[j]:\n\u001b[0;32m     15\u001b[0m         \u001b[38;5;28mprint\u001b[39m(\u001b[38;5;124mf\u001b[39m\u001b[38;5;124m'\u001b[39m\u001b[38;5;124mtj = \u001b[39m\u001b[38;5;132;01m{\u001b[39;00mxs[j]\u001b[38;5;132;01m}\u001b[39;00m\u001b[38;5;124m not in \u001b[39m\u001b[38;5;132;01m{\u001b[39;00mXs[j]\u001b[38;5;132;01m}\u001b[39;00m\u001b[38;5;124m'\u001b[39m)\n\u001b[1;32m---> 16\u001b[0m     Ts\u001b[38;5;241m.\u001b[39mappend(\u001b[43mhierarchical_petal_decomposition\u001b[49m\u001b[43m(\u001b[49m\u001b[43mXs\u001b[49m\u001b[43m[\u001b[49m\u001b[43mj\u001b[49m\u001b[43m]\u001b[49m\u001b[43m,\u001b[49m\u001b[43m \u001b[49m\u001b[43mxs\u001b[49m\u001b[43m[\u001b[49m\u001b[43mj\u001b[49m\u001b[43m]\u001b[49m\u001b[43m,\u001b[49m\u001b[43m \u001b[49m\u001b[43mts\u001b[49m\u001b[43m[\u001b[49m\u001b[43mj\u001b[49m\u001b[43m]\u001b[49m\u001b[43m)\u001b[49m)\n\u001b[0;32m     17\u001b[0m \u001b[38;5;66;03m#print(Ts)\u001b[39;00m\n\u001b[0;32m     18\u001b[0m T \u001b[38;5;241m=\u001b[39m {}\n",
      "Cell \u001b[1;32mIn [23], line 16\u001b[0m, in \u001b[0;36mhierarchical_petal_decomposition\u001b[1;34m(graph, x_0, t)\u001b[0m\n\u001b[0;32m     14\u001b[0m     \u001b[38;5;28;01mif\u001b[39;00m ts[j] \u001b[38;5;129;01mnot\u001b[39;00m \u001b[38;5;129;01min\u001b[39;00m Xs[j]:\n\u001b[0;32m     15\u001b[0m         \u001b[38;5;28mprint\u001b[39m(\u001b[38;5;124mf\u001b[39m\u001b[38;5;124m'\u001b[39m\u001b[38;5;124mtj = \u001b[39m\u001b[38;5;132;01m{\u001b[39;00mxs[j]\u001b[38;5;132;01m}\u001b[39;00m\u001b[38;5;124m not in \u001b[39m\u001b[38;5;132;01m{\u001b[39;00mXs[j]\u001b[38;5;132;01m}\u001b[39;00m\u001b[38;5;124m'\u001b[39m)\n\u001b[1;32m---> 16\u001b[0m     Ts\u001b[38;5;241m.\u001b[39mappend(\u001b[43mhierarchical_petal_decomposition\u001b[49m\u001b[43m(\u001b[49m\u001b[43mXs\u001b[49m\u001b[43m[\u001b[49m\u001b[43mj\u001b[49m\u001b[43m]\u001b[49m\u001b[43m,\u001b[49m\u001b[43m \u001b[49m\u001b[43mxs\u001b[49m\u001b[43m[\u001b[49m\u001b[43mj\u001b[49m\u001b[43m]\u001b[49m\u001b[43m,\u001b[49m\u001b[43m \u001b[49m\u001b[43mts\u001b[49m\u001b[43m[\u001b[49m\u001b[43mj\u001b[49m\u001b[43m]\u001b[49m\u001b[43m)\u001b[49m)\n\u001b[0;32m     17\u001b[0m \u001b[38;5;66;03m#print(Ts)\u001b[39;00m\n\u001b[0;32m     18\u001b[0m T \u001b[38;5;241m=\u001b[39m {}\n",
      "Cell \u001b[1;32mIn [23], line 7\u001b[0m, in \u001b[0;36mhierarchical_petal_decomposition\u001b[1;34m(graph, x_0, t)\u001b[0m\n\u001b[0;32m      5\u001b[0m \u001b[38;5;28;01mif\u001b[39;00m is_tree(graph):\n\u001b[0;32m      6\u001b[0m     \u001b[38;5;28;01mreturn\u001b[39;00m graph\n\u001b[1;32m----> 7\u001b[0m Xs, ys, xs, ts \u001b[38;5;241m=\u001b[39m \u001b[43mpetal_decomposition\u001b[49m\u001b[43m(\u001b[49m\u001b[43mgraph\u001b[49m\u001b[43m,\u001b[49m\u001b[43m \u001b[49m\u001b[43mx_0\u001b[49m\u001b[43m,\u001b[49m\u001b[43m \u001b[49m\u001b[43mt\u001b[49m\u001b[43m)\u001b[49m\n\u001b[0;32m      8\u001b[0m \u001b[38;5;66;03m#print(f'Xs = {Xs}, ys = {ys}, xs = {xs}, ts = {ts}')\u001b[39;00m\n\u001b[0;32m      9\u001b[0m \u001b[38;5;66;03m#print(Xs[0], xs[0])\u001b[39;00m\n\u001b[0;32m     10\u001b[0m Ts \u001b[38;5;241m=\u001b[39m []\n",
      "Cell \u001b[1;32mIn [54], line 87\u001b[0m, in \u001b[0;36mpetal_decomposition\u001b[1;34m(graph, x, t)\u001b[0m\n\u001b[0;32m     85\u001b[0m             \u001b[38;5;66;03m#raise ValueError('x = y')\u001b[39;00m\n\u001b[0;32m     86\u001b[0m         \u001b[38;5;28;01mif\u001b[39;00m ys[\u001b[38;5;241m-\u001b[39m\u001b[38;5;241m1\u001b[39m] \u001b[38;5;129;01mnot\u001b[39;00m \u001b[38;5;129;01min\u001b[39;00m graph[xs[\u001b[38;5;241m-\u001b[39m\u001b[38;5;241m1\u001b[39m]]:\n\u001b[1;32m---> 87\u001b[0m             \u001b[38;5;28;01mraise\u001b[39;00m \u001b[38;5;167;01mValueError\u001b[39;00m(\u001b[38;5;124mf\u001b[39m\u001b[38;5;124m'\u001b[39m\u001b[38;5;132;01m{\u001b[39;00mxs[\u001b[38;5;241m-\u001b[39m\u001b[38;5;241m1\u001b[39m]\u001b[38;5;132;01m}\u001b[39;00m\u001b[38;5;124m, \u001b[39m\u001b[38;5;132;01m{\u001b[39;00mys[\u001b[38;5;241m-\u001b[39m\u001b[38;5;241m1\u001b[39m]\u001b[38;5;132;01m}\u001b[39;00m\u001b[38;5;124m not an edge in graph\u001b[39m\u001b[38;5;124m'\u001b[39m)\n\u001b[0;32m     88\u001b[0m         \u001b[38;5;66;03m#print('ys', ys)\u001b[39;00m\n\u001b[0;32m     89\u001b[0m     \u001b[38;5;66;03m#print('Completed while')\u001b[39;00m\n\u001b[0;32m     90\u001b[0m s \u001b[38;5;241m=\u001b[39m j \u001b[38;5;241m-\u001b[39m \u001b[38;5;241m1\u001b[39m\n",
      "\u001b[1;31mValueError\u001b[0m: 0, 0 not an edge in graph"
     ]
    }
   ],
   "source": [
    "import time\n",
    "n = 200\n",
    "for i in range(n):\n",
    "    for num_vertices in [10]: #, 1000, 5000]:\n",
    "        print(f'Starting trial {i + 1} of {n}')\n",
    "        p = np.log(num_vertices)/num_vertices\n",
    "        print(test_lsst(num_vertices, 0.2))#np.log(1000)/1000))\n",
    "            \n",
    "            \n",
    "        #print(f'LSST on graph with {num_vertices} vertices')\n",
    "        # start = time.time()\n",
    "        # print(test_lsst(num_vertices, 1))\n",
    "        # end = time.time()\n",
    "        #print(f'Took {end - start} seconds')"
   ]
  },
  {
   "cell_type": "markdown",
   "id": "c83cef87-0cd9-404d-8878-4473c4987e96",
   "metadata": {},
   "source": [
    "### Debugging"
   ]
  },
  {
   "cell_type": "code",
   "execution_count": 87,
   "id": "200b7057-8725-47df-be54-42cdc3708278",
   "metadata": {},
   "outputs": [],
   "source": [
    "graph = {'0': {'9': 46.0, '7': 2.0}, '1': {'8': 39.0, '7': 34.0, '4': 23.0}, '2': {'7': 75.0, '6': 89.0, '9': 98.0}, '3': {'7': 53.0}, '4': {'7': 35.0, '5': 4.0, '1': 23.0, '8': 56.0}, '5': {'4': 4.0, '9': 66.0}, '6': {'7': 7.0, '2': 89.0}, '7': {'6': 7.0, '4': 35.0, '0': 2.0, '2': 75.0, '1': 34.0, '3': 53.0}, '8': {'1': 39.0, '4': 56.0}, '9': {'0': 46.0, '5': 66.0, '2': 98.0}}"
   ]
  },
  {
   "cell_type": "code",
   "execution_count": 88,
   "id": "06630bed-0a10-4990-b5a6-c5f614ebd489",
   "metadata": {},
   "outputs": [
    {
     "data": {
      "text/plain": [
       "{'0': {'9': 46.0, '7': 2.0},\n",
       " '1': {'8': 39.0, '7': 34.0, '4': 23.0},\n",
       " '2': {'7': 75.0, '6': 89.0, '9': 98.0},\n",
       " '3': {'7': 53.0},\n",
       " '4': {'7': 35.0, '5': 4.0, '1': 23.0, '8': 56.0},\n",
       " '5': {'4': 4.0, '9': 66.0},\n",
       " '6': {'7': 7.0, '2': 89.0},\n",
       " '7': {'6': 7.0, '4': 35.0, '0': 2.0, '2': 75.0, '1': 34.0, '3': 53.0},\n",
       " '8': {'1': 39.0, '4': 56.0},\n",
       " '9': {'0': 46.0, '5': 66.0, '2': 98.0}}"
      ]
     },
     "execution_count": 88,
     "metadata": {},
     "output_type": "execute_result"
    }
   ],
   "source": [
    "graph"
   ]
  },
  {
   "cell_type": "code",
   "execution_count": 90,
   "id": "bafbc70c-7478-419e-9f04-33f01659f5ef",
   "metadata": {},
   "outputs": [
    {
     "data": {
      "text/plain": [
       "([{'0': {'9': 46.0, '7': 2.0},\n",
       "   '1': {'7': 34.0},\n",
       "   '2': {'7': 75.0, '6': 89.0, '9': 98.0},\n",
       "   '6': {'7': 7.0, '2': 89.0},\n",
       "   '7': {'6': 7.0, '0': 2.0, '2': 75.0, '1': 34.0},\n",
       "   '9': {'0': 46.0, '2': 98.0}},\n",
       "  {'3': {}},\n",
       "  {'4': {'5': 2.0}, '5': {'4': 2.0}},\n",
       "  {'8': {}}],\n",
       " ['7', '7', '1'],\n",
       " ['2', '3', '4', '8'],\n",
       " ['2', '3', '5', '8'])"
      ]
     },
     "execution_count": 90,
     "metadata": {},
     "output_type": "execute_result"
    }
   ],
   "source": [
    "petal_decomposition(graph, '2', '2')"
   ]
  },
  {
   "cell_type": "code",
   "execution_count": null,
   "id": "8483de1c-f7a4-44b1-b8cc-4f0fa0969503",
   "metadata": {},
   "outputs": [],
   "source": []
  }
 ],
 "metadata": {
  "kernelspec": {
   "display_name": "Python 3 (ipykernel)",
   "language": "python",
   "name": "python3"
  },
  "language_info": {
   "codemirror_mode": {
    "name": "ipython",
    "version": 3
   },
   "file_extension": ".py",
   "mimetype": "text/x-python",
   "name": "python",
   "nbconvert_exporter": "python",
   "pygments_lexer": "ipython3",
   "version": "3.8.13"
  }
 },
 "nbformat": 4,
 "nbformat_minor": 5
}
