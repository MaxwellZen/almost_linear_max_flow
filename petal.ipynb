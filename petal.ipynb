{
 "cells": [
  {
   "cell_type": "code",
   "execution_count": 1,
   "id": "8aef4a38-9d15-4d1a-9a43-062ad0c276c9",
   "metadata": {},
   "outputs": [
    {
     "name": "stdout",
     "output_type": "stream",
     "text": [
      "Shortest distance from A to F: {'A': 0, 'B': 2, 'C': 12, 'D': 7, 'E': 8, 'F': 9, 'G': 6}\n",
      "Shortest path from A to F: A -> B -> D -> F\n"
     ]
    }
   ],
   "source": [
    "#Written by ChatGPT\n",
    "\n",
    "import heapq\n",
    "import math\n",
    "\n",
    "class FibonacciHeapNode:\n",
    "    def __init__(self, node, key):\n",
    "        self.node = node\n",
    "        self.key = key\n",
    "        self.parent = None\n",
    "        self.child = None\n",
    "        self.left = self\n",
    "        self.right = self\n",
    "        self.degree = 0\n",
    "        self.marked = False\n",
    "\n",
    "class FibonacciHeap:\n",
    "    def __init__(self):\n",
    "        self.min_node = None\n",
    "        self.nodes = {}\n",
    "\n",
    "    def insert(self, node, key):\n",
    "        new_node = FibonacciHeapNode(node, key)\n",
    "        self.nodes[node] = new_node\n",
    "        if not self.min_node or key < self.min_node.key:\n",
    "            self.min_node = new_node\n",
    "\n",
    "    def extract_min(self):\n",
    "        if self.min_node:\n",
    "            min_node = self.min_node\n",
    "            if min_node.child:\n",
    "                child = min_node.child\n",
    "                while True:\n",
    "                    next_child = child.right\n",
    "                    child.left = min_node\n",
    "                    child.right = min_node.right\n",
    "                    min_node.right.left = child\n",
    "                    min_node.right = child\n",
    "                    if next_child == min_node.child:\n",
    "                        break\n",
    "                    child = next_child\n",
    "            min_node.left.right = min_node.right\n",
    "            min_node.right.left = min_node.left\n",
    "            if min_node == min_node.right:\n",
    "                self.min_node = None\n",
    "            else:\n",
    "                self.min_node = min_node.right\n",
    "                self.consolidate()\n",
    "            del self.nodes[min_node.node]\n",
    "            return min_node.node, min_node.key\n",
    "        return None, None\n",
    "\n",
    "    def consolidate(self):\n",
    "        max_degree = int(2 * (math.log(len(self.nodes)) / math.log(1 + math.sqrt(5))))\n",
    "        degree_table = [None] * (max_degree + 1)\n",
    "        current = self.min_node\n",
    "        unprocessed_nodes = [current]\n",
    "        while True:\n",
    "            current = current.right\n",
    "            if current == self.min_node:\n",
    "                break\n",
    "            unprocessed_nodes.append(current)\n",
    "        for node in unprocessed_nodes:\n",
    "            degree = node.degree\n",
    "            while degree_table[degree]:\n",
    "                other = degree_table[degree]\n",
    "                if node.key > other.key:\n",
    "                    node, other = other, node\n",
    "                self.link(other, node)\n",
    "                degree_table[degree] = None\n",
    "                degree += 1\n",
    "            degree_table[degree] = node\n",
    "        for entry in degree_table:\n",
    "            if entry and entry.key < self.min_node.key:\n",
    "                self.min_node = entry\n",
    "\n",
    "    def link(self, node1, node2):\n",
    "        node1.right.left = node1.left\n",
    "        node1.left.right = node1.right\n",
    "        node1.parent = node2\n",
    "        if not node2.child:\n",
    "            node2.child = node1\n",
    "            node1.right = node1\n",
    "            node1.left = node1\n",
    "        else:\n",
    "            node1.left = node2.child\n",
    "            node1.right = node2.child.right\n",
    "            node2.child.right.left = node1\n",
    "            node2.child.right = node1\n",
    "        node2.degree += 1\n",
    "        node1.marked = False\n",
    "\n",
    "def dijkstra(graph, start):\n",
    "    distances = {node: float('inf') for node in graph}\n",
    "    predecessors = {node: None for node in graph}\n",
    "    distances[start] = 0\n",
    "    \n",
    "    priority_queue = [(0, start)]\n",
    "    \n",
    "    while priority_queue:\n",
    "        current_distance, current_node = heapq.heappop(priority_queue)\n",
    "        \n",
    "        if current_distance > distances[current_node]:\n",
    "            continue\n",
    "        #print(graph)\n",
    "        for neighbor, weight in graph[current_node].items():\n",
    "            distance = current_distance + weight\n",
    "            if distance < distances[neighbor]:\n",
    "                distances[neighbor] = distance\n",
    "                predecessors[neighbor] = current_node  # Store the predecessor\n",
    "                heapq.heappush(priority_queue, (distance, neighbor))\n",
    "    \n",
    "    return distances, predecessors\n",
    "\n",
    "def shortest_path(graph, start, end, predecessors):\n",
    "    path = []\n",
    "    while end:\n",
    "        path.insert(0, end)\n",
    "        end = predecessors.get(end, None)\n",
    "    return path\n",
    "\n",
    "# Example usage:\n",
    "graph = {\n",
    "    'A': {'B': 2, 'D': 8, 'G' : 6},\n",
    "    'B': {'A': 2, 'D': 5, 'E': 6},\n",
    "    'C': {'E': 9, 'F': 3},\n",
    "    'D': {'A': 8, 'B': 5, 'E': 3, 'F': 2},\n",
    "    'E': {'B': 6, 'C': 9, 'D': 3, 'F': 1, 'G': 4},\n",
    "    'F': {'D': 2, 'E': 1, 'C': 3},\n",
    "    'G': {'A': 6, 'E': 4}\n",
    "}\n",
    "\n",
    "start_node = 'A'\n",
    "end_node = 'F'\n",
    "\n",
    "shortest_distance, predecessors = dijkstra(graph, start_node)\n",
    "shortest_path_to_D = shortest_path(graph, start_node, end_node, predecessors)\n",
    "\n",
    "print(f\"Shortest distance from {start_node} to {end_node}: {shortest_distance}\")\n",
    "print(f\"Shortest path from {start_node} to {end_node}: {' -> '.join(shortest_path_to_D)}\")"
   ]
  },
  {
   "cell_type": "code",
   "execution_count": 2,
   "id": "d4d368e9-1147-4f44-9d8f-b7717c087d87",
   "metadata": {},
   "outputs": [],
   "source": [
    "def create_directed_graph(graph, shortest_distance):\n",
    "    '''Creates a directed graph as specified on page 19 or 245 of AN19.'''\n",
    "    directed = {}\n",
    "    for u in graph: #first vertex\n",
    "        if u not in directed:\n",
    "            directed[u] = {}\n",
    "        for v in graph[u]: #second vertex\n",
    "            directed[u][v] = graph[u][v] - (shortest_distance[v] - shortest_distance[u])\n",
    "            #directed[v][u] = graph[v][u] - (shortest_distance[u] - shortest_distance[v])\n",
    "    return directed"
   ]
  },
  {
   "cell_type": "code",
   "execution_count": 3,
   "id": "5558a413-d1e8-4e03-99ec-92c8017cf31a",
   "metadata": {},
   "outputs": [],
   "source": [
    "d = create_directed_graph(graph, shortest_distance)"
   ]
  },
  {
   "cell_type": "code",
   "execution_count": 4,
   "id": "99573741-f2b3-474c-80cf-a1be3b5c7d4c",
   "metadata": {},
   "outputs": [
    {
     "data": {
      "text/plain": [
       "{'A': {'B': 0, 'D': 1, 'G': 0},\n",
       " 'B': {'A': 4, 'D': 0, 'E': 0},\n",
       " 'C': {'E': 13, 'F': 6},\n",
       " 'D': {'A': 15, 'B': 10, 'E': 2, 'F': 0},\n",
       " 'E': {'B': 12, 'C': 5, 'D': 4, 'F': 0, 'G': 6},\n",
       " 'F': {'D': 4, 'E': 2, 'C': 0},\n",
       " 'G': {'A': 12, 'E': 2}}"
      ]
     },
     "execution_count": 4,
     "metadata": {},
     "output_type": "execute_result"
    }
   ],
   "source": [
    "d"
   ]
  },
  {
   "cell_type": "code",
   "execution_count": 5,
   "id": "5f76de64-fcea-4457-841d-aa06bcf3ff7c",
   "metadata": {},
   "outputs": [
    {
     "data": {
      "text/plain": [
       "({'A': 16, 'B': 12, 'C': 0, 'D': 4, 'E': 0, 'F': 0, 'G': 6},\n",
       " {'A': 'B', 'B': 'E', 'C': 'F', 'D': 'E', 'E': None, 'F': 'E', 'G': 'E'})"
      ]
     },
     "execution_count": 5,
     "metadata": {},
     "output_type": "execute_result"
    }
   ],
   "source": [
    "dijkstra(d, 'E')"
   ]
  },
  {
   "cell_type": "code",
   "execution_count": 6,
   "id": "eef4dffe-1b7c-4338-9713-b2a62de26ba9",
   "metadata": {},
   "outputs": [
    {
     "data": {
      "text/plain": [
       "({'A': 0, 'B': 2, 'C': 12, 'D': 7, 'E': 8, 'F': 9, 'G': 6},\n",
       " {'A': None, 'B': 'A', 'C': 'F', 'D': 'B', 'E': 'B', 'F': 'D', 'G': 'A'})"
      ]
     },
     "execution_count": 6,
     "metadata": {},
     "output_type": "execute_result"
    }
   ],
   "source": [
    "dijkstra(graph, 'A')"
   ]
  },
  {
   "cell_type": "code",
   "execution_count": 7,
   "id": "a46e23e6-6e0b-430e-af3e-5742a1256c90",
   "metadata": {},
   "outputs": [],
   "source": [
    "#Test function written by ChatGPT\n",
    "\n",
    "def is_undirected(graph):\n",
    "    # Create a set to store checked edges\n",
    "    checked_edges = set()\n",
    "\n",
    "    # Iterate through each node in the graph\n",
    "    for node, neighbors in graph.items():\n",
    "        for neighbor, length in neighbors.items():\n",
    "            # Check if the reverse edge exists and has the same length\n",
    "            if (neighbor, node) in checked_edges:\n",
    "                if graph[neighbor][node] != length:\n",
    "                    print(f'neigbhor = {neighbor} and node = {node}')\n",
    "                    return False\n",
    "            else:\n",
    "                checked_edges.add((node, neighbor))\n",
    "\n",
    "    return True"
   ]
  },
  {
   "cell_type": "code",
   "execution_count": 8,
   "id": "c753c789-053b-41e1-b9dc-993c50d39407",
   "metadata": {},
   "outputs": [
    {
     "name": "stdout",
     "output_type": "stream",
     "text": [
      "The graph is connected.\n"
     ]
    }
   ],
   "source": [
    "#Test function written by ChatGPT\n",
    "\n",
    "def is_connected(graph):\n",
    "    if not graph:\n",
    "        # An empty graph is considered connected\n",
    "        return True\n",
    "\n",
    "    def dfs(node, visited):\n",
    "        visited[node] = True\n",
    "        for neighbor in graph[node]:\n",
    "            if not visited[neighbor]:\n",
    "                dfs(neighbor, visited)\n",
    "\n",
    "    # Initialize a dictionary to keep track of visited nodes\n",
    "    visited = {node: False for node in graph}\n",
    "\n",
    "    # Choose any node as the starting point\n",
    "    start_node = next(iter(graph))\n",
    "    dfs(start_node, visited)\n",
    "\n",
    "    # Check if all nodes have been visited\n",
    "    return all(visited[node] for node in graph)\n",
    "\n",
    "# Example usage:\n",
    "graph = {\n",
    "    'A': {'B': 2, 'D': 8, 'G' : 6},\n",
    "    'B': {'A': 2, 'D': 5, 'E': 6},\n",
    "    'C': {'E': 9, 'F': 3},\n",
    "    'D': {'A': 8, 'B': 5, 'E': 3, 'F': 2},\n",
    "    'E': {'B': 6, 'C': 9, 'D': 3, 'F': 1, 'G': 4},\n",
    "    'F': {'D': 2, 'E': 1, 'C': 3},\n",
    "    'G': {'A': 6, 'E': 4}\n",
    "}\n",
    "\n",
    "connected = is_connected(graph)\n",
    "if connected:\n",
    "    print(\"The graph is connected.\")\n",
    "else:\n",
    "    print(\"The graph is not connected.\")"
   ]
  },
  {
   "cell_type": "code",
   "execution_count": 9,
   "id": "c9d9896e-60bc-4947-8252-e50085fe3735",
   "metadata": {},
   "outputs": [],
   "source": [
    "def create_petal(graph, x, t, r): \n",
    "    #assert x in graph\n",
    "    #assert t in graph\n",
    "    shortest_distance, predecessors = dijkstra(graph, x)\n",
    "    directed = create_directed_graph(graph, shortest_distance)\n",
    "    #print('directed', directed)\n",
    "    \n",
    "    shortest_path_to_t = shortest_path(graph, x, t, predecessors)\n",
    "    if x != t and len(shortest_path_to_t) == 1:\n",
    "        print(x, t, shortest_distance[t])\n",
    "    \n",
    "\n",
    "    t_dist = shortest_distance[t]\n",
    "    #assert t_dist != float('inf')\n",
    "    r_prime = t\n",
    "    r_prime_idx = -1\n",
    "    #shortest_path_rprime = []\n",
    "    \n",
    "    for v in shortest_path_to_t:\n",
    "        #shortest_path_rprime.append(v)\n",
    "        r_prime_idx += 1\n",
    "        if t_dist - shortest_distance[v] < r:\n",
    "            r_prime = v\n",
    "            break\n",
    "    shortest_path_rprime = shortest_path_to_t[r_prime_idx:]\n",
    "    shortest_path_rprime = shortest_path_rprime[::-1]\n",
    "    \n",
    "    for i in range(len(shortest_path_rprime) - 1):\n",
    "        v1 = shortest_path_rprime[i]\n",
    "        v2 = shortest_path_rprime[i+1]\n",
    "        directed[v1][v2] = graph[v1][v2]/2\n",
    "    \n",
    "    shortest_distance_directed, predecessors_directed = dijkstra(directed, t)\n",
    "    petal = {}\n",
    "    for v in shortest_distance_directed:\n",
    "        if shortest_distance_directed[v] < r/2:\n",
    "            petal[v] = {}\n",
    "    # for v in shortest_path_rprime:\n",
    "    #     petal[v] = {}\n",
    "        \n",
    "    for u in petal:\n",
    "        for v in graph[u]:\n",
    "            if v in petal:\n",
    "                petal[u][v] = graph[u][v]\n",
    "\n",
    "    # if not is_connected(petal):\n",
    "    #     print(petal)\n",
    "    #     raise ValueError(f'Petal = {petal} not connected')\n",
    "    if len(petal) == 1:\n",
    "        r_prime = list(petal.keys())[0]\n",
    "\n",
    "    return petal, r_prime, shortest_path_to_t "
   ]
  },
  {
   "cell_type": "code",
   "execution_count": 10,
   "id": "44e9f8ac-3c7e-40a5-8f6b-0bf2624f3e05",
   "metadata": {},
   "outputs": [
    {
     "data": {
      "text/plain": [
       "({'C': {'F': 3}, 'F': {'C': 3}}, 'F', ['A', 'B', 'D', 'F', 'C'])"
      ]
     },
     "execution_count": 10,
     "metadata": {},
     "output_type": "execute_result"
    }
   ],
   "source": [
    "create_petal(graph, 'A', 'C', 12 - 5*12/8)"
   ]
  },
  {
   "cell_type": "code",
   "execution_count": 11,
   "id": "4e3171e5-fb01-4876-980f-e167319457c8",
   "metadata": {},
   "outputs": [
    {
     "data": {
      "text/plain": [
       "{'A': {'B': 2, 'D': 8, 'G': 6},\n",
       " 'B': {'A': 2, 'D': 5, 'E': 6},\n",
       " 'C': {'E': 9, 'F': 3},\n",
       " 'D': {'A': 8, 'B': 5, 'E': 3, 'F': 2},\n",
       " 'E': {'B': 6, 'C': 9, 'D': 3, 'F': 1, 'G': 4},\n",
       " 'F': {'D': 2, 'E': 1, 'C': 3},\n",
       " 'G': {'A': 6, 'E': 4}}"
      ]
     },
     "execution_count": 11,
     "metadata": {},
     "output_type": "execute_result"
    }
   ],
   "source": [
    "graph"
   ]
  },
  {
   "cell_type": "code",
   "execution_count": 12,
   "id": "674891fd-fa9c-4d19-8a5b-cbaf789049b4",
   "metadata": {},
   "outputs": [],
   "source": [
    "#Written by ChatGPT\n",
    "\n",
    "def maintain_graph_difference(G, H):\n",
    "    result = {}\n",
    "\n",
    "    for u, neighbors in G.items():\n",
    "        if u not in H:\n",
    "            result[u] = {}\n",
    "        \n",
    "        for v in neighbors:\n",
    "            if u not in H and v not in H:\n",
    "                if u not in result:\n",
    "                    result[u] = {}\n",
    "                result[u][v] = G[u][v]\n",
    "\n",
    "    return result"
   ]
  },
  {
   "cell_type": "code",
   "execution_count": 13,
   "id": "5aff7958-7bb0-43a2-aa5c-34ed9ae3db2c",
   "metadata": {},
   "outputs": [
    {
     "data": {
      "text/plain": [
       "{'A': {'B': 2, 'D': 8, 'G': 6},\n",
       " 'B': {'A': 2, 'D': 5, 'E': 6},\n",
       " 'C': {'E': 9, 'F': 3},\n",
       " 'D': {'A': 8, 'B': 5, 'E': 3, 'F': 2},\n",
       " 'E': {'B': 6, 'C': 9, 'D': 3, 'F': 1, 'G': 4},\n",
       " 'F': {'D': 2, 'E': 1, 'C': 3},\n",
       " 'G': {'A': 6, 'E': 4}}"
      ]
     },
     "execution_count": 13,
     "metadata": {},
     "output_type": "execute_result"
    }
   ],
   "source": [
    "graph"
   ]
  },
  {
   "cell_type": "code",
   "execution_count": 14,
   "id": "9430bf8c-8b14-45af-8bcd-4d4b13731ecc",
   "metadata": {},
   "outputs": [
    {
     "data": {
      "text/plain": [
       "{'C': {'E': 9, 'F': 3},\n",
       " 'D': {'E': 3, 'F': 2},\n",
       " 'E': {'C': 9, 'D': 3, 'F': 1, 'G': 4},\n",
       " 'F': {'D': 2, 'E': 1, 'C': 3},\n",
       " 'G': {'E': 4}}"
      ]
     },
     "execution_count": 14,
     "metadata": {},
     "output_type": "execute_result"
    }
   ],
   "source": [
    "maintain_graph_difference(graph, ['A', 'B'])"
   ]
  },
  {
   "cell_type": "code",
   "execution_count": 15,
   "id": "1ed0d375-772f-4479-afba-81d97f328489",
   "metadata": {},
   "outputs": [],
   "source": [
    "def petal_decomposition(graph, x, t):\n",
    "    assert x in graph\n",
    "    if t not in graph:\n",
    "        raise ValueError(f't = {t} not in graph vertices = {list(graph.keys())}')\n",
    "    shortest_distance, predecessors = dijkstra(graph, x)\n",
    "    r = max(shortest_distance.values())\n",
    "    #print(r)\n",
    "    Ys = [graph]\n",
    "    Xs = []\n",
    "    ys = []\n",
    "    xs = [x]\n",
    "    ts = []\n",
    "    j = 1\n",
    "    if shortest_distance[t] > 5*r/8:\n",
    "        \n",
    "        X_1, x_1, path = create_petal(graph, x, t, shortest_distance[t] - 5*r/8)\n",
    "        #print('special petal', X_1, x_1, t, path)\n",
    "        Ys.append(maintain_graph_difference(Ys[0], X_1))\n",
    "        Xs.append(X_1)\n",
    "        xs.append(x_1)\n",
    "        \n",
    "        y1 = x\n",
    "        min_distance = r\n",
    "\n",
    "        for i in range(len(path)):\n",
    "            if path[i] == x_1:\n",
    "                y1 = path[i-1]\n",
    "                break\n",
    "\n",
    "        j = 2\n",
    "        ts = [y1, t]\n",
    "        ys = [y1]\n",
    "        #if y1 in X_1 and x_1 != t:\n",
    "        #    raise ValueError(f'y1 = {y1} should not be in X1 = {X_1}')\n",
    "        \n",
    "    else:\n",
    "        ts = [t] \n",
    "    while True:\n",
    "        #shortest_distance, predecessors = dijkstra(Ys[-1], x)\n",
    "        ball = {key : value for key, value in shortest_distance.items() if shortest_distance[key] < 3*r/4}\n",
    "        leftover = [v for v in Ys[-1] if v not in ball and shortest_distance[v] != float('inf')]\n",
    "        if len(leftover) == 0:\n",
    "            break\n",
    "        else:\n",
    "            ts.append(leftover[0])\n",
    "            #assert x in Ys[-1]\n",
    "            #assert ts[-1] in Ys[-1]\n",
    "            X_j, x_j, path = create_petal(Ys[-1], x, ts[-1], r/8)\n",
    "            #assert x_j in Ys[-1]\n",
    "            if len(path) == 1:\n",
    "                print('path of length 1:', x, x_j, ts[-1])\n",
    "            #if x_j not in X_j: #Cluster center must always be in cluster\n",
    "            #    raise ValueError('x_j not in X_j')\n",
    "            #assert ts[-1] in X_j\n",
    "            Xs.append(X_j)\n",
    "            xs.append(x_j)\n",
    "            Ys.append(maintain_graph_difference(Ys[-1], X_j))\n",
    "            xj_idx = -1\n",
    "            #if x_j not in path:\n",
    "            #    print(f'x_j {x_j} not found in path {path} of length {shortest_distance[ts[-1]]} from {x} to {ts[-1]}')\n",
    "            for i in range(len(path)):\n",
    "                if path[i] == x_j:\n",
    "                    xj_idx = i\n",
    "                if xj_idx > -1 and i < len(path) - 1:\n",
    "                    X_j[path[i]][path[i+1]] /= 2\n",
    "                    X_j[path[i+1]][path[i]] /= 2\n",
    "            if x_j == x:\n",
    "                ys.append(path[0])\n",
    "            else:\n",
    "                ys.append(path[xj_idx - 1])\n",
    "            j += 1\n",
    "            if ys[-1] == xs[-1]:\n",
    "                print('x = y', path)\n",
    "                raise ValueError('x = y')\n",
    "            #if ys[-1] not in graph[xs[-1]]:\n",
    "            #    raise ValueError(f'{xs[-1]}, {ys[-1]} not an edge in graph')\n",
    "\n",
    "    s = j - 1\n",
    "    X0 = Ys[s]\n",
    "\n",
    "    Xs = [X0] + Xs\n",
    "    return Xs, ys, xs, ts\n",
    "        "
   ]
  },
  {
   "cell_type": "code",
   "execution_count": 16,
   "id": "3b6be1df-46e1-4c26-9321-afc2ce90ec3a",
   "metadata": {},
   "outputs": [],
   "source": [
    "#Helper function no longer being used\n",
    "\n",
    "def make_undirected(graph):\n",
    "    undirected_graph = {}\n",
    "    for u in graph:\n",
    "        for v, length in graph[u].items():\n",
    "            # Add edge from u to v\n",
    "            if u not in undirected_graph:\n",
    "                undirected_graph[u] = {}\n",
    "            undirected_graph[u][v] = length\n",
    "            \n",
    "            # Add edge from v to u\n",
    "            if v not in undirected_graph:\n",
    "                undirected_graph[v] = {}\n",
    "            undirected_graph[v][u] = length\n",
    "    \n",
    "    return undirected_graph"
   ]
  },
  {
   "cell_type": "code",
   "execution_count": 17,
   "id": "4b160961-1f7f-4a3d-884f-7b82f3dcc972",
   "metadata": {},
   "outputs": [
    {
     "name": "stdout",
     "output_type": "stream",
     "text": [
      "The graph is not a tree.\n"
     ]
    }
   ],
   "source": [
    "#Test function written by ChatGPT\n",
    "\n",
    "def is_tree(graph):\n",
    "    num_vertices = len(graph)\n",
    "    num_edges = sum(len(adj_list) for adj_list in graph.values()) // 2  # Divide by 2 to account for double-counting edges\n",
    "\n",
    "    return num_edges == num_vertices - 1\n",
    "\n",
    "# Example usage\n",
    "\n",
    "if is_tree(graph):\n",
    "    print(\"The graph is a tree.\")\n",
    "else:\n",
    "    print(\"The graph is not a tree.\")\n"
   ]
  },
  {
   "cell_type": "code",
   "execution_count": 18,
   "id": "bef44ac0-b369-4774-a144-fafc4c3e16b7",
   "metadata": {},
   "outputs": [],
   "source": [
    "def hierarchical_petal_decomposition(graph, x_0, t):\n",
    "    \n",
    "    if len(graph) == 1:\n",
    "        return graph\n",
    "    # if is_tree(graph):\n",
    "    #     return graph\n",
    "    Xs, ys, xs, ts = petal_decomposition(graph, x_0, t)\n",
    "\n",
    "    Ts = []\n",
    "    for j in range(len(Xs)):\n",
    "        # if xs[j] not in Xs[j]:\n",
    "        #     print(f'xj = {xs[j]} not in {Xs[j]}')\n",
    "        # if ts[j] not in Xs[j]:\n",
    "        #     print(f'tj = {xs[j]} not in {Xs[j]}')\n",
    "        Ts.append(hierarchical_petal_decomposition(Xs[j], xs[j], ts[j]))\n",
    "\n",
    "    T = {}\n",
    "    for tree in Ts:\n",
    "        # if not is_undirected(tree):\n",
    "        #     print(tree)\n",
    "        #     raise ValueError('tree is not undirected')\n",
    "        for u in tree:\n",
    "            T[u] = tree[u]\n",
    "    #print(xs, ys)\n",
    "    if len(xs) > 1:\n",
    "        for i in range(1, len(xs)):\n",
    "            x = xs[i]\n",
    "            y = ys[i-1]\n",
    "            T[x][y] = graph[x][y]\n",
    "            #T[y] = {x : graph[y][x]}\n",
    "            T[y][x] = graph[y][x]\n",
    "    \n",
    "    return T\n",
    "        "
   ]
  },
  {
   "cell_type": "code",
   "execution_count": 19,
   "id": "bfdfd29a-53a9-4726-8890-f3a09282c96f",
   "metadata": {},
   "outputs": [],
   "source": [
    "tree = hierarchical_petal_decomposition(graph, 'A', 'A')"
   ]
  },
  {
   "cell_type": "code",
   "execution_count": 20,
   "id": "6840720a-be2b-4e58-9051-5b6f8a0be1cf",
   "metadata": {},
   "outputs": [
    {
     "data": {
      "text/plain": [
       "{'A': {'B': 2, 'G': 6},\n",
       " 'B': {'A': 2, 'D': 5, 'E': 6},\n",
       " 'D': {'B': 5, 'F': 2},\n",
       " 'E': {'B': 6},\n",
       " 'G': {'A': 6},\n",
       " 'C': {'F': 3},\n",
       " 'F': {'C': 3, 'D': 2}}"
      ]
     },
     "execution_count": 20,
     "metadata": {},
     "output_type": "execute_result"
    }
   ],
   "source": [
    "tree"
   ]
  },
  {
   "cell_type": "markdown",
   "id": "59b9bb89-4421-48e3-9488-a02453005e74",
   "metadata": {},
   "source": [
    "### Tree"
   ]
  },
  {
   "cell_type": "code",
   "execution_count": 21,
   "id": "c88a26d7-d0ec-4342-88c0-804a34c2f2ff",
   "metadata": {},
   "outputs": [],
   "source": [
    "import numpy as np\n",
    "from tqdm import tqdm\n",
    "import time\n",
    "def calculate_stretch(graph, x_0, t):\n",
    "    '''Calculates the ratio of the stretch of an LSST to m log(n) log log(n) '''\n",
    "    start = time.time()\n",
    "    T = hierarchical_petal_decomposition(graph, x_0, t)\n",
    "    end = time.time()\n",
    "    duration = end - start\n",
    "    assert is_undirected(T)\n",
    "    assert is_tree(T)\n",
    "    #T = make_undirected(T)\n",
    "    #print(T)\n",
    "    if len(T) != len(graph):\n",
    "        print(T)\n",
    "        raise ValueError(f'Not a spanning tree. T has {len(T)} vertices while the original graph has {len(graph)} vertices')\n",
    "    n = len(graph)\n",
    "    m = 0\n",
    "    stretch = 0\n",
    "    graph_keys_list = list(graph.keys())\n",
    "    for i in tqdm(range(len(graph_keys_list))):\n",
    "        u = graph_keys_list[i]\n",
    "        for v in graph[u]:\n",
    "            assert u in T and v in T\n",
    "            m += 1\n",
    "            distances, _ = dijkstra(T, u)\n",
    "            if distances[v] == float('inf'):\n",
    "                print('INF', u, v, T)\n",
    "                print(is_undirected(T))\n",
    "                print(is_connected(T))\n",
    "                raise ValueError('Distance should be finite')\n",
    "            stretch += distances[v]/graph[u][v]\n",
    "    # print(f'fraction of edges: {(n/2)/(m*(m-1)/2) }')\n",
    "    m /= 2\n",
    "    bound = m * np.log(n) * np.log(np.log(n))\n",
    "    #print(f'n = {n}')\n",
    "    return stretch, duration, bound"
   ]
  },
  {
   "cell_type": "code",
   "execution_count": 22,
   "id": "effd9a7b-8037-4533-a577-1f75b914852e",
   "metadata": {},
   "outputs": [],
   "source": [
    "import random\n",
    "\n",
    "def generate_graph(m, p):\n",
    "    if m <= 1:\n",
    "        # Special case: a single vertex graph is always connected.\n",
    "        return {'0': {}}\n",
    "\n",
    "    # Create a list of vertices as strings from '0' to 'm-1'.\n",
    "    vertices = [str(i) for i in range(m)]\n",
    "\n",
    "    # Create a dictionary to represent the graph with edge lengths.\n",
    "    graph = {v: {} for v in vertices}\n",
    "\n",
    "    # Create a list of edges with associated probabilities.\n",
    "    edges = []\n",
    "\n",
    "    for i in range(m):\n",
    "        for j in range(i + 1, m):\n",
    "            if random.random() < p:\n",
    "                edges.append((vertices[i], vertices[j]))\n",
    "\n",
    "    # Create a minimum spanning tree using Prim's algorithm.\n",
    "    random.shuffle(vertices)\n",
    "    visited = set([vertices[0]])\n",
    "    while len(visited) < m:\n",
    "        current_vertex = random.choice(list(visited))\n",
    "        remaining_vertices = [v for v in vertices if v not in visited]\n",
    "        if not remaining_vertices:\n",
    "            break\n",
    "        next_vertex = random.choice(remaining_vertices)\n",
    "        visited.add(next_vertex)\n",
    "        edge = (current_vertex, next_vertex)\n",
    "        edges.append(edge)\n",
    "\n",
    "    # Shuffle the list of edges to randomize the order.\n",
    "    random.shuffle(edges)\n",
    "\n",
    "    # Add the edges to the graph.\n",
    "    for (start_vertex, end_vertex) in edges:\n",
    "        edge_length = float(random.randint(1.0, 1000.0))  # Modify this range as needed\n",
    "        graph[start_vertex][end_vertex] = edge_length\n",
    "        graph[end_vertex][start_vertex] = edge_length\n",
    "\n",
    "    return graph\n",
    "\n",
    "# # Example usage:\n",
    "# m = 5\n",
    "# p = 0.5  # Probability of an edge between any pair of vertices\n",
    "# connected_graph = generate_connected_graph_with_probability(m, p)\n",
    "# print(connected_graph)"
   ]
  },
  {
   "cell_type": "code",
   "execution_count": 23,
   "id": "a2274090-297a-4d1d-a061-61f2d9c04d09",
   "metadata": {},
   "outputs": [],
   "source": [
    "def furthest_point(graph, x_0):\n",
    "    distances, _ = dijkstra(graph, x_0)\n",
    "    #print(distances)\n",
    "    max_dist = max(distances.values())\n",
    "    for v in distances:\n",
    "        if distances[v] == max_dist:\n",
    "            return v"
   ]
  },
  {
   "cell_type": "code",
   "execution_count": 24,
   "id": "0b9f0cf3-fa36-4e2e-9dfa-f923ff726a74",
   "metadata": {},
   "outputs": [],
   "source": [
    "import random\n",
    "\n",
    "# Create a graph represented as a dictionary\n",
    "\n",
    "def test_lsst(m, p):\n",
    "\n",
    "    graph = generate_graph(m, p)\n",
    "    assert is_connected(graph)\n",
    "            \n",
    "    v1 = str(np.random.randint(0, m))\n",
    "    \n",
    "    #print(graph, v1)\n",
    "    return calculate_stretch(graph, v1, v1)\n",
    "\n",
    "# Example: Accessing the length of the edge between vertex '0' and '1'\n",
    "#edge_length_01 = graph['0']['1']"
   ]
  },
  {
   "cell_type": "markdown",
   "id": "c77655c9-abd6-4f3a-ad2a-8797459a63d9",
   "metadata": {},
   "source": [
    "### Check if LSST algorithm is near linear"
   ]
  },
  {
   "cell_type": "code",
   "execution_count": 27,
   "id": "90d8dfa2-638a-4bb1-8e18-52264743c04c",
   "metadata": {},
   "outputs": [
    {
     "name": "stderr",
     "output_type": "stream",
     "text": [
      "100%|██████████| 100/100 [00:00<00:00, 1895.05it/s]\n",
      "100%|██████████| 100/100 [00:00<00:00, 2040.68it/s]\n",
      "100%|██████████| 100/100 [00:00<00:00, 1961.32it/s]\n",
      "100%|██████████| 100/100 [00:00<00:00, 1988.95it/s]\n",
      "100%|██████████| 100/100 [00:00<00:00, 1698.25it/s]\n",
      "100%|██████████| 100/100 [00:00<00:00, 1821.92it/s]\n",
      "100%|██████████| 100/100 [00:00<00:00, 1855.44it/s]\n",
      "100%|██████████| 100/100 [00:00<00:00, 1931.89it/s]\n",
      "100%|██████████| 100/100 [00:00<00:00, 1859.67it/s]\n",
      "100%|██████████| 100/100 [00:00<00:00, 2002.11it/s]\n"
     ]
    },
    {
     "name": "stdout",
     "output_type": "stream",
     "text": [
      "Done with 100 vertices\n"
     ]
    },
    {
     "name": "stderr",
     "output_type": "stream",
     "text": [
      "100%|██████████| 200/200 [00:00<00:00, 809.09it/s]\n",
      "100%|██████████| 200/200 [00:00<00:00, 770.18it/s]\n",
      "100%|██████████| 200/200 [00:00<00:00, 834.52it/s]\n",
      "100%|██████████| 200/200 [00:00<00:00, 815.34it/s]\n",
      "100%|██████████| 200/200 [00:00<00:00, 836.07it/s]\n",
      "100%|██████████| 200/200 [00:00<00:00, 835.77it/s]\n",
      "100%|██████████| 200/200 [00:00<00:00, 777.93it/s]\n",
      "100%|██████████| 200/200 [00:00<00:00, 787.79it/s]\n",
      "100%|██████████| 200/200 [00:00<00:00, 830.09it/s]\n",
      "100%|██████████| 200/200 [00:00<00:00, 792.82it/s]\n"
     ]
    },
    {
     "name": "stdout",
     "output_type": "stream",
     "text": [
      "Done with 200 vertices\n"
     ]
    },
    {
     "name": "stderr",
     "output_type": "stream",
     "text": [
      "100%|██████████| 300/300 [00:00<00:00, 498.47it/s]\n",
      "100%|██████████| 300/300 [00:00<00:00, 492.76it/s]\n",
      "100%|██████████| 300/300 [00:00<00:00, 488.77it/s]\n",
      "100%|██████████| 300/300 [00:00<00:00, 489.96it/s]\n",
      "100%|██████████| 300/300 [00:00<00:00, 495.94it/s]\n",
      "100%|██████████| 300/300 [00:00<00:00, 485.42it/s]\n",
      "100%|██████████| 300/300 [00:00<00:00, 506.70it/s]\n",
      "100%|██████████| 300/300 [00:00<00:00, 504.78it/s]\n",
      "100%|██████████| 300/300 [00:00<00:00, 488.57it/s]\n",
      "100%|██████████| 300/300 [00:00<00:00, 491.73it/s]\n"
     ]
    },
    {
     "name": "stdout",
     "output_type": "stream",
     "text": [
      "Done with 300 vertices\n"
     ]
    },
    {
     "name": "stderr",
     "output_type": "stream",
     "text": [
      "100%|██████████| 400/400 [00:01<00:00, 359.81it/s]\n",
      "100%|██████████| 400/400 [00:01<00:00, 368.14it/s]\n",
      "100%|██████████| 400/400 [00:01<00:00, 349.97it/s]\n",
      "100%|██████████| 400/400 [00:01<00:00, 355.75it/s]\n",
      "100%|██████████| 400/400 [00:01<00:00, 227.86it/s]\n",
      "100%|██████████| 400/400 [00:02<00:00, 150.74it/s]\n",
      "100%|██████████| 400/400 [00:02<00:00, 145.41it/s]\n",
      "100%|██████████| 400/400 [00:02<00:00, 154.40it/s]\n",
      "100%|██████████| 400/400 [00:02<00:00, 152.46it/s]\n",
      "100%|██████████| 400/400 [00:02<00:00, 151.81it/s]\n"
     ]
    },
    {
     "name": "stdout",
     "output_type": "stream",
     "text": [
      "Done with 400 vertices\n"
     ]
    },
    {
     "name": "stderr",
     "output_type": "stream",
     "text": [
      "100%|██████████| 500/500 [00:04<00:00, 119.18it/s]\n",
      "100%|██████████| 500/500 [00:02<00:00, 245.48it/s]\n",
      "100%|██████████| 500/500 [00:01<00:00, 268.48it/s]\n",
      "100%|██████████| 500/500 [00:01<00:00, 267.48it/s]\n",
      "100%|██████████| 500/500 [00:01<00:00, 277.57it/s]\n",
      "100%|██████████| 500/500 [00:01<00:00, 270.22it/s]\n",
      "100%|██████████| 500/500 [00:01<00:00, 275.24it/s]\n",
      "100%|██████████| 500/500 [00:01<00:00, 277.63it/s]\n",
      "100%|██████████| 500/500 [00:01<00:00, 282.01it/s]\n",
      "100%|██████████| 500/500 [00:01<00:00, 278.51it/s]\n"
     ]
    },
    {
     "name": "stdout",
     "output_type": "stream",
     "text": [
      "Done with 500 vertices\n"
     ]
    },
    {
     "name": "stderr",
     "output_type": "stream",
     "text": [
      "100%|██████████| 600/600 [00:02<00:00, 220.65it/s]\n",
      "100%|██████████| 600/600 [00:02<00:00, 221.79it/s]\n",
      "100%|██████████| 600/600 [00:02<00:00, 212.35it/s]\n",
      "100%|██████████| 600/600 [00:02<00:00, 212.69it/s]\n",
      "100%|██████████| 600/600 [00:02<00:00, 210.98it/s]\n",
      "100%|██████████| 600/600 [00:03<00:00, 183.30it/s]\n",
      "100%|██████████| 600/600 [00:02<00:00, 214.56it/s]\n",
      "100%|██████████| 600/600 [00:03<00:00, 192.82it/s]\n",
      "100%|██████████| 600/600 [00:02<00:00, 208.78it/s]\n",
      "100%|██████████| 600/600 [00:02<00:00, 223.52it/s]\n"
     ]
    },
    {
     "name": "stdout",
     "output_type": "stream",
     "text": [
      "Done with 600 vertices\n"
     ]
    },
    {
     "name": "stderr",
     "output_type": "stream",
     "text": [
      "100%|██████████| 700/700 [00:03<00:00, 178.62it/s]\n",
      "100%|██████████| 700/700 [00:03<00:00, 180.92it/s]\n",
      "100%|██████████| 700/700 [00:03<00:00, 177.09it/s]\n",
      "100%|██████████| 700/700 [00:04<00:00, 155.49it/s]\n",
      "100%|██████████| 700/700 [00:03<00:00, 181.04it/s]\n",
      "100%|██████████| 700/700 [00:04<00:00, 166.61it/s]\n",
      "100%|██████████| 700/700 [00:04<00:00, 163.88it/s]\n",
      "100%|██████████| 700/700 [00:03<00:00, 177.11it/s]\n",
      "100%|██████████| 700/700 [00:03<00:00, 176.22it/s]\n",
      "100%|██████████| 700/700 [00:03<00:00, 179.73it/s]\n"
     ]
    },
    {
     "name": "stdout",
     "output_type": "stream",
     "text": [
      "Done with 700 vertices\n"
     ]
    },
    {
     "name": "stderr",
     "output_type": "stream",
     "text": [
      "100%|██████████| 800/800 [00:05<00:00, 150.92it/s]\n",
      "100%|██████████| 800/800 [00:05<00:00, 150.85it/s]\n",
      "100%|██████████| 800/800 [00:05<00:00, 157.09it/s]\n",
      "100%|██████████| 800/800 [00:05<00:00, 147.36it/s]\n",
      "100%|██████████| 800/800 [00:05<00:00, 152.84it/s]\n",
      "100%|██████████| 800/800 [00:05<00:00, 154.44it/s]\n",
      "100%|██████████| 800/800 [00:05<00:00, 157.99it/s]\n",
      "100%|██████████| 800/800 [00:06<00:00, 130.70it/s]\n",
      "100%|██████████| 800/800 [00:05<00:00, 149.98it/s]\n",
      "100%|██████████| 800/800 [00:05<00:00, 148.99it/s]\n"
     ]
    },
    {
     "name": "stdout",
     "output_type": "stream",
     "text": [
      "Done with 800 vertices\n"
     ]
    },
    {
     "name": "stderr",
     "output_type": "stream",
     "text": [
      "100%|██████████| 900/900 [00:06<00:00, 132.35it/s]\n",
      "100%|██████████| 900/900 [00:07<00:00, 121.32it/s]\n",
      "100%|██████████| 900/900 [00:07<00:00, 127.91it/s]\n",
      "100%|██████████| 900/900 [00:06<00:00, 136.86it/s]\n",
      "100%|██████████| 900/900 [00:06<00:00, 138.20it/s]\n",
      "100%|██████████| 900/900 [00:06<00:00, 136.51it/s]\n",
      "100%|██████████| 900/900 [00:06<00:00, 134.63it/s]\n",
      "100%|██████████| 900/900 [00:06<00:00, 135.54it/s]\n",
      "100%|██████████| 900/900 [00:06<00:00, 138.90it/s]\n",
      "100%|██████████| 900/900 [00:06<00:00, 136.28it/s]\n"
     ]
    },
    {
     "name": "stdout",
     "output_type": "stream",
     "text": [
      "Done with 900 vertices\n"
     ]
    },
    {
     "name": "stderr",
     "output_type": "stream",
     "text": [
      "100%|██████████| 1000/1000 [00:08<00:00, 115.04it/s]\n",
      "100%|██████████| 1000/1000 [00:08<00:00, 116.14it/s]\n",
      "100%|██████████| 1000/1000 [00:08<00:00, 116.47it/s]\n",
      "100%|██████████| 1000/1000 [00:09<00:00, 109.83it/s]\n",
      "100%|██████████| 1000/1000 [00:08<00:00, 116.01it/s]\n",
      "100%|██████████| 1000/1000 [00:08<00:00, 118.25it/s]\n",
      "100%|██████████| 1000/1000 [00:08<00:00, 112.56it/s]\n",
      "100%|██████████| 1000/1000 [00:08<00:00, 119.98it/s]\n",
      "100%|██████████| 1000/1000 [00:08<00:00, 119.42it/s]\n",
      "100%|██████████| 1000/1000 [00:08<00:00, 117.27it/s]\n"
     ]
    },
    {
     "name": "stdout",
     "output_type": "stream",
     "text": [
      "Done with 1000 vertices\n"
     ]
    },
    {
     "name": "stderr",
     "output_type": "stream",
     "text": [
      "100%|██████████| 1100/1100 [00:10<00:00, 100.20it/s]\n",
      "100%|██████████| 1100/1100 [00:10<00:00, 100.78it/s]\n",
      "100%|██████████| 1100/1100 [00:10<00:00, 106.07it/s]\n",
      "100%|██████████| 1100/1100 [00:10<00:00, 104.16it/s]\n",
      "100%|██████████| 1100/1100 [00:10<00:00, 106.38it/s]\n",
      "100%|██████████| 1100/1100 [00:10<00:00, 103.64it/s]\n",
      "100%|██████████| 1100/1100 [00:10<00:00, 103.31it/s]\n",
      "100%|██████████| 1100/1100 [00:11<00:00, 94.16it/s] \n",
      "100%|██████████| 1100/1100 [00:10<00:00, 108.10it/s]\n",
      "100%|██████████| 1100/1100 [00:10<00:00, 104.47it/s]\n"
     ]
    },
    {
     "name": "stdout",
     "output_type": "stream",
     "text": [
      "Done with 1100 vertices\n"
     ]
    },
    {
     "name": "stderr",
     "output_type": "stream",
     "text": [
      "100%|██████████| 1200/1200 [00:13<00:00, 91.17it/s] \n",
      "100%|██████████| 1200/1200 [00:13<00:00, 91.91it/s] \n",
      "100%|██████████| 1200/1200 [00:12<00:00, 93.74it/s] \n",
      "100%|██████████| 1200/1200 [00:12<00:00, 92.68it/s] \n",
      "100%|██████████| 1200/1200 [00:12<00:00, 93.60it/s] \n",
      "100%|██████████| 1200/1200 [00:12<00:00, 92.56it/s] \n",
      "100%|██████████| 1200/1200 [00:13<00:00, 92.29it/s]\n",
      "100%|██████████| 1200/1200 [00:14<00:00, 83.25it/s]\n",
      "100%|██████████| 1200/1200 [00:12<00:00, 94.55it/s] \n",
      "100%|██████████| 1200/1200 [00:12<00:00, 98.50it/s] \n"
     ]
    },
    {
     "name": "stdout",
     "output_type": "stream",
     "text": [
      "Done with 1200 vertices\n"
     ]
    },
    {
     "name": "stderr",
     "output_type": "stream",
     "text": [
      "100%|██████████| 1300/1300 [00:15<00:00, 82.92it/s]\n",
      "100%|██████████| 1300/1300 [00:15<00:00, 83.93it/s]\n",
      "100%|██████████| 1300/1300 [00:15<00:00, 84.94it/s]\n",
      "100%|██████████| 1300/1300 [00:15<00:00, 82.66it/s]\n",
      "100%|██████████| 1300/1300 [00:15<00:00, 85.35it/s]\n",
      "100%|██████████| 1300/1300 [00:15<00:00, 82.64it/s]\n",
      "100%|██████████| 1300/1300 [00:15<00:00, 85.24it/s]\n",
      "100%|██████████| 1300/1300 [00:15<00:00, 81.68it/s]\n",
      "100%|██████████| 1300/1300 [00:15<00:00, 83.68it/s]\n",
      "100%|██████████| 1300/1300 [00:15<00:00, 84.78it/s]\n"
     ]
    },
    {
     "name": "stdout",
     "output_type": "stream",
     "text": [
      "Done with 1300 vertices\n"
     ]
    },
    {
     "name": "stderr",
     "output_type": "stream",
     "text": [
      "100%|██████████| 1400/1400 [00:18<00:00, 75.11it/s]\n",
      "100%|██████████| 1400/1400 [00:17<00:00, 77.95it/s]\n",
      "100%|██████████| 1400/1400 [00:18<00:00, 75.64it/s]\n",
      "100%|██████████| 1400/1400 [00:19<00:00, 72.41it/s]\n",
      "100%|██████████| 1400/1400 [00:18<00:00, 74.20it/s]\n",
      "100%|██████████| 1400/1400 [00:18<00:00, 75.02it/s]\n",
      "100%|██████████| 1400/1400 [00:17<00:00, 81.42it/s]\n",
      "100%|██████████| 1400/1400 [00:17<00:00, 78.45it/s]\n",
      "100%|██████████| 1400/1400 [00:17<00:00, 79.48it/s]\n",
      "100%|██████████| 1400/1400 [00:18<00:00, 77.49it/s]\n"
     ]
    },
    {
     "name": "stdout",
     "output_type": "stream",
     "text": [
      "Done with 1400 vertices\n"
     ]
    },
    {
     "name": "stderr",
     "output_type": "stream",
     "text": [
      "100%|██████████| 1500/1500 [00:21<00:00, 69.83it/s]\n",
      "100%|██████████| 1500/1500 [00:21<00:00, 71.12it/s]\n",
      "100%|██████████| 1500/1500 [00:21<00:00, 70.30it/s]\n",
      "100%|██████████| 1500/1500 [00:21<00:00, 70.20it/s]\n",
      "100%|██████████| 1500/1500 [00:21<00:00, 68.75it/s]\n",
      "100%|██████████| 1500/1500 [00:20<00:00, 74.09it/s]\n",
      "100%|██████████| 1500/1500 [00:20<00:00, 73.03it/s]\n",
      "100%|██████████| 1500/1500 [00:22<00:00, 67.99it/s]\n",
      "100%|██████████| 1500/1500 [00:20<00:00, 71.55it/s]\n",
      "100%|██████████| 1500/1500 [00:21<00:00, 70.54it/s]\n"
     ]
    },
    {
     "name": "stdout",
     "output_type": "stream",
     "text": [
      "Done with 1500 vertices\n"
     ]
    },
    {
     "name": "stderr",
     "output_type": "stream",
     "text": [
      "100%|██████████| 1600/1600 [00:23<00:00, 67.68it/s]\n",
      "100%|██████████| 1600/1600 [00:24<00:00, 65.06it/s]\n",
      "100%|██████████| 1600/1600 [00:25<00:00, 62.64it/s]\n",
      "100%|██████████| 1600/1600 [00:24<00:00, 66.03it/s]\n",
      "100%|██████████| 1600/1600 [00:23<00:00, 68.33it/s]\n",
      "100%|██████████| 1600/1600 [00:23<00:00, 68.05it/s]\n",
      "100%|██████████| 1600/1600 [00:24<00:00, 66.27it/s]\n",
      "100%|██████████| 1600/1600 [00:25<00:00, 63.46it/s]\n",
      "100%|██████████| 1600/1600 [00:23<00:00, 67.99it/s]\n",
      "100%|██████████| 1600/1600 [00:24<00:00, 64.85it/s]\n"
     ]
    },
    {
     "name": "stdout",
     "output_type": "stream",
     "text": [
      "Done with 1600 vertices\n"
     ]
    },
    {
     "name": "stderr",
     "output_type": "stream",
     "text": [
      "100%|██████████| 1700/1700 [00:28<00:00, 60.51it/s]\n",
      "100%|██████████| 1700/1700 [00:27<00:00, 60.72it/s]\n",
      "100%|██████████| 1700/1700 [00:28<00:00, 59.95it/s]\n",
      "100%|██████████| 1700/1700 [00:26<00:00, 64.42it/s]\n",
      "100%|██████████| 1700/1700 [00:29<00:00, 58.34it/s]\n",
      "100%|██████████| 1700/1700 [00:28<00:00, 60.09it/s]\n",
      "100%|██████████| 1700/1700 [00:27<00:00, 62.49it/s]\n",
      "100%|██████████| 1700/1700 [00:28<00:00, 59.17it/s]\n",
      "100%|██████████| 1700/1700 [00:28<00:00, 59.20it/s]\n",
      "100%|██████████| 1700/1700 [00:28<00:00, 60.34it/s]\n"
     ]
    },
    {
     "name": "stdout",
     "output_type": "stream",
     "text": [
      "Done with 1700 vertices\n"
     ]
    },
    {
     "name": "stderr",
     "output_type": "stream",
     "text": [
      "100%|██████████| 1800/1800 [00:31<00:00, 56.69it/s]\n",
      "100%|██████████| 1800/1800 [00:34<00:00, 52.51it/s]\n",
      "100%|██████████| 1800/1800 [00:32<00:00, 54.67it/s]\n",
      "100%|██████████| 1800/1800 [00:31<00:00, 56.55it/s]\n",
      "100%|██████████| 1800/1800 [00:30<00:00, 59.21it/s]\n",
      "100%|██████████| 1800/1800 [00:30<00:00, 58.08it/s]\n",
      "100%|██████████| 1800/1800 [00:31<00:00, 58.06it/s]\n",
      "100%|██████████| 1800/1800 [00:33<00:00, 54.33it/s]\n",
      "100%|██████████| 1800/1800 [00:32<00:00, 56.17it/s]\n",
      "100%|██████████| 1800/1800 [00:31<00:00, 58.06it/s]\n"
     ]
    },
    {
     "name": "stdout",
     "output_type": "stream",
     "text": [
      "Done with 1800 vertices\n"
     ]
    },
    {
     "name": "stderr",
     "output_type": "stream",
     "text": [
      "100%|██████████| 1900/1900 [00:34<00:00, 54.50it/s]\n",
      "100%|██████████| 1900/1900 [00:35<00:00, 53.62it/s]\n",
      "100%|██████████| 1900/1900 [00:35<00:00, 53.30it/s]\n",
      "100%|██████████| 1900/1900 [00:35<00:00, 53.49it/s]\n",
      "100%|██████████| 1900/1900 [00:35<00:00, 52.80it/s]\n",
      "100%|██████████| 1900/1900 [00:34<00:00, 54.35it/s]\n",
      "100%|██████████| 1900/1900 [00:34<00:00, 54.82it/s]\n",
      "100%|██████████| 1900/1900 [00:34<00:00, 55.72it/s]\n",
      "100%|██████████| 1900/1900 [00:33<00:00, 56.42it/s]\n",
      "100%|██████████| 1900/1900 [00:34<00:00, 55.60it/s]\n"
     ]
    },
    {
     "name": "stdout",
     "output_type": "stream",
     "text": [
      "Done with 1900 vertices\n"
     ]
    },
    {
     "name": "stderr",
     "output_type": "stream",
     "text": [
      "100%|██████████| 2000/2000 [00:40<00:00, 49.42it/s]\n",
      "100%|██████████| 2000/2000 [00:38<00:00, 51.37it/s]\n",
      "100%|██████████| 2000/2000 [00:39<00:00, 50.78it/s]\n",
      "100%|██████████| 2000/2000 [00:39<00:00, 50.70it/s]\n",
      "100%|██████████| 2000/2000 [00:40<00:00, 49.57it/s]\n",
      "100%|██████████| 2000/2000 [00:41<00:00, 47.73it/s]\n",
      "100%|██████████| 2000/2000 [00:40<00:00, 49.91it/s]\n",
      "100%|██████████| 2000/2000 [00:42<00:00, 47.36it/s]\n",
      "100%|██████████| 2000/2000 [00:39<00:00, 50.52it/s]\n",
      "100%|██████████| 2000/2000 [00:38<00:00, 51.76it/s]\n"
     ]
    },
    {
     "name": "stdout",
     "output_type": "stream",
     "text": [
      "Done with 2000 vertices\n"
     ]
    },
    {
     "name": "stderr",
     "output_type": "stream",
     "text": [
      "100%|██████████| 2100/2100 [00:43<00:00, 48.24it/s]\n",
      "100%|██████████| 2100/2100 [00:43<00:00, 47.76it/s]\n",
      "100%|██████████| 2100/2100 [00:42<00:00, 49.03it/s]\n",
      "100%|██████████| 2100/2100 [00:43<00:00, 48.34it/s]\n",
      "100%|██████████| 2100/2100 [00:45<00:00, 46.51it/s]\n",
      "100%|██████████| 2100/2100 [00:46<00:00, 44.73it/s]\n",
      "100%|██████████| 2100/2100 [00:46<00:00, 44.75it/s]\n",
      "100%|██████████| 2100/2100 [00:46<00:00, 45.41it/s]\n",
      "100%|██████████| 2100/2100 [00:47<00:00, 44.00it/s]\n",
      "100%|██████████| 2100/2100 [00:45<00:00, 45.66it/s]\n"
     ]
    },
    {
     "name": "stdout",
     "output_type": "stream",
     "text": [
      "Done with 2100 vertices\n"
     ]
    },
    {
     "name": "stderr",
     "output_type": "stream",
     "text": [
      "100%|██████████| 2200/2200 [00:49<00:00, 44.38it/s]\n",
      "100%|██████████| 2200/2200 [00:50<00:00, 43.68it/s]\n",
      "100%|██████████| 2200/2200 [00:50<00:00, 43.27it/s]\n",
      "100%|██████████| 2200/2200 [00:49<00:00, 44.29it/s]\n",
      "100%|██████████| 2200/2200 [00:52<00:00, 41.68it/s]\n",
      "100%|██████████| 2200/2200 [00:50<00:00, 43.34it/s]\n",
      "100%|██████████| 2200/2200 [00:50<00:00, 43.93it/s]\n",
      "100%|██████████| 2200/2200 [00:50<00:00, 43.68it/s]\n",
      "100%|██████████| 2200/2200 [00:52<00:00, 41.94it/s]\n",
      "100%|██████████| 2200/2200 [00:51<00:00, 42.73it/s]\n"
     ]
    },
    {
     "name": "stdout",
     "output_type": "stream",
     "text": [
      "Done with 2200 vertices\n"
     ]
    },
    {
     "name": "stderr",
     "output_type": "stream",
     "text": [
      "100%|██████████| 2300/2300 [00:59<00:00, 38.89it/s]\n",
      "100%|██████████| 2300/2300 [00:55<00:00, 41.53it/s]\n",
      "100%|██████████| 2300/2300 [00:55<00:00, 41.57it/s]\n",
      "100%|██████████| 2300/2300 [00:53<00:00, 42.76it/s]\n",
      "100%|██████████| 2300/2300 [00:53<00:00, 43.22it/s]\n",
      "100%|██████████| 2300/2300 [00:53<00:00, 43.05it/s]\n",
      "100%|██████████| 2300/2300 [00:53<00:00, 43.10it/s]\n",
      "100%|██████████| 2300/2300 [00:52<00:00, 44.08it/s]\n",
      "100%|██████████| 2300/2300 [00:53<00:00, 43.23it/s]\n",
      "100%|██████████| 2300/2300 [00:55<00:00, 41.26it/s]\n"
     ]
    },
    {
     "name": "stdout",
     "output_type": "stream",
     "text": [
      "Done with 2300 vertices\n"
     ]
    },
    {
     "name": "stderr",
     "output_type": "stream",
     "text": [
      "100%|██████████| 2400/2400 [01:00<00:00, 39.73it/s]\n",
      "100%|██████████| 2400/2400 [01:00<00:00, 39.39it/s]\n",
      "100%|██████████| 2400/2400 [01:01<00:00, 39.05it/s]\n",
      "100%|██████████| 2400/2400 [01:04<00:00, 37.14it/s]\n",
      "100%|██████████| 2400/2400 [01:03<00:00, 37.86it/s]\n",
      "100%|██████████| 2400/2400 [01:05<00:00, 36.91it/s]\n",
      "100%|██████████| 2400/2400 [01:02<00:00, 38.35it/s]\n",
      "100%|██████████| 2400/2400 [01:02<00:00, 38.35it/s]\n",
      "100%|██████████| 2400/2400 [01:01<00:00, 39.28it/s]\n",
      "100%|██████████| 2400/2400 [01:01<00:00, 39.14it/s]"
     ]
    },
    {
     "name": "stdout",
     "output_type": "stream",
     "text": [
      "Done with 2400 vertices\n"
     ]
    },
    {
     "name": "stderr",
     "output_type": "stream",
     "text": [
      "\n"
     ]
    }
   ],
   "source": [
    "import time\n",
    "n = 10\n",
    "times = []\n",
    "ratios = []\n",
    "bounds = []\n",
    "\n",
    "vs = range(100, 2500, 100)\n",
    "\n",
    "for num_vertices in vs:\n",
    "    avg_time = 0\n",
    "    avg_stretch = 0\n",
    "    avg_bound = 0\n",
    "    for i in range(n):\n",
    "        #print(f'Starting trial {i + 1} of {n}')\n",
    "        p = np.log(num_vertices)/num_vertices\n",
    "\n",
    "        stretch, duration, bound = test_lsst(num_vertices, p)\n",
    "        avg_time += duration\n",
    "        avg_stretch += stretch\n",
    "        avg_bound += bound\n",
    "        #print(f'Found LSST with ratio {ratio} in {duration} seconds')\n",
    "    times.append(avg_time/n)\n",
    "    ratios.append(avg_stretch/n)\n",
    "    bounds.append(avg_bound)\n",
    "    print(f'Done with {num_vertices} vertices')\n",
    "        \n",
    "        #print(test_lsst(num_vertices, 0.1))#np.log(1000)/1000))\n",
    "            \n",
    "            \n",
    "        #print(f'LSST on graph with {num_vertices} vertices')\n",
    "        # start = time.time()\n",
    "        # print(test_lsst(num_vertices, 1))\n",
    "        # end = time.time()\n",
    "        #print(f'Took {end - start} seconds')"
   ]
  },
  {
   "cell_type": "code",
   "execution_count": 44,
   "id": "137f64ac-e380-4e4c-b7e6-6b61afa62450",
   "metadata": {},
   "outputs": [
    {
     "data": {
      "image/png": "[encoded data removed]",
      "text/plain": [
       "<Figure size 640x480 with 1 Axes>"
      ]
     },
     "metadata": {},
     "output_type": "display_data"
    }
   ],
   "source": [
    "import matplotlib.pyplot as plt\n",
    "slope = 5.7e-6\n",
    "best_fit_slope, _ = np.polyfit(bounds, times, 1)\n",
    "plt.scatter(bounds, times)\n",
    "plt.plot([0, bounds[-1]], [0, slope * bounds[-1]], color='red', linestyle='-', label=f'Slope: {slope}')\n",
    "plt.plot(bounds, np.poly1d(np.polyfit(bounds, times, 1))(bounds), color = 'purple', label = f'Slope: {round(best_fit_slope, 7)}')\n",
    "plt.title(rf'Duration vs $m\\log n \\log \\log n$') \n",
    "plt.ylabel('Duration (s)')\n",
    "plt.xlabel(r'$m\\log n \\log \\log n$')\n",
    "plt.legend()\n",
    "plt.show()"
   ]
  },
  {
   "cell_type": "code",
   "execution_count": 46,
   "id": "ee5b4476-7890-4437-84fa-c51f1503d0d3",
   "metadata": {},
   "outputs": [
    {
     "data": {
      "image/png": "[encoded data removed]",
      "text/plain": [
       "<Figure size 640x480 with 1 Axes>"
      ]
     },
     "metadata": {},
     "output_type": "display_data"
    }
   ],
   "source": [
    "import matplotlib.pyplot as plt\n",
    "slope = 0.045\n",
    "best_fit_slope, _ = np.polyfit(bounds, ratios, 1)\n",
    "plt.scatter(bounds, ratios)\n",
    "plt.plot([0, bounds[-1]], [0, slope * bounds[-1]], color='red', linestyle='-', label=f'Slope: {slope}')\n",
    "plt.plot(bounds, np.poly1d(np.polyfit(bounds, ratios, 1))(bounds), color = 'purple', label = f'Slope: {round(best_fit_slope, 3)}')\n",
    "plt.title(rf'Stretch vs $m\\log n \\log \\log n$') \n",
    "plt.ylabel('Stretch')\n",
    "plt.xlabel(r'$m\\log n \\log \\log n$')\n",
    "plt.legend()\n",
    "plt.show()"
   ]
  },
  {
   "cell_type": "code",
   "execution_count": null,
   "id": "9a76d91f-966e-4221-aa72-8a91dc578d2a",
   "metadata": {},
   "outputs": [],
   "source": [
    "ratios"
   ]
  },
  {
   "cell_type": "code",
   "execution_count": null,
   "id": "98fee3f2-205f-44ed-b95a-0df1f850a6a2",
   "metadata": {},
   "outputs": [],
   "source": [
    "times"
   ]
  },
  {
   "cell_type": "code",
   "execution_count": null,
   "id": "6f891878-7ad4-421b-8206-eda333d94491",
   "metadata": {},
   "outputs": [],
   "source": [
    "bounds"
   ]
  },
  {
   "cell_type": "code",
   "execution_count": null,
   "id": "5f06c8a6-2294-4a30-994f-3d2e2fa54dd7",
   "metadata": {},
   "outputs": [],
   "source": []
  }
 ],
 "metadata": {
  "kernelspec": {
   "display_name": "Python 3 (ipykernel)",
   "language": "python",
   "name": "python3"
  },
  "language_info": {
   "codemirror_mode": {
    "name": "ipython",
    "version": 3
   },
   "file_extension": ".py",
   "mimetype": "text/x-python",
   "name": "python",
   "nbconvert_exporter": "python",
   "pygments_lexer": "ipython3",
   "version": "3.8.13"
  }
 },
 "nbformat": 4,
 "nbformat_minor": 5
}
