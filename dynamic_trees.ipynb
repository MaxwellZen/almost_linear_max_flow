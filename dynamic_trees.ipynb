{
 "cells": [
  {
   "cell_type": "markdown",
   "id": "6174f1cf-9b61-4f3b-84dc-39cce79653a7",
   "metadata": {},
   "source": [
    "The code below is a stub for the Dynamic Tree class based on the Sleator/Tarjan 1983 paper."
   ]
  },
  {
   "cell_type": "code",
   "execution_count": 3,
   "id": "01882479-f435-44a6-b7f5-a9055ee1b8a0",
   "metadata": {},
   "outputs": [],
   "source": [
    "import heapq\n",
    "\n",
    "class DynamicTree: \n",
    "    \n",
    "    def __init__(self):\n",
    "    \n",
    "    def path(self, v):\n",
    "\n",
    "    def head(self, p): \n",
    "\n",
    "    def before(self, v):\n",
    "\n",
    "    def after(self, v):\n",
    "\n",
    "\n",
    "    def pcost(self, v):\n",
    "\n",
    "    def tail(self, p):\n",
    "\n",
    "    def reverse(self, p):\n",
    "\n",
    "    def pupdate(self, p, x):\n",
    "        \n",
    "    def pmincost(self, p):\n",
    "\n",
    "    def construct(self, v, w, x):\n",
    "\n",
    "    def destroy(self, u):\n",
    "    \n",
    "    def split(self, v):\n",
    "\n",
    "    def concatenate(self, p, q, x):\n",
    "\n",
    "    def dparent(self, v):\n",
    "    \n",
    "    def dcost(v):\n",
    "\n",
    "    def splice(self, p):\n",
    "\n",
    "    def expose(self, v):\n",
    "\n",
    "    def parent(self, v):\n",
    "\n",
    "    def root(self, v):\n",
    "\n",
    "    def cost(self, v):\n",
    "\n",
    "    def vertex_mincost(self, v):\n",
    "\n",
    "    def vertex_update(self, v, x):\n",
    "\n",
    "    def link(self, v, w, x):\n",
    "\n",
    "    def cut(self, v):\n",
    "        \n",
    "    def evert(self, v):\n",
    "        "
   ]
  }
 ],
 "metadata": {
  "kernelspec": {
   "display_name": "Python 3 (ipykernel)",
   "language": "python",
   "name": "python3"
  },
  "language_info": {
   "codemirror_mode": {
    "name": "ipython",
    "version": 3
   },
   "file_extension": ".py",
   "mimetype": "text/x-python",
   "name": "python",
   "nbconvert_exporter": "python",
   "pygments_lexer": "ipython3",
   "version": "3.8.13"
  }
 },
 "nbformat": 4,
 "nbformat_minor": 5
}
