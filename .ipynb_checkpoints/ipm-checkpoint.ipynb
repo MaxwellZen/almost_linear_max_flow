{
 "cells": [
  {
   "cell_type": "code",
   "execution_count": 6,
   "id": "847d837d-1bdc-41fe-849e-96e1f38f1318",
   "metadata": {},
   "outputs": [
    {
     "name": "stdout",
     "output_type": "stream",
     "text": [
      "Optimal f: [0.33775816 1.33771208 2.337666  ]\n",
      "Optimal Objective Value: -212.565299739053\n"
     ]
    }
   ],
   "source": [
    "##This code was all written by ChatGPT on 9/11/23\n",
    "\n",
    "import numpy as np\n",
    "from scipy.optimize import minimize\n",
    "\n",
    "# Objective function to minimize\n",
    "def objective_function(f, c, F, m, alpha, upper, lower):\n",
    "    inner_product = np.dot(c, f)\n",
    "    \n",
    "    # Check for invalid values\n",
    "    if inner_product - F <= 0:\n",
    "        return np.inf\n",
    "    \n",
    "    term1 = 20 * m * np.log(inner_product - F)\n",
    "    \n",
    "    # Check for invalid values\n",
    "    if (upper - f <= 0).any() or (f - lower <= 0).any():\n",
    "        return np.inf\n",
    "    \n",
    "    term2 = np.sum((upper - f) ** (-alpha) + (f - lower) ** (-alpha))\n",
    "    \n",
    "    return term1 + term2\n",
    "\n",
    "# Define the constraints\n",
    "constraints = ({'type': 'ineq', 'fun': lambda f: f - lower},\n",
    "               {'type': 'ineq', 'fun': lambda f: upper - f})\n",
    "\n",
    "# Initial guess for f\n",
    "initial_f = np.array([1.0, 2.0, 3.0])\n",
    "\n",
    "# Constants\n",
    "c = np.array([1.0, 2.0, 3.0])\n",
    "F = 10.0\n",
    "m = len(c)\n",
    "\n",
    "upper = np.array([5.0, 6.0, 7.0])\n",
    "lower = np.array([0.0, 1.0, 2.0])\n",
    "alpha = 0.001/(np.log(m * np.max(upper)))\n",
    "\n",
    "# Optimize the objective function\n",
    "result = minimize(objective_function, initial_f, args=(c, F, m, alpha, upper, lower),\n",
    "                  constraints=constraints, method='SLSQP')\n",
    "\n",
    "if result.success:\n",
    "    optimal_f = result.x\n",
    "    optimal_objective_value = result.fun\n",
    "    print(\"Optimal f:\", optimal_f)\n",
    "    print(\"Optimal Objective Value:\", optimal_objective_value)\n",
    "else:\n",
    "    print(\"Optimization did not converge to an optimal solution.\")\n"
   ]
  },
  {
   "cell_type": "code",
   "execution_count": null,
   "id": "948e24a2-a25a-4524-9be6-3388905bad9e",
   "metadata": {},
   "outputs": [],
   "source": []
  }
 ],
 "metadata": {
  "kernelspec": {
   "display_name": "Python 3 (ipykernel)",
   "language": "python",
   "name": "python3"
  },
  "language_info": {
   "codemirror_mode": {
    "name": "ipython",
    "version": 3
   },
   "file_extension": ".py",
   "mimetype": "text/x-python",
   "name": "python",
   "nbconvert_exporter": "python",
   "pygments_lexer": "ipython3",
   "version": "3.8.13"
  }
 },
 "nbformat": 4,
 "nbformat_minor": 5
}
