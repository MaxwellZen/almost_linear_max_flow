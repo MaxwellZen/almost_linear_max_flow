{
 "cells": [
  {
   "cell_type": "markdown",
   "id": "e694d8e7-d755-47fc-9c1e-c021141546fc",
   "metadata": {},
   "source": [
    "This code file serves as a stub for the sparsifier described in the Chen et al. paper. It is preliminary and does not reflect a full or working implementation"
   ]
  },
  {
   "cell_type": "code",
   "execution_count": 4,
   "id": "36766ca6-ee9d-4288-ae85-a8f811305b90",
   "metadata": {},
   "outputs": [],
   "source": [
    "def vol(graph, subset): #Written by ChatGPT\n",
    "    degrees = {vertex: 0 for vertex in subset}\n",
    "    \n",
    "    for vertex in graph:\n",
    "        if vertex in subset:\n",
    "            degrees[vertex] += len(graph[vertex])\n",
    "            \n",
    "            for neighbor in graph[vertex]:\n",
    "                if neighbor in subset:\n",
    "                    degrees[neighbor] += 1\n",
    "\n",
    "    return sum(degrees.values())//2"
   ]
  },
  {
   "cell_type": "code",
   "execution_count": 5,
   "id": "951108e4-19b3-4ebb-b212-043458e0ff41",
   "metadata": {},
   "outputs": [],
   "source": [
    "def edges(graph, S, T): #returns E(S, T)\n",
    "    E = []\n",
    "    for u in graph:\n",
    "        if u in S:\n",
    "            for v in graph[u]:\n",
    "                if v in T:\n",
    "                    E.append((u, v))\n",
    "    return E"
   ]
  },
  {
   "cell_type": "code",
   "execution_count": 7,
   "id": "c6185d97-d6f7-4121-88cf-756c23fa2bb2",
   "metadata": {},
   "outputs": [],
   "source": [
    "def delta(graph, S):\n",
    "    Sbar = [v for v in graph if v not in S]\n",
    "    return edges(graph, S, Sbar)"
   ]
  },
  {
   "cell_type": "code",
   "execution_count": 8,
   "id": "8af7cb64-6bfc-4bda-afcc-fcfc66aa5c36",
   "metadata": {},
   "outputs": [],
   "source": [
    "def conductance(graph, S):\n",
    "    Sbar = [v for v in graph if v not in S]\n",
    "    return delta(graph, S)/(min(vol(graph, S), vol(graph, Sbar)))"
   ]
  },
  {
   "cell_type": "code",
   "execution_count": 10,
   "id": "9c808dc5-8977-4adb-bc0d-19fd37fdd13a",
   "metadata": {},
   "outputs": [],
   "source": [
    "def add_midpoints(graph): #Written by ChatGPT\n",
    "    new_graph = {}\n",
    "\n",
    "    for vertex in graph:\n",
    "        new_graph[vertex] = {}\n",
    "        for neighbor, length in graph[vertex].items():\n",
    "            midpoint = (vertex + neighbor) / 2  # Assuming vertex and neighbor are numeric labels\n",
    "            new_graph[vertex][midpoint] = length\n",
    "            new_graph[midpoint] = {vertex: length, neighbor: length}\n",
    "\n",
    "    return new_graph"
   ]
  },
  {
   "cell_type": "code",
   "execution_count": 11,
   "id": "b34c3191-3754-4a7c-ad85-82ceca201c27",
   "metadata": {},
   "outputs": [],
   "source": [
    "def count_edges(graph): #written by ChatGPT\n",
    "    edge_count = sum(len(edges) for edges in graph.values())\n",
    "    return edge_count // 2  # Divide by 2 to avoid double counting"
   ]
  },
  {
   "cell_type": "code",
   "execution_count": null,
   "id": "b3d0b5bc-e435-4e98-9593-f4cb0a5a4156",
   "metadata": {},
   "outputs": [],
   "source": [
    "def cut_matching(G, phi):\n",
    "    G_E = add_midpoints(G)\n",
    "    A = list(G_E.keys())\n",
    "    R = {}\n",
    "    m = count_edges(graph)\n",
    "    T = np.log(m) ** 2\n",
    "    t = 1\n",
    "    while vol(R) <= m/(10*T) and t <= T:\n",
    "        t += 1\n",
    "        "
   ]
  },
  {
   "cell_type": "code",
   "execution_count": null,
   "id": "dd7fdebd-0a1d-487e-b6c1-31149f18a714",
   "metadata": {},
   "outputs": [],
   "source": [
    "def decompose(j):\n",
    "    \n",
    "\n",
    "def sparsify():\n",
    "    "
   ]
  }
 ],
 "metadata": {
  "kernelspec": {
   "display_name": "Python 3 (ipykernel)",
   "language": "python",
   "name": "python3"
  },
  "language_info": {
   "codemirror_mode": {
    "name": "ipython",
    "version": 3
   },
   "file_extension": ".py",
   "mimetype": "text/x-python",
   "name": "python",
   "nbconvert_exporter": "python",
   "pygments_lexer": "ipython3",
   "version": "3.8.13"
  }
 },
 "nbformat": 4,
 "nbformat_minor": 5
}
