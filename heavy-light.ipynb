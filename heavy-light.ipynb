{
 "cells": [
  {
   "cell_type": "code",
   "execution_count": 1,
   "id": "807f4db0-66c0-4598-bbf5-4d59aa4dd077",
   "metadata": {},
   "outputs": [
    {
     "name": "stdout",
     "output_type": "stream",
     "text": [
      "Heavy Chain 0: [0, 1, 3]\n",
      "Heavy Chain 1: [4]\n",
      "Heavy Chain 2: [2, 5]\n",
      "Heavy Chain 3: [6]\n"
     ]
    }
   ],
   "source": [
    "#Written by ChatGPT\n",
    "\n",
    "from collections import deque\n",
    "\n",
    "def heavy_light_decomposition(tree):\n",
    "    def dfs_size(v, parent):\n",
    "        subtree_size[v] = 1\n",
    "        for child in tree[v]:\n",
    "            if child != parent:\n",
    "                dfs_size(child, v)\n",
    "                subtree_size[v] += subtree_size[child]\n",
    "\n",
    "    def decompose_chain(v, chain_head, parent):\n",
    "        chain[v] = chain_head\n",
    "        pos_in_chain[v] = len(chains[chain_head])\n",
    "        chains[chain_head].append(v)\n",
    "\n",
    "        max_subtree_size_child = -1\n",
    "        heavy_child = -1\n",
    "\n",
    "        for child in tree[v]:\n",
    "            if child != parent:\n",
    "                if subtree_size[child] > max_subtree_size_child:\n",
    "                    max_subtree_size_child = subtree_size[child]\n",
    "                    heavy_child = child\n",
    "\n",
    "        if heavy_child != -1:\n",
    "            decompose_chain(heavy_child, chain_head, v)\n",
    "\n",
    "        for child in tree[v]:\n",
    "            if child != parent and child != heavy_child:\n",
    "                chains.append([])  # Initialize a new chain\n",
    "                decompose_chain(child, len(chains) - 1, v)\n",
    "\n",
    "    n = len(tree)\n",
    "    subtree_size = [0] * n\n",
    "    chain = [-1] * n\n",
    "    pos_in_chain = [-1] * n\n",
    "    chains = [[]]  # Initialize with a single empty chain\n",
    "    chain_head = 0\n",
    "\n",
    "    dfs_size(0, -1)\n",
    "    decompose_chain(0, chain_head, -1)\n",
    "\n",
    "    return chains\n",
    "\n",
    "# Example usage:\n",
    "tree = {\n",
    "    0: [1, 2],\n",
    "    1: [3, 4],\n",
    "    2: [5, 6],\n",
    "    3: [],\n",
    "    4: [],\n",
    "    5: [],\n",
    "    6: []\n",
    "}\n",
    "\n",
    "heavy_chains = heavy_light_decomposition(tree)\n",
    "for i, chain in enumerate(heavy_chains):\n",
    "    print(f\"Heavy Chain {i}: {chain}\")\n"
   ]
  },
  {
   "cell_type": "code",
   "execution_count": 23,
   "id": "dc3e15b2-fbf6-42ff-a869-2c041b5926da",
   "metadata": {},
   "outputs": [],
   "source": [
    "#heavy_light_decomposition(random_trees[10])"
   ]
  },
  {
   "cell_type": "code",
   "execution_count": 24,
   "id": "8443cf81-14cc-417e-b02f-d982d62dfffe",
   "metadata": {},
   "outputs": [],
   "source": [
    "import numpy as np\n",
    "\n",
    "def check_hl_1(random_trees):\n",
    "    for tree in random_trees:\n",
    "        heavy_chains = heavy_light_decomposition(tree)\n",
    "        arr = np.zeros(num_vertices_per_tree)\n",
    "        for chain in heavy_chains:\n",
    "            for vertex in chain:\n",
    "                arr[vertex] += 1\n",
    "        assert np.max(arr) == 1\n",
    "        assert np.min(arr) == 1\n",
    "    return True"
   ]
  },
  {
   "cell_type": "code",
   "execution_count": 25,
   "id": "3eb65e75-e290-4b10-8293-2c684de35abe",
   "metadata": {},
   "outputs": [
    {
     "data": {
      "text/plain": [
       "True"
      ]
     },
     "execution_count": 25,
     "metadata": {},
     "output_type": "execute_result"
    }
   ],
   "source": [
    "check_hl_1(random_trees)"
   ]
  },
  {
   "cell_type": "code",
   "execution_count": 90,
   "id": "cf79a6b9-12a5-4e29-a441-ba562143087a",
   "metadata": {},
   "outputs": [],
   "source": [
    "def check_hl_2(random_trees):\n",
    "    for tree in random_trees:\n",
    "        heavy_chains = heavy_light_decomposition(tree)\n",
    "        for chain in heavy_chains:\n",
    "            for vertex in chain:\n",
    "                num_children = 0\n",
    "                for child in tree[vertex]:\n",
    "                    if child in chain:\n",
    "                        num_children += 1\n",
    "                assert num_children <= 1\n",
    "    return True\n",
    "            "
   ]
  },
  {
   "cell_type": "code",
   "execution_count": 91,
   "id": "28f63406-d908-43b4-8750-01143fabc00f",
   "metadata": {},
   "outputs": [
    {
     "data": {
      "text/plain": [
       "True"
      ]
     },
     "execution_count": 91,
     "metadata": {},
     "output_type": "execute_result"
    }
   ],
   "source": [
    "check_hl_2(random_trees)"
   ]
  },
  {
   "cell_type": "code",
   "execution_count": 51,
   "id": "508cd553-f144-4372-ac87-ed6d78fc5415",
   "metadata": {},
   "outputs": [],
   "source": [
    "def check_hl_3(random_trees):\n",
    "    avg_num_intersect = 0\n",
    "    for tree in tqdm(random_trees):\n",
    "        heavy_chains = heavy_light_decomposition(tree)\n",
    "        parents = np.zeros(len(tree))\n",
    "        for i in range(len(tree)):\n",
    "            children = tree[i]\n",
    "            for child in children:\n",
    "                parents[child] = i\n",
    "                \n",
    "        for u in range(len(tree)): #will calculate u^(uparrow T)\n",
    "            u_ancestors = [u]\n",
    "            node = int(u)\n",
    "            while u_ancestors[-1] != 0:\n",
    "                u_ancestors.append(parents[node])\n",
    "                node = int(parents[node])\n",
    "            num_intersect = 0\n",
    "            for chain in heavy_chains:\n",
    "                for vertex in chain:\n",
    "                    if vertex in u_ancestors:\n",
    "                        num_intersect += 1\n",
    "                        \n",
    "            avg_num_intersect += num_intersect\n",
    "    return avg_num_intersect/(len(random_trees) * len(tree))\n",
    "            "
   ]
  },
  {
   "cell_type": "code",
   "execution_count": 42,
   "id": "dc43f99d-65a5-4d20-9288-0e275d7e9258",
   "metadata": {},
   "outputs": [
    {
     "data": {
      "text/plain": [
       "5.17854"
      ]
     },
     "execution_count": 42,
     "metadata": {},
     "output_type": "execute_result"
    }
   ],
   "source": [
    "check_hl_3(random_trees)"
   ]
  },
  {
   "cell_type": "code",
   "execution_count": 93,
   "id": "db893d77-89a2-4764-880f-6dd023119d88",
   "metadata": {},
   "outputs": [],
   "source": [
    "#Written by ChatGPT\n",
    "\n",
    "import random\n",
    "\n",
    "def generate_random_tree(num_vertices):\n",
    "    tree = [[] for _ in range(num_vertices)]\n",
    "    for i in range(1, num_vertices):\n",
    "        parent = random.randint(0, i - 1)\n",
    "        tree[parent].append(i)\n",
    "    return tree\n",
    "\n",
    "# Example usage:\n",
    "num_trees = 1000\n",
    "num_vertices_per_tree = 100  # You can adjust the number of vertices per tree\n",
    "random_trees = [generate_random_tree(num_vertices_per_tree) for _ in range(num_trees)]"
   ]
  },
  {
   "cell_type": "code",
   "execution_count": 52,
   "id": "6c98729c-1220-4d45-9c08-000e88e7e57f",
   "metadata": {},
   "outputs": [],
   "source": [
    "def check_hl(random_trees):\n",
    "    b1 = check_hl_1(random_trees)\n",
    "    print('Done with check 1')\n",
    "    b2 = check_hl_2(random_trees)\n",
    "    print('Done with check 2')\n",
    "    f = check_hl_3(random_trees)\n",
    "    if b1 == True and b2 == True:\n",
    "        return f\n",
    "    else:\n",
    "        raise ValueError('Check failed')"
   ]
  },
  {
   "cell_type": "code",
   "execution_count": 50,
   "id": "c1f1d0e0-0e0a-4413-94f6-ac74af1e6e1a",
   "metadata": {},
   "outputs": [],
   "source": [
    "from tqdm import tqdm"
   ]
  },
  {
   "cell_type": "code",
   "execution_count": 96,
   "id": "4c36845b-ec88-49ab-ad23-8cc209be4dc5",
   "metadata": {},
   "outputs": [
    {
     "name": "stdout",
     "output_type": "stream",
     "text": [
      "Done with check 1\n",
      "Done with check 2\n"
     ]
    },
    {
     "name": "stderr",
     "output_type": "stream",
     "text": [
      "100%|██████████| 1000/1000 [00:00<00:00, 34361.52it/s]\n"
     ]
    },
    {
     "name": "stdout",
     "output_type": "stream",
     "text": [
      "Done with 10\n",
      "Done with check 1\n",
      "Done with check 2\n"
     ]
    },
    {
     "name": "stderr",
     "output_type": "stream",
     "text": [
      "100%|██████████| 1000/1000 [00:00<00:00, 8198.42it/s]"
     ]
    },
    {
     "name": "stdout",
     "output_type": "stream",
     "text": [
      "Done with 25\n"
     ]
    },
    {
     "name": "stderr",
     "output_type": "stream",
     "text": [
      "\n"
     ]
    },
    {
     "name": "stdout",
     "output_type": "stream",
     "text": [
      "Done with check 1\n",
      "Done with check 2\n"
     ]
    },
    {
     "name": "stderr",
     "output_type": "stream",
     "text": [
      "100%|██████████| 1000/1000 [00:00<00:00, 2369.31it/s]\n"
     ]
    },
    {
     "name": "stdout",
     "output_type": "stream",
     "text": [
      "Done with 50\n",
      "Done with check 1\n",
      "Done with check 2\n"
     ]
    },
    {
     "name": "stderr",
     "output_type": "stream",
     "text": [
      "100%|██████████| 1000/1000 [00:00<00:00, 1078.80it/s]\n"
     ]
    },
    {
     "name": "stdout",
     "output_type": "stream",
     "text": [
      "Done with 75\n",
      "Done with check 1\n",
      "Done with check 2\n"
     ]
    },
    {
     "name": "stderr",
     "output_type": "stream",
     "text": [
      "100%|██████████| 1000/1000 [00:01<00:00, 613.42it/s]\n"
     ]
    },
    {
     "name": "stdout",
     "output_type": "stream",
     "text": [
      "Done with 100\n",
      "Done with check 1\n",
      "Done with check 2\n"
     ]
    },
    {
     "name": "stderr",
     "output_type": "stream",
     "text": [
      "100%|██████████| 1000/1000 [00:10<00:00, 94.36it/s]\n"
     ]
    },
    {
     "name": "stdout",
     "output_type": "stream",
     "text": [
      "Done with 250\n",
      "Done with check 1\n",
      "Done with check 2\n"
     ]
    },
    {
     "name": "stderr",
     "output_type": "stream",
     "text": [
      "100%|██████████| 1000/1000 [00:45<00:00, 22.07it/s]\n"
     ]
    },
    {
     "name": "stdout",
     "output_type": "stream",
     "text": [
      "Done with 500\n",
      "Done with check 1\n",
      "Done with check 2\n"
     ]
    },
    {
     "name": "stderr",
     "output_type": "stream",
     "text": [
      "100%|██████████| 1000/1000 [01:46<00:00,  9.37it/s]\n"
     ]
    },
    {
     "name": "stdout",
     "output_type": "stream",
     "text": [
      "Done with 750\n",
      "Done with check 1\n",
      "Done with check 2\n"
     ]
    },
    {
     "name": "stderr",
     "output_type": "stream",
     "text": [
      "100%|██████████| 1000/1000 [03:13<00:00,  5.16it/s]\n"
     ]
    },
    {
     "name": "stdout",
     "output_type": "stream",
     "text": [
      "Done with 1000\n",
      "Done with check 1\n",
      "Done with check 2\n"
     ]
    },
    {
     "name": "stderr",
     "output_type": "stream",
     "text": [
      "100%|██████████| 1000/1000 [07:33<00:00,  2.20it/s]\n"
     ]
    },
    {
     "name": "stdout",
     "output_type": "stream",
     "text": [
      "Done with 1500\n",
      "Done with check 1\n",
      "Done with check 2\n"
     ]
    },
    {
     "name": "stderr",
     "output_type": "stream",
     "text": [
      "100%|██████████| 1000/1000 [13:49<00:00,  1.21it/s]\n"
     ]
    },
    {
     "name": "stdout",
     "output_type": "stream",
     "text": [
      "Done with 2000\n",
      "Done with check 1\n",
      "Done with check 2\n"
     ]
    },
    {
     "name": "stderr",
     "output_type": "stream",
     "text": [
      "100%|██████████| 1000/1000 [22:05<00:00,  1.33s/it]"
     ]
    },
    {
     "name": "stdout",
     "output_type": "stream",
     "text": [
      "Done with 2500\n"
     ]
    },
    {
     "name": "stderr",
     "output_type": "stream",
     "text": [
      "\n"
     ]
    }
   ],
   "source": [
    "num_vertices = [10, 25, 50, 75, 100, 250, 500, 750, 1000, 1500, 2000, 2500]\n",
    "floats = []\n",
    "for num_vertices_per_tree in num_vertices:\n",
    "    random_trees = [generate_random_tree(num_vertices_per_tree) for _ in range(num_trees)]\n",
    "    floats.append(check_hl(random_trees))\n",
    "    print(f'Done with {num_vertices_per_tree}')"
   ]
  },
  {
   "cell_type": "code",
   "execution_count": 108,
   "id": "964b1cd7-e841-41db-8cff-eae388588608",
   "metadata": {},
   "outputs": [
    {
     "data": {
      "image/png": "[encoded data removed]",
      "text/plain": [
       "<Figure size 640x480 with 1 Axes>"
      ]
     },
     "metadata": {},
     "output_type": "display_data"
    }
   ],
   "source": [
    "import matplotlib.pyplot as plt\n",
    "plt.scatter(np.log(num_vertices), floats)\n",
    "plt.xlabel(rf'$\\log n$')\n",
    "plt.ylabel('avg intersections')\n",
    "plt.title('Average Intersections vs log n')\n",
    "slope = 1.15\n",
    "plt.plot([2, np.log(num_vertices[-1])], [floats[0], slope * np.log(num_vertices[-1])], color='red', linestyle='-', label=f'Slope: {slope}')\n",
    "plt.legend()\n",
    "plt.show()"
   ]
  },
  {
   "cell_type": "code",
   "execution_count": 109,
   "id": "6c22ec67-d835-4fc0-adcf-46675c53f4ee",
   "metadata": {},
   "outputs": [
    {
     "data": {
      "text/plain": [
       "array([1.276, 1.196, 1.144, 1.134, 1.126, 1.103, 1.092, 1.09 , 1.084,\n",
       "       1.081, 1.079, 1.072])"
      ]
     },
     "execution_count": 109,
     "metadata": {},
     "output_type": "execute_result"
    }
   ],
   "source": [
    "np.round(floats/np.log(num_vertices), 3)"
   ]
  },
  {
   "cell_type": "code",
   "execution_count": 136,
   "id": "260a0c77-cca9-407b-b795-4d87646b80bd",
   "metadata": {},
   "outputs": [],
   "source": [
    "import time\n",
    "\n",
    "def time_hl(num_vertices):\n",
    "    num_trees = 2000\n",
    "    avg_times = []\n",
    "    for n in num_vertices:\n",
    "        avg_time = 0\n",
    "        random_trees = [generate_random_tree(n) for _ in range(num_trees)]\n",
    "        for tree in tqdm(random_trees):\n",
    "            start = time.time()\n",
    "            chains = heavy_light_decomposition(tree)\n",
    "            end = time.time()\n",
    "            avg_time = avg_time + end - start\n",
    "        avg_times.append(avg_time/num_trees)\n",
    "        print(f'Done with {n} vertices')\n",
    "    return avg_times"
   ]
  },
  {
   "cell_type": "code",
   "execution_count": 137,
   "id": "b8cd3a13-a27e-4a9f-aace-50804aea3829",
   "metadata": {},
   "outputs": [
    {
     "name": "stderr",
     "output_type": "stream",
     "text": [
      "100%|██████████| 2000/2000 [00:01<00:00, 1296.72it/s]\n"
     ]
    },
    {
     "name": "stdout",
     "output_type": "stream",
     "text": [
      "Done with 1000 vertices\n"
     ]
    },
    {
     "name": "stderr",
     "output_type": "stream",
     "text": [
      "100%|██████████| 2000/2000 [00:03<00:00, 629.21it/s]\n"
     ]
    },
    {
     "name": "stdout",
     "output_type": "stream",
     "text": [
      "Done with 2000 vertices\n"
     ]
    },
    {
     "name": "stderr",
     "output_type": "stream",
     "text": [
      "100%|██████████| 2000/2000 [00:04<00:00, 418.69it/s]\n"
     ]
    },
    {
     "name": "stdout",
     "output_type": "stream",
     "text": [
      "Done with 3000 vertices\n"
     ]
    },
    {
     "name": "stderr",
     "output_type": "stream",
     "text": [
      "100%|██████████| 2000/2000 [00:07<00:00, 272.98it/s]\n"
     ]
    },
    {
     "name": "stdout",
     "output_type": "stream",
     "text": [
      "Done with 4000 vertices\n"
     ]
    },
    {
     "name": "stderr",
     "output_type": "stream",
     "text": [
      "100%|██████████| 2000/2000 [00:09<00:00, 204.07it/s]\n"
     ]
    },
    {
     "name": "stdout",
     "output_type": "stream",
     "text": [
      "Done with 5000 vertices\n"
     ]
    },
    {
     "name": "stderr",
     "output_type": "stream",
     "text": [
      "100%|██████████| 2000/2000 [00:11<00:00, 170.19it/s]\n"
     ]
    },
    {
     "name": "stdout",
     "output_type": "stream",
     "text": [
      "Done with 6000 vertices\n"
     ]
    },
    {
     "name": "stderr",
     "output_type": "stream",
     "text": [
      "100%|██████████| 2000/2000 [00:13<00:00, 147.15it/s]\n"
     ]
    },
    {
     "name": "stdout",
     "output_type": "stream",
     "text": [
      "Done with 7000 vertices\n"
     ]
    },
    {
     "name": "stderr",
     "output_type": "stream",
     "text": [
      "100%|██████████| 2000/2000 [00:15<00:00, 130.56it/s]\n"
     ]
    },
    {
     "name": "stdout",
     "output_type": "stream",
     "text": [
      "Done with 8000 vertices\n"
     ]
    },
    {
     "name": "stderr",
     "output_type": "stream",
     "text": [
      "100%|██████████| 2000/2000 [00:18<00:00, 109.83it/s]\n"
     ]
    },
    {
     "name": "stdout",
     "output_type": "stream",
     "text": [
      "Done with 9000 vertices\n"
     ]
    },
    {
     "name": "stderr",
     "output_type": "stream",
     "text": [
      "100%|██████████| 2000/2000 [00:19<00:00, 100.99it/s]"
     ]
    },
    {
     "name": "stdout",
     "output_type": "stream",
     "text": [
      "Done with 10000 vertices\n"
     ]
    },
    {
     "name": "stderr",
     "output_type": "stream",
     "text": [
      "\n"
     ]
    }
   ],
   "source": [
    "num_vertices = [1000, 2000, 3000, 4000, 5000, 6000, 7000, 8000, 9000, 10000]\n",
    "durations = time_hl(num_vertices)"
   ]
  },
  {
   "cell_type": "code",
   "execution_count": 165,
   "id": "6830ce96-70fb-4df8-8a38-2ac5e0622819",
   "metadata": {},
   "outputs": [
    {
     "data": {
      "image/png": "[encoded data removed]",
      "text/plain": [
       "<Figure size 640x480 with 1 Axes>"
      ]
     },
     "metadata": {},
     "output_type": "display_data"
    }
   ],
   "source": [
    "plt.scatter(num_vertices, np.array(durations))\n",
    "slope = 1.1e-6\n",
    "plt.plot([1000, num_vertices[-1]], [durations[0], slope * num_vertices[-1]], color='red', linestyle='-', label=f'Slope: {slope}')\n",
    "plt.legend()\n",
    "plt.xlabel('n')\n",
    "plt.ylabel('duration (seconds)')\n",
    "plt.title('Heavy Light Decomposition Duration')\n",
    "plt.show()"
   ]
  },
  {
   "cell_type": "markdown",
   "id": "65034c5f-682f-406f-83e6-bb5a8d66780d",
   "metadata": {},
   "source": [
    "## Rooted Trees"
   ]
  },
  {
   "cell_type": "code",
   "execution_count": 6,
   "id": "940e24d7-959a-41fa-a300-055fa07f0fc9",
   "metadata": {},
   "outputs": [
    {
     "name": "stdout",
     "output_type": "stream",
     "text": [
      "BST for Chain 0:\n",
      "0\n",
      "1\n",
      "3\n",
      "8\n",
      "11\n",
      "BST for Chain 1:\n",
      "7\n",
      "BST for Chain 2:\n",
      "4\n",
      "BST for Chain 3:\n",
      "2\n",
      "5\n",
      "9\n",
      "BST for Chain 4:\n",
      "10\n",
      "BST for Chain 5:\n",
      "6\n"
     ]
    }
   ],
   "source": [
    "#Written by ChatGPT\n",
    "\n",
    "from collections import defaultdict\n",
    "\n",
    "class TreeNode:\n",
    "    def __init__(self, val):\n",
    "        self.val = val\n",
    "        self.left = None\n",
    "        self.right = None\n",
    "\n",
    "def build_balanced_bst(vertices):\n",
    "    def build_bst(left, right):\n",
    "        if left > right:\n",
    "            return None\n",
    "\n",
    "        mid = (left + right) // 2\n",
    "        root = TreeNode(vertices[mid])\n",
    "        root.left = build_bst(left, mid - 1)\n",
    "        root.right = build_bst(mid + 1, right)\n",
    "\n",
    "        return root\n",
    "\n",
    "    n = len(vertices)\n",
    "    return build_bst(0, n - 1)\n",
    "\n",
    "def construct_tree_from_decomposition(tree, heavy_chains):\n",
    "    path_to_bst = {}\n",
    "    for chain_id, chain in enumerate(heavy_chains):\n",
    "        vertices = []\n",
    "\n",
    "        # Extract vertices for the chain\n",
    "        for vertex in chain:\n",
    "            vertices.append(vertex)\n",
    "\n",
    "        # Build a balanced BST for the chain\n",
    "        bst = build_balanced_bst(vertices)\n",
    "\n",
    "        # Store the BST for the chain\n",
    "        path_to_bst[chain_id] = bst\n",
    "\n",
    "    return path_to_bst\n",
    "\n",
    "def print_bst(root):\n",
    "    if root:\n",
    "        print_bst(root.left)\n",
    "        print(root.val)\n",
    "        print_bst(root.right)\n",
    "\n",
    "\n",
    "# Example usage:\n",
    "tree = {\n",
    "    0: [1, 2],\n",
    "    1: [3, 4],\n",
    "    2: [5, 6],\n",
    "    3: [7, 8],\n",
    "    4: [],\n",
    "    5: [9, 10],\n",
    "    6: [],\n",
    "    7: [],\n",
    "    8: [11],\n",
    "    9: [],\n",
    "    10: [],\n",
    "    11: []\n",
    "}\n",
    "\n",
    "heavy_chains = heavy_light_decomposition(tree)\n",
    "path_to_bst = construct_tree_from_decomposition(tree, heavy_chains)\n",
    "\n",
    "# Now you can access the balanced BSTs for each chain using path_to_bst\n",
    "for chain_id, bst in path_to_bst.items():\n",
    "    print(f\"BST for Chain {chain_id}:\")\n",
    "    print_bst(bst)\n",
    "\n"
   ]
  },
  {
   "cell_type": "code",
   "execution_count": null,
   "id": "d98e2b78-3ed0-4ef5-aed9-8916162d1fba",
   "metadata": {},
   "outputs": [],
   "source": []
  }
 ],
 "metadata": {
  "kernelspec": {
   "display_name": "Python 3 (ipykernel)",
   "language": "python",
   "name": "python3"
  },
  "language_info": {
   "codemirror_mode": {
    "name": "ipython",
    "version": 3
   },
   "file_extension": ".py",
   "mimetype": "text/x-python",
   "name": "python",
   "nbconvert_exporter": "python",
   "pygments_lexer": "ipython3",
   "version": "3.8.13"
  }
 },
 "nbformat": 4,
 "nbformat_minor": 5
}
